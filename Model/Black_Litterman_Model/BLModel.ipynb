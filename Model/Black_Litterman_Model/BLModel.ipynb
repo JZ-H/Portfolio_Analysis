{
 "cells": [
  {
   "cell_type": "code",
   "execution_count": 1,
   "metadata": {},
   "outputs": [],
   "source": [
    "import pandas as pd\n",
    "import numpy as np\n",
    "from scipy.optimize import minimize\n",
    "from numpy.linalg import inv\n",
    "import sys\n",
    "sys.path.append('../../')\n",
    "from PortfolioAnalysis import Backtest\n",
    "from PortfolioAnalysis import Model"
   ]
  },
  {
   "cell_type": "code",
   "execution_count": 2,
   "metadata": {
    "scrolled": true
   },
   "outputs": [],
   "source": [
    "class BL:\n",
    "    '''\n",
    "    Black-Litterman is used to get the final combination weight\n",
    "    Input:\n",
    "    \n",
    "    \n",
    "    \n",
    "    '''\n",
    "    \n",
    "    def __init__(self, df_date, df_history, df_fr, market_view, sub_view, Q,tau=1, LC=np.array([[0.8]])):\n",
    "        self.df_date = df_date\n",
    "        self.df_history = df_history\n",
    "        self.df_fr = df_fr\n",
    "        self.Q = Q\n",
    "\n",
    "        self.market_view = np.array(market_view)\n",
    "        self.sub_view = np.array(sub_view)        \n",
    "        \n",
    "        # 风险厌恶系数\n",
    "        df_r = np.log(df_history/df_history.shift(1)).dropna()\n",
    "        market_r = (self.market_view*np.array(df_r))\n",
    "        E_r = market_r.sum(axis = 1).sum(axis = 0)\n",
    "        mean_fr = df_fr.mean()\n",
    "        market_sigma = np.std(market_r.sum(axis=1))\n",
    "        Lambda = ((E_r-mean_fr)/(market_sigma))[0]\n",
    "        self.Lambda = Lambda\n",
    "        \n",
    "        \n",
    "        \n",
    "        # 先验收益率（n*1） = Lambda*协方差矩阵（n*n）*权重（n*1）\n",
    "        market_cov = np.array(df_r.corr())\n",
    "        Prod = Lambda * np.dot(market_cov , market_view.T)\n",
    "        self.Prod = Prod\n",
    "        \n",
    "        \n",
    "        # 观点误差矩阵\n",
    "        P = (sub_view.sum(axis=0))\n",
    "        CF = np.dot(np.dot(P,market_cov),P.T)\n",
    "        Omega = CF/LC\n",
    "        self.Omega = Omega\n",
    "\n",
    "        \n",
    "        # 后验收益率 E(R)\n",
    "        E_R = np.dot(np.linalg.inv(inv(tau*market_cov)+\\\n",
    "                                   np.dot(np.dot(sub_view.T,inv(Omega)),sub_view)),\n",
    "                         np.dot(inv(tau*market_cov),Prod)+\\\n",
    "                              np.dot(np.dot(sub_view.T,inv(Omega)),Q))\n",
    "        self.E_R = E_R\n",
    "        \n",
    "        # BL协方差矩阵\n",
    "        Cov_BL = inv(inv(tau*market_cov)+np.dot(np.dot(sub_view.T,inv(Omega)),sub_view))\n",
    "        self.Cov_BL = Cov_BL\n",
    "    \n",
    "    def optimize(self, output=True):\n",
    "        \n",
    "        def utility(w):\n",
    "            u = (w.T.dot(self.E_R)-(self.Lambda/2)*np.dot(w.T,self.Cov_BL).dot(w))\n",
    "            return -u\n",
    "        \n",
    "        \n",
    "        w = np.array([1/15,]*15)\n",
    "        \n",
    "        cons = ({'type': 'eq', 'fun': lambda w: w.sum() - 1},\\\n",
    "                {'type': 'ineq', 'fun': lambda w: w[0] + 0.2},\\\n",
    "                {'type': 'ineq', 'fun': lambda w: 1 - w[0]},\\\n",
    "                {'type': 'ineq', 'fun': lambda w: w[1] + 0.2},\\\n",
    "                {'type': 'ineq', 'fun': lambda w: 1 - w[1]},\\\n",
    "                {'type': 'ineq', 'fun': lambda w: w[2] + 0.2},\\\n",
    "                {'type': 'ineq', 'fun': lambda w: 1 - w[2]},\\\n",
    "                {'type': 'ineq', 'fun': lambda w: w[3] + 0.2},\\\n",
    "                {'type': 'ineq', 'fun': lambda w: 1 - w[3]},\\\n",
    "                {'type': 'ineq', 'fun': lambda w: w[4] + 0.2},\\\n",
    "                {'type': 'ineq', 'fun': lambda w: 1 - w[4]},\\\n",
    "                {'type': 'ineq', 'fun': lambda w: w[5] + 0.2},\\\n",
    "                {'type': 'ineq', 'fun': lambda w: 1 - w[5]},\\\n",
    "                {'type': 'ineq', 'fun': lambda w: w[6] + 0.2},\\\n",
    "                {'type': 'ineq', 'fun': lambda w: 1 - w[6]},\\\n",
    "                {'type': 'ineq', 'fun': lambda w: w[7] + 0.2},\\\n",
    "                {'type': 'ineq', 'fun': lambda w: 1 - w[7]},\\\n",
    "                {'type': 'ineq', 'fun': lambda w: w[8] + 0.2},\\\n",
    "                {'type': 'ineq', 'fun': lambda w: 1 - w[8]},\\\n",
    "                {'type': 'ineq', 'fun': lambda w: w[9] + 0.2},\\\n",
    "                {'type': 'ineq', 'fun': lambda w: 1 - w[9]},\\\n",
    "                {'type': 'ineq', 'fun': lambda w: w[10] + 0.2},\\\n",
    "                {'type': 'ineq', 'fun': lambda w: 1 - w[10]},\\\n",
    "                {'type': 'ineq', 'fun': lambda w: w[11] + 0.2},\\\n",
    "                {'type': 'ineq', 'fun': lambda w: 1 - w[11]},\\\n",
    "                {'type': 'ineq', 'fun': lambda w: w[12] + 0.2},\\\n",
    "                {'type': 'ineq', 'fun': lambda w: 1 - w[12]},\\\n",
    "                {'type': 'ineq', 'fun': lambda w: w[13] + 0.2},\\\n",
    "                {'type': 'ineq', 'fun': lambda w: 1 - w[13]},\\\n",
    "                {'type': 'ineq', 'fun': lambda w: w[14] + 0.2},\\\n",
    "                {'type': 'ineq', 'fun': lambda w: 1 - w[14]})\n",
    "        # optimization\n",
    "        res = minimize(utility,w,constraints=cons,tol = 1e-10)\n",
    "        \n",
    "        # output\n",
    "        if output:\n",
    "            print(\"Status: \"+str(res.message))\n",
    "        return res.x\n",
    "        \n",
    "        "
   ]
  },
  {
   "cell_type": "code",
   "execution_count": 34,
   "metadata": {},
   "outputs": [],
   "source": [
    "market_view = pd.read_csv(\"../Risk_Parity_Model/view.csv\",index_col = 0)\n",
    "sub_view = pd.read_csv(\"../Subjective_View_Setting/Subjective_View.csv\",index_col = 0)\n",
    "df_history = pd.read_excel(\"../../Data/Index.xls\",index_col=0).dropna()\n",
    "df_history.drop([\"信息技术指数\",\"金融指数\",\"中债-国开行债券总财富(7-10年)指数\",\"可选消费指数\",\"房地产指数\"],axis=1,inplace=True)\n",
    "\n",
    "\n",
    "df_date = market_view.index\n",
    "df_fr = pd.DataFrame(np.repeat(0,1134))"
   ]
  },
  {
   "cell_type": "code",
   "execution_count": null,
   "metadata": {},
   "outputs": [],
   "source": []
  },
  {
   "cell_type": "code",
   "execution_count": 53,
   "metadata": {},
   "outputs": [
    {
     "name": "stdout",
     "output_type": "stream",
     "text": [
      "count = 0\n",
      "Status: Optimization terminated successfully.\n",
      "count = 1\n",
      "Status: Optimization terminated successfully.\n",
      "count = 2\n",
      "Status: Optimization terminated successfully.\n",
      "count = 3\n",
      "Status: Optimization terminated successfully.\n",
      "count = 4\n",
      "Status: Optimization terminated successfully.\n",
      "count = 5\n",
      "Status: Optimization terminated successfully.\n",
      "count = 6\n",
      "Status: Optimization terminated successfully.\n",
      "count = 7\n",
      "Status: Optimization terminated successfully.\n",
      "count = 8\n",
      "Status: Optimization terminated successfully.\n",
      "count = 9\n",
      "Status: Optimization terminated successfully.\n",
      "count = 10\n",
      "Status: Optimization terminated successfully.\n",
      "count = 11\n",
      "Status: Optimization terminated successfully.\n",
      "count = 12\n",
      "Status: Optimization terminated successfully.\n",
      "count = 13\n",
      "Status: Optimization terminated successfully.\n",
      "count = 14\n",
      "Status: Optimization terminated successfully.\n",
      "count = 15\n",
      "Status: Optimization terminated successfully.\n",
      "count = 16\n",
      "Status: Optimization terminated successfully.\n",
      "count = 17\n",
      "Status: Optimization terminated successfully.\n",
      "count = 18\n"
     ]
    }
   ],
   "source": [
    "BL_weight = []\n",
    "start = 0\n",
    "while(1):\n",
    "    print(\"count = %d\"%int(start/63))\n",
    "    if(start+63>len(df_date)):\n",
    "        break\n",
    "    market_view_rw = np.array(market_view.iloc[start,:])\n",
    "    sub_view_rw = np.array(sub_view.iloc[start,:-1]).reshape(1,15)\n",
    "    Q = np.array([sub_view.iloc[start,-1]])\n",
    "\n",
    "    BLM = BL(df_date[start:start+63], df_history[start:start+252*6], df_fr[start:start+63],market_view_rw, sub_view_rw, Q,tau=1.2)\n",
    "\n",
    "    BL_weight.append(BLM.optimize())\n",
    "    start+=63"
   ]
  },
  {
   "cell_type": "code",
   "execution_count": 54,
   "metadata": {},
   "outputs": [],
   "source": [
    "view = np.array(BL_weight)\n",
    "view = np.repeat(view,63,axis=0)"
   ]
  },
  {
   "cell_type": "code",
   "execution_count": null,
   "metadata": {},
   "outputs": [],
   "source": []
  },
  {
   "cell_type": "code",
   "execution_count": 55,
   "metadata": {},
   "outputs": [
    {
     "data": {
      "text/html": [
       "<div>\n",
       "<style scoped>\n",
       "    .dataframe tbody tr th:only-of-type {\n",
       "        vertical-align: middle;\n",
       "    }\n",
       "\n",
       "    .dataframe tbody tr th {\n",
       "        vertical-align: top;\n",
       "    }\n",
       "\n",
       "    .dataframe thead th {\n",
       "        text-align: right;\n",
       "    }\n",
       "</style>\n",
       "<table border=\"1\" class=\"dataframe\">\n",
       "  <thead>\n",
       "    <tr style=\"text-align: right;\">\n",
       "      <th></th>\n",
       "      <th>Sharpe</th>\n",
       "      <th>Annualized Return</th>\n",
       "      <th>Annualized Volatility</th>\n",
       "      <th>Maximum Drawdown</th>\n",
       "    </tr>\n",
       "  </thead>\n",
       "  <tbody>\n",
       "    <tr>\n",
       "      <th>Value</th>\n",
       "      <td>0.6668</td>\n",
       "      <td>0.041476</td>\n",
       "      <td>0.062202</td>\n",
       "      <td>0.046144</td>\n",
       "    </tr>\n",
       "  </tbody>\n",
       "</table>\n",
       "</div>"
      ],
      "text/plain": [
       "       Sharpe  Annualized Return  Annualized Volatility  Maximum Drawdown\n",
       "Value  0.6668           0.041476               0.062202          0.046144"
      ]
     },
     "execution_count": 55,
     "metadata": {},
     "output_type": "execute_result"
    }
   ],
   "source": [
    "BT = Backtest.Backtest(df_date, df_history[252*6:252*6+63*18], pd.DataFrame(view), df_fr, 'D')\n",
    "BT.get_info()"
   ]
  },
  {
   "cell_type": "code",
   "execution_count": 46,
   "metadata": {},
   "outputs": [],
   "source": [
    "df_bm = pd.DataFrame(np.repeat(np.array([[1/15,]*15]),63*18,axis=0))"
   ]
  },
  {
   "cell_type": "code",
   "execution_count": 47,
   "metadata": {},
   "outputs": [
    {
     "data": {
      "text/html": [
       "<div>\n",
       "<style scoped>\n",
       "    .dataframe tbody tr th:only-of-type {\n",
       "        vertical-align: middle;\n",
       "    }\n",
       "\n",
       "    .dataframe tbody tr th {\n",
       "        vertical-align: top;\n",
       "    }\n",
       "\n",
       "    .dataframe thead th {\n",
       "        text-align: right;\n",
       "    }\n",
       "</style>\n",
       "<table border=\"1\" class=\"dataframe\">\n",
       "  <thead>\n",
       "    <tr style=\"text-align: right;\">\n",
       "      <th></th>\n",
       "      <th>Sharpe</th>\n",
       "      <th>Annualized Return</th>\n",
       "      <th>Annualized Volatility</th>\n",
       "      <th>Maximum Drawdown</th>\n",
       "    </tr>\n",
       "  </thead>\n",
       "  <tbody>\n",
       "    <tr>\n",
       "      <th>Value</th>\n",
       "      <td>0.021748</td>\n",
       "      <td>0.025452</td>\n",
       "      <td>1.170299</td>\n",
       "      <td>0.298374</td>\n",
       "    </tr>\n",
       "  </tbody>\n",
       "</table>\n",
       "</div>"
      ],
      "text/plain": [
       "         Sharpe  Annualized Return  Annualized Volatility  Maximum Drawdown\n",
       "Value  0.021748           0.025452               1.170299          0.298374"
      ]
     },
     "execution_count": 47,
     "metadata": {},
     "output_type": "execute_result"
    }
   ],
   "source": [
    "BTM = Backtest.Backtest(df_date, df_history[252*6:252*6+63*18], df_bm, df_fr, 'D')\n",
    "BTM.get_info()"
   ]
  },
  {
   "cell_type": "code",
   "execution_count": 48,
   "metadata": {},
   "outputs": [
    {
     "data": {
      "image/png": "[encoded data removed]",
      "text/plain": [
       "<Figure size 1296x288 with 1 Axes>"
      ]
     },
     "metadata": {
      "needs_background": "light"
     },
     "output_type": "display_data"
    }
   ],
   "source": [
    "Backtest.Plot2(df_date,BT.df_asset,BTM.df_asset,\"Return\",\"BT\",\"BTM\")"
   ]
  },
  {
   "cell_type": "code",
   "execution_count": 49,
   "metadata": {},
   "outputs": [],
   "source": [
    "Asset = pd.DataFrame([BT.df_asset,BTM.df_asset]).T\n",
    "Asset.index = df_date\n",
    "Asset.columns = ['BL','Market']\n",
    "\n",
    "Asset.to_csv(\"BL_Asset.csv\")\n",
    "\n",
    "pd.DataFrame(view,index = df_date).to_csv(\"view.csv\")"
   ]
  },
  {
   "cell_type": "code",
   "execution_count": 245,
   "metadata": {},
   "outputs": [],
   "source": []
  }
 ],
 "metadata": {
  "kernelspec": {
   "display_name": "Python 3",
   "language": "python",
   "name": "python3"
  },
  "language_info": {
   "codemirror_mode": {
    "name": "ipython",
    "version": 3
   },
   "file_extension": ".py",
   "mimetype": "text/x-python",
   "name": "python",
   "nbconvert_exporter": "python",
   "pygments_lexer": "ipython3",
   "version": "3.7.4"
  }
 },
 "nbformat": 4,
 "nbformat_minor": 4
}
