{
 "cells": [
  {
   "cell_type": "code",
   "execution_count": 285,
   "metadata": {},
   "outputs": [],
   "source": [
    "import pandas as pd\n",
    "import numpy as np\n",
    "from scipy import optimize\n",
    "import sys\n",
    "sys.path.append('../../')\n",
    "from PortfolioAnalysis import Backtest\n",
    "from PortfolioAnalysis import Model"
   ]
  },
  {
   "cell_type": "code",
   "execution_count": 286,
   "metadata": {},
   "outputs": [],
   "source": [
    "def inv(df):\n",
    "    return pd.DataFrame(np.linalg.pinv(df.values), df.columns, df.index)"
   ]
  },
  {
   "cell_type": "code",
   "execution_count": 295,
   "metadata": {},
   "outputs": [],
   "source": [
    "class BL:\n",
    "    '''\n",
    "    Black-Litterman is used to get the final combination weight\n",
    "    Input:\n",
    "    \n",
    "    \n",
    "    \n",
    "    '''\n",
    "    def __init__(self, df_date, df_history, df_fr, market_view, sub_view):\n",
    "        self.df_date = df_date\n",
    "        self.df_history = df_history\n",
    "        self.df_fr = df_fr\n",
    "        \n",
    "        def utility(w):\n",
    "            u = w.T.dot(self.E_R)-(self.Lambda/2)*w.T.dot(self.new_cov).dot(w)\n",
    "            return -u\n",
    "\n",
    "        # market_view为风险评价模型观点矩阵\n",
    "        # sub_view为宏观数据算出的主观观点矩阵\n",
    "        self.market_view = market_view\n",
    "        self.sub_view = sub_view\n",
    "        \n",
    "        # 权重\n",
    "        ay_weight = self.market_view.iloc[[0]]\n",
    "        \n",
    "        # 期望收益率平均值\n",
    "        df_r = np.log(df_history/df_history.shift(1))\n",
    "        market_r = (self.market_view*np.array(df_r)).dropna()\n",
    "        E_r = market_r.sum().sum()\n",
    "        \n",
    "        # 收益率标准差\n",
    "        market_sigma = np.std(market_r.sum(axis=1))\n",
    "        \n",
    "        # 无风险利率平均值\n",
    "        mean_fr = df_fr.mean()\n",
    "        \n",
    "        # 风险厌恶系数\n",
    "        Lambda = ((E_r-mean_fr)/(market_sigma))[0]\n",
    "        self.Lambda = Lambda\n",
    "        \n",
    "        # 资产收益率协方差矩阵(n*n)\n",
    "        market_cov = df_r.corr() \n",
    "        \n",
    "        # 先验收益率（n*1） = Lambda*协方差矩阵（n*n）*权重（n*1）\n",
    "        Sigma = Lambda * np.dot(market_cov , ay_weight.T)\n",
    "        self.Sigma = Sigma\n",
    "        \n",
    "        # 观点收益Q\n",
    "        sub_view = self.sub_view\n",
    "        Q = sub_view[sub_view.columns[len(sub_view.columns)-1]] .sum()\n",
    "        \n",
    "        # 观点信心水平LC默认为80%\n",
    "        LC = 0.8\n",
    "        \n",
    "        # CF\n",
    "        P = (self.sub_view.sum(axis=0))[:-1]\n",
    "        P = pd.DataFrame(P).T\n",
    "        CF = np.dot(np.dot(P,market_cov),P.T)[0]\n",
    "        \n",
    "        # 观点误差矩阵\n",
    "        Omega = pd.DataFrame([CF/LC])\n",
    "        \n",
    "        # 投资者信心程度，默认为1\n",
    "        tao = 1\n",
    "        self.tao = tao\n",
    "        \n",
    "        # 后验收益率 E(R)\n",
    "        E_R = np.dot(inv(inv(tao*market_cov)+np.dot(np.dot(P.T,inv(Omega)),P)),\\\n",
    "                         (np.dot(inv(tao*market_cov),self.Sigma)+(np.dot(np.dot(P.T,inv(Omega)),Q))))\n",
    "        self.E_R = E_R\n",
    "        \n",
    "        # 新收益率协方差矩阵\n",
    "        new_cov = inv(inv(tao*market_cov)+np.dot(np.dot(P.T,inv(Omega)),P))\n",
    "        self.new_cov = new_cov\n",
    "        \n",
    "        \n",
    "        # 新的权重\n",
    "        a=\"{'type': 'eq', 'fun': lambda w: w.sum() - 1},\"\n",
    "        for i in range(15):\n",
    "            a = a +\"{'type': 'ineq', 'fun': lambda w: w[\"+str(i)+\"] + maxx},\\\n",
    "            {'type': 'ineq', 'fun': lambda w: maxx - w[\"+str(i)+\"]},\"\n",
    "        cons = (eval(a[:-1]))\n",
    "        w = np.array([[1/15,]*15])\n",
    "        weight_new = optimize.minimize(utility,w,constraints=cons,tol = 1e-8).x\n",
    "        weight_new = pd.DataFrame(weight_new).T\n",
    "        for i in range(62):\n",
    "            weight_new = weight_new.append(weight_new.iloc[0]) \n",
    "        weight_new.index = self.df_date\n",
    "        self.weight_new = weight_new\n",
    "        \n",
    "    \n",
    "    def print_E_R(self):\n",
    "        return self.E_R\n",
    "    \n",
    "    def print_weight(self):\n",
    "        return self.weight_new\n",
    "        "
   ]
  },
  {
   "cell_type": "code",
   "execution_count": 296,
   "metadata": {},
   "outputs": [],
   "source": [
    "market_view = pd.read_csv(\"../Risk_Parity_Model/view.csv\",index_col = 0)\n",
    "sub_view = pd.read_csv(\"../Subjective_View_Setting/Subjective_View.csv\",index_col = 0)\n",
    "df_history = pd.read_csv(\"../../Data/Data_Outsample.csv\",index_col = 0)[:-28]\n",
    "df_history_all = pd.read_csv(\"../../Data/Data_All.csv\",index_col = 0)\n",
    "df_date = market_view.index\n",
    "df_fr = pd.DataFrame(np.repeat(0,1134))"
   ]
  },
  {
   "cell_type": "code",
   "execution_count": 313,
   "metadata": {},
   "outputs": [
    {
     "name": "stdout",
     "output_type": "stream",
     "text": [
      "start = 0\n",
      "start = 63\n",
      "start = 126\n",
      "start = 189\n",
      "start = 252\n",
      "start = 315\n",
      "start = 378\n",
      "start = 441\n",
      "start = 504\n",
      "start = 567\n",
      "start = 630\n",
      "start = 693\n",
      "start = 756\n",
      "start = 819\n",
      "start = 882\n",
      "start = 945\n",
      "start = 1008\n",
      "start = 1071\n",
      "start = 1134\n"
     ]
    }
   ],
   "source": [
    "view_new = pd.DataFrame(columns = df_history.columns)\n",
    "start = 0\n",
    "while(True):\n",
    "    print(\"start = %d\"%start)\n",
    "    if(start+63>len(df_date)):\n",
    "        break\n",
    "    bl = BL(df_date[start:start+63], df_history[start:start+63], df_fr[start:start+63],\\\n",
    "            market_view[start:start+63], sub_view[start:start+63])\n",
    "    view_new = pd.concat([view_new,bl.print_weight()])\n",
    "    start = start + 63\n",
    "C = view_new.columns[15:]\n",
    "view_new = view_new.dropna(axis=1)\n",
    "view_new.columns = C"
   ]
  },
  {
   "cell_type": "code",
   "execution_count": 318,
   "metadata": {},
   "outputs": [
    {
     "data": {
      "text/html": [
       "<div>\n",
       "<style scoped>\n",
       "    .dataframe tbody tr th:only-of-type {\n",
       "        vertical-align: middle;\n",
       "    }\n",
       "\n",
       "    .dataframe tbody tr th {\n",
       "        vertical-align: top;\n",
       "    }\n",
       "\n",
       "    .dataframe thead th {\n",
       "        text-align: right;\n",
       "    }\n",
       "</style>\n",
       "<table border=\"1\" class=\"dataframe\">\n",
       "  <thead>\n",
       "    <tr style=\"text-align: right;\">\n",
       "      <th></th>\n",
       "      <th>Sharpe</th>\n",
       "      <th>Annualized Return</th>\n",
       "      <th>Annualized Volatility</th>\n",
       "      <th>Maximum Drawdown</th>\n",
       "    </tr>\n",
       "  </thead>\n",
       "  <tbody>\n",
       "    <tr>\n",
       "      <th>Value</th>\n",
       "      <td>0.058594</td>\n",
       "      <td>0.266742</td>\n",
       "      <td>4.552348</td>\n",
       "      <td>0.30166</td>\n",
       "    </tr>\n",
       "  </tbody>\n",
       "</table>\n",
       "</div>"
      ],
      "text/plain": [
       "         Sharpe  Annualized Return  Annualized Volatility  Maximum Drawdown\n",
       "Value  0.058594           0.266742               4.552348           0.30166"
      ]
     },
     "execution_count": 318,
     "metadata": {},
     "output_type": "execute_result"
    }
   ],
   "source": [
    "# tao=1\n",
    "BT_100 = Backtest.Backtest(df_date, df_history_all[252*3:252*3+63*18], view_new, df_fr, 'D')\n",
    "BT_100 .get_info()"
   ]
  },
  {
   "cell_type": "code",
   "execution_count": 320,
   "metadata": {},
   "outputs": [],
   "source": [
    "df_bm = pd.DataFrame(np.repeat(np.array([[1/15,]*15]),63*18,axis=0))"
   ]
  },
  {
   "cell_type": "code",
   "execution_count": 321,
   "metadata": {},
   "outputs": [
    {
     "data": {
      "text/html": [
       "<div>\n",
       "<style scoped>\n",
       "    .dataframe tbody tr th:only-of-type {\n",
       "        vertical-align: middle;\n",
       "    }\n",
       "\n",
       "    .dataframe tbody tr th {\n",
       "        vertical-align: top;\n",
       "    }\n",
       "\n",
       "    .dataframe thead th {\n",
       "        text-align: right;\n",
       "    }\n",
       "</style>\n",
       "<table border=\"1\" class=\"dataframe\">\n",
       "  <thead>\n",
       "    <tr style=\"text-align: right;\">\n",
       "      <th></th>\n",
       "      <th>Sharpe</th>\n",
       "      <th>Annualized Return</th>\n",
       "      <th>Annualized Volatility</th>\n",
       "      <th>Maximum Drawdown</th>\n",
       "    </tr>\n",
       "  </thead>\n",
       "  <tbody>\n",
       "    <tr>\n",
       "      <th>Value</th>\n",
       "      <td>0.025518</td>\n",
       "      <td>0.087254</td>\n",
       "      <td>3.419271</td>\n",
       "      <td>0.774552</td>\n",
       "    </tr>\n",
       "  </tbody>\n",
       "</table>\n",
       "</div>"
      ],
      "text/plain": [
       "         Sharpe  Annualized Return  Annualized Volatility  Maximum Drawdown\n",
       "Value  0.025518           0.087254               3.419271          0.774552"
      ]
     },
     "execution_count": 321,
     "metadata": {},
     "output_type": "execute_result"
    }
   ],
   "source": [
    "BTM = Backtest.Backtest(df_date, df_history_all[252*3:252*3+63*18], df_bm, df_fr, 'D')\n",
    "BTM.get_info()"
   ]
  },
  {
   "cell_type": "code",
   "execution_count": 322,
   "metadata": {},
   "outputs": [
    {
     "data": {
      "image/png": "[encoded data removed]",
      "text/plain": [
       "<Figure size 1296x288 with 1 Axes>"
      ]
     },
     "metadata": {
      "needs_background": "light"
     },
     "output_type": "display_data"
    }
   ],
   "source": [
    "Backtest.Plot2(df_date,BT.df_asset,BTM.df_asset,\"Return\",\"BT\",\"BTM\")"
   ]
  },
  {
   "cell_type": "code",
   "execution_count": 72,
   "metadata": {},
   "outputs": [],
   "source": [
    "tt = bl.print_weight().iloc[0]"
   ]
  },
  {
   "cell_type": "code",
   "execution_count": 73,
   "metadata": {},
   "outputs": [
    {
     "data": {
      "text/plain": [
       "上证指数                 0.008510\n",
       "沪深300                0.003992\n",
       "能源指数                 0.005643\n",
       "工业指数                 0.004424\n",
       "医疗保健指数               0.007529\n",
       "公用事业指数               0.005181\n",
       "中债-信用债总财富(总值)指数      0.224519\n",
       "中债-企业债总财富(总值)指数      0.225880\n",
       "中债-国开行债券总财富(总值)指数    0.221094\n",
       "南华农产品指数              0.034710\n",
       "黄金指数                 0.004059\n",
       "日常消费指数               0.004425\n",
       "材料指数                 0.004496\n",
       "电信服务指数               0.004424\n",
       "恒生综指                 0.010505\n",
       "Name: 2020-08-19, dtype: float64"
      ]
     },
     "execution_count": 73,
     "metadata": {},
     "output_type": "execute_result"
    }
   ],
   "source": [
    "tt"
   ]
  },
  {
   "cell_type": "code",
   "execution_count": null,
   "metadata": {},
   "outputs": [],
   "source": []
  },
  {
   "cell_type": "code",
   "execution_count": 93,
   "metadata": {},
   "outputs": [],
   "source": [
    "df_date = df_date[0:63]\n",
    "df_history = df_history[0:63]\n",
    "df_fr = df_fr[0:63]\n",
    "market_view = market_view[0:63]\n",
    "sub_view = sub_view[0:63]"
   ]
  },
  {
   "cell_type": "code",
   "execution_count": 96,
   "metadata": {},
   "outputs": [
    {
     "data": {
      "text/plain": [
       "'       \\nweight_new = inv(Lambda*new_cov).dot(E_R).T\\nfor i in range(62):\\n    weight_new = weight_new.append(weight_new.iloc[0]) \\nweight_new.index = df_date\\nweight_new = weight_new\\n'"
      ]
     },
     "execution_count": 96,
     "metadata": {},
     "output_type": "execute_result"
    }
   ],
   "source": [
    "        ay_weight = market_view.iloc[[0]]\n",
    "        \n",
    "        # 期望收益率平均值\n",
    "        df_r = np.log(df_history/df_history.shift(1))\n",
    "        market_r = (market_view*np.array(df_r)).dropna()\n",
    "        E_r = market_r.sum().sum()\n",
    "        \n",
    "        # 收益率标准差\n",
    "        market_sigma = np.std(market_r.sum(axis=1))\n",
    "        \n",
    "        # 无风险利率平均值\n",
    "        mean_fr = df_fr.mean()\n",
    "        \n",
    "        # 风险厌恶系数\n",
    "        Lambda = ((E_r-mean_fr)/(market_sigma))[0]\n",
    "        \n",
    "        # 资产收益率协方差矩阵(n*n)\n",
    "        market_cov = df_r.corr() \n",
    "        \n",
    "        # 先验收益率（n*1） = Lambda*协方差矩阵（n*n）*权重（n*1）\n",
    "        Sigma = Lambda * np.dot(market_cov , ay_weight.T)\n",
    "        \n",
    "        # 观点收益Q\n",
    "        Q = sub_view[sub_view.columns[len(sub_view.columns)-1]] .sum()\n",
    "        \n",
    "        # 观点信心水平LC默认为80%\n",
    "        LC = 0.8\n",
    "        \n",
    "        # CF\n",
    "        P = (sub_view.sum(axis=0))[:-1]\n",
    "        P = pd.DataFrame(P).T\n",
    "        CF = np.dot(np.dot(P,market_cov),P.T)[0]\n",
    "        \n",
    "        # 观点误差矩阵\n",
    "        Omega = pd.DataFrame([CF/LC])\n",
    "        \n",
    "        # 投资者信心程度，默认为1\n",
    "        tao = 1.3\n",
    "        \n",
    "        # 后验收益率 E(R)\n",
    "        E_R = np.dot(inv(inv(tao*market_cov)+np.dot(np.dot(P.T,inv(Omega)),P)),(np.dot(inv(tao*market_cov),Sigma)+(np.dot(np.dot(P.T,inv(Omega)),Q))))\n",
    "        \n",
    "        # 新收益率协方差矩阵\n",
    "        new_cov = inv(inv(tao*market_cov)+np.dot(np.dot(P.T,inv(Omega)),P))\n",
    "       \n",
    "        # 新的权重\n",
    "        \n",
    "        \n",
    "'''       \n",
    "        weight_new = inv(Lambda*new_cov).dot(E_R).T\n",
    "        for i in range(62):\n",
    "            weight_new = weight_new.append(weight_new.iloc[0]) \n",
    "        weight_new.index = df_date\n",
    "        weight_new = weight_new\n",
    "'''"
   ]
  },
  {
   "cell_type": "code",
   "execution_count": 149,
   "metadata": {},
   "outputs": [
    {
     "data": {
      "text/plain": [
       "2961920620.0"
      ]
     },
     "execution_count": 149,
     "metadata": {},
     "output_type": "execute_result"
    }
   ],
   "source": [
    " 2.96192062e+09"
   ]
  },
  {
   "cell_type": "code",
   "execution_count": 148,
   "metadata": {},
   "outputs": [
    {
     "data": {
      "text/plain": [
       "array([ 2.96192062e+09,  2.85383962e+09,  2.63187904e+09,  2.83838566e+09,\n",
       "        2.57359913e+09,  2.87754751e+09, -6.05944762e+09, -6.02476298e+09,\n",
       "       -4.37283710e+09, -4.93238343e+09, -2.66164262e+09,  2.22323731e+09,\n",
       "        2.60096734e+09,  2.22058629e+09,  2.69111241e+08])"
      ]
     },
     "execution_count": 148,
     "metadata": {},
     "output_type": "execute_result"
    }
   ],
   "source": [
    "weight_new"
   ]
  },
  {
   "cell_type": "code",
   "execution_count": 163,
   "metadata": {},
   "outputs": [],
   "source": [
    "def f1(x,i):\n",
    "    return x\n",
    "\n",
    "def f2(x,i):\n",
    "    return 1-x"
   ]
  },
  {
   "cell_type": "code",
   "execution_count": 281,
   "metadata": {},
   "outputs": [],
   "source": [
    "def utility(w):\n",
    "    u = w.T.dot(E_R)-(Lambda/2)*w.T.dot(new_cov).dot(w)\n",
    "    return -u"
   ]
  },
  {
   "cell_type": "code",
   "execution_count": 282,
   "metadata": {},
   "outputs": [],
   "source": [
    "a=\"{'type': 'eq', 'fun': lambda w: w.sum() - 1},\"\n",
    "for i in range(15):\n",
    "    a = a +\"{'type': 'ineq', 'fun': lambda w: w[\"+str(i)+\"] + maxx},\\\n",
    "    {'type': 'ineq', 'fun': lambda w: maxx - w[\"+str(i)+\"]},\""
   ]
  },
  {
   "cell_type": "code",
   "execution_count": 283,
   "metadata": {},
   "outputs": [],
   "source": [
    "maxx = 0.5\n",
    "cons = (eval(a[:-1]))\n",
    "        \n",
    "w = np.array([[1/15,]*15])\n",
    "weight_new = optimize.minimize(utility,w,constraints=cons,tol = 1).x"
   ]
  },
  {
   "cell_type": "code",
   "execution_count": 284,
   "metadata": {},
   "outputs": [
    {
     "data": {
      "text/plain": [
       "array([-0.06092706, -0.04022218, -0.03371715, -0.01765308,  0.02678011,\n",
       "       -0.02317956,  0.16423834,  0.16423834,  0.16423834,  0.16423834,\n",
       "        0.16423834,  0.08667152, -0.02781903,  0.10463639,  0.16423834])"
      ]
     },
     "execution_count": 284,
     "metadata": {},
     "output_type": "execute_result"
    }
   ],
   "source": [
    "weight_new"
   ]
  },
  {
   "cell_type": "code",
   "execution_count": null,
   "metadata": {},
   "outputs": [],
   "source": []
  },
  {
   "cell_type": "code",
   "execution_count": 145,
   "metadata": {},
   "outputs": [],
   "source": [
    "weight_new = pd.DataFrame(weight_new).T\n",
    "for i in range(62):\n",
    "    weight_new = weight_new.append(weight_new.iloc[0]) "
   ]
  },
  {
   "cell_type": "code",
   "execution_count": 139,
   "metadata": {},
   "outputs": [
    {
     "data": {
      "text/plain": [
       "0    0.999997\n",
       "0    0.999997\n",
       "0    0.999997\n",
       "0    0.999997\n",
       "0    0.999997\n",
       "       ...   \n",
       "0    0.999997\n",
       "0    0.999997\n",
       "0    0.999997\n",
       "0    0.999997\n",
       "0    0.999997\n",
       "Length: 63, dtype: float64"
      ]
     },
     "execution_count": 139,
     "metadata": {},
     "output_type": "execute_result"
    }
   ],
   "source": [
    "pd.DataFrame(weight_new)"
   ]
  },
  {
   "cell_type": "code",
   "execution_count": null,
   "metadata": {},
   "outputs": [],
   "source": []
  }
 ],
 "metadata": {
  "kernelspec": {
   "display_name": "Python 3",
   "language": "python",
   "name": "python3"
  },
  "language_info": {
   "codemirror_mode": {
    "name": "ipython",
    "version": 3
   },
   "file_extension": ".py",
   "mimetype": "text/x-python",
   "name": "python",
   "nbconvert_exporter": "python",
   "pygments_lexer": "ipython3",
   "version": "3.7.6"
  }
 },
 "nbformat": 4,
 "nbformat_minor": 4
}
