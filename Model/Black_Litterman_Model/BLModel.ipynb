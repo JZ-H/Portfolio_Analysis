{
 "cells": [
  {
   "cell_type": "code",
   "execution_count": 1,
   "metadata": {},
   "outputs": [],
   "source": [
    "import pandas as pd\n",
    "import numpy as np\n",
    "from scipy import optimize\n",
    "import sys\n",
    "sys.path.append('../../')\n",
    "from PortfolioAnalysis import Backtest\n",
    "from PortfolioAnalysis import Model"
   ]
  },
  {
   "cell_type": "code",
   "execution_count": 2,
   "metadata": {},
   "outputs": [],
   "source": [
    "def inv(df):\n",
    "    return pd.DataFrame(np.linalg.pinv(df.values), df.columns, df.index)"
   ]
  },
  {
   "cell_type": "code",
   "execution_count": 233,
   "metadata": {},
   "outputs": [],
   "source": [
    "class BL:\n",
    "    '''\n",
    "    Black-Litterman is used to get the final combination weight\n",
    "    Input:\n",
    "    \n",
    "    \n",
    "    \n",
    "    '''\n",
    "    def __init__(self, df_date, df_history, df_fr, market_view, sub_view):\n",
    "        self.df_date = df_date\n",
    "        self.df_history = df_history\n",
    "        self.df_fr = df_fr\n",
    "        \n",
    "\n",
    "        # market_view为风险评价模型观点矩阵\n",
    "        # sub_view为宏观数据算出的主观观点矩阵\n",
    "        self.market_view = market_view\n",
    "        self.sub_view = sub_view\n",
    "        \n",
    "        # 权重\n",
    "        ay_weight = self.market_view.iloc[[0]]\n",
    "        \n",
    "        # 期望收益率平均值\n",
    "        df_r = np.log(df_history/df_history.shift(1))\n",
    "        market_r = (self.market_view*np.array(df_r)).dropna()\n",
    "        E_r = market_r.sum().sum()\n",
    "        \n",
    "        # 收益率标准差\n",
    "        market_sigma = np.std(market_r.sum(axis=1))\n",
    "        \n",
    "        # 无风险利率平均值\n",
    "        mean_fr = df_fr.mean()\n",
    "        \n",
    "        # 风险厌恶系数\n",
    "        Lambda = ((E_r-mean_fr)/(market_sigma))[0]\n",
    "        self.Lambda = Lambda\n",
    "        \n",
    "        # 资产收益率协方差矩阵(n*n)\n",
    "        market_cov = df_r.corr() \n",
    "        \n",
    "        # 先验收益率（n*1） = Lambda*协方差矩阵（n*n）*权重（n*1）\n",
    "        Sigma = Lambda * np.dot(market_cov , ay_weight.T)\n",
    "        self.Sigma = Sigma\n",
    "        \n",
    "        # 观点收益Q\n",
    "        sub_view = self.sub_view\n",
    "        Q = sub_view[sub_view.columns[len(sub_view.columns)-1]] .sum()\n",
    "        \n",
    "        # 观点信心水平LC默认为80%\n",
    "        LC = 0.8\n",
    "        \n",
    "        # CF\n",
    "        P = (self.sub_view.sum(axis=0))[:-1]\n",
    "        P = pd.DataFrame(P).T\n",
    "        CF = np.dot(np.dot(P,market_cov),P.T)[0]\n",
    "        \n",
    "        # 观点误差矩阵\n",
    "        Omega = pd.DataFrame([CF/LC])\n",
    "        \n",
    "        # 投资者信心程度，默认为1\n",
    "        tao = 1\n",
    "        self.tao = tao\n",
    "        \n",
    "        # 后验收益率 E(R)\n",
    "        E_R = np.dot(inv(inv(tao*market_cov)+np.dot(np.dot(P.T,inv(Omega)),P)),\\\n",
    "                         (np.dot(inv(tao*market_cov),self.Sigma)+(np.dot(np.dot(P.T,inv(Omega)),Q))))\n",
    "        self.E_R = E_R\n",
    "        \n",
    "        # 新收益率协方差矩阵\n",
    "        new_cov = inv(inv(tao*market_cov)+np.dot(np.dot(P.T,inv(Omega)),P))\n",
    "        self.new_cov = new_cov\n",
    "        \n",
    "        \n",
    "        # 新的权重\n",
    "        \n",
    "        a=\"{'type': 'eq', 'fun': lambda w: w.sum() - 1},\"\n",
    "        for i in range(15):\n",
    "            a = a +\"{'type': 'ineq', 'fun': lambda w: w[\"+str(i)+\"] + 0.2},\\\n",
    "            {'type': 'ineq', 'fun': lambda w: 1 - w[\"+str(i)+\"]},\"\n",
    "        \n",
    "        cons = ({'type': 'eq', 'fun': lambda w: w.sum() - 1},\\\n",
    "                {'type': 'ineq', 'fun': lambda w: w[0] + 0.2},\\\n",
    "                {'type': 'ineq', 'fun': lambda w: 1 - w[0]},\\\n",
    "                {'type': 'ineq', 'fun': lambda w: w[1] + 0.2},\\\n",
    "                {'type': 'ineq', 'fun': lambda w: 1 - w[1]},\\\n",
    "                {'type': 'ineq', 'fun': lambda w: w[2] + 0.2},\\\n",
    "                {'type': 'ineq', 'fun': lambda w: 1 - w[2]},\\\n",
    "                {'type': 'ineq', 'fun': lambda w: w[3] + 0.2},\\\n",
    "                {'type': 'ineq', 'fun': lambda w: 1 - w[3]},\\\n",
    "                {'type': 'ineq', 'fun': lambda w: w[4] + 0.2},\\\n",
    "                {'type': 'ineq', 'fun': lambda w: 1 - w[4]},\\\n",
    "                {'type': 'ineq', 'fun': lambda w: w[5] + 0.2},\\\n",
    "                {'type': 'ineq', 'fun': lambda w: 1 - w[5]},\\\n",
    "                {'type': 'ineq', 'fun': lambda w: w[6] + 0.2},\\\n",
    "                {'type': 'ineq', 'fun': lambda w: 1 - w[6]},\\\n",
    "                {'type': 'ineq', 'fun': lambda w: w[7] + 0.2},\\\n",
    "                {'type': 'ineq', 'fun': lambda w: 1 - w[7]},\\\n",
    "                {'type': 'ineq', 'fun': lambda w: w[8] + 0.2},\\\n",
    "                {'type': 'ineq', 'fun': lambda w: 1 - w[8]},\\\n",
    "                {'type': 'ineq', 'fun': lambda w: w[9] + 0.2},\\\n",
    "                {'type': 'ineq', 'fun': lambda w: 1 - w[9]},\\\n",
    "                {'type': 'ineq', 'fun': lambda w: w[10] + 0.2},\\\n",
    "                {'type': 'ineq', 'fun': lambda w: 1 - w[10]},\\\n",
    "                {'type': 'ineq', 'fun': lambda w: w[11] + 0.2},\\\n",
    "                {'type': 'ineq', 'fun': lambda w: 1 - w[11]},\\\n",
    "                {'type': 'ineq', 'fun': lambda w: w[12] + 0.2},\\\n",
    "                {'type': 'ineq', 'fun': lambda w: 1 - w[12]},\\\n",
    "                {'type': 'ineq', 'fun': lambda w: w[13] + 0.2},\\\n",
    "                {'type': 'ineq', 'fun': lambda w: 1 - w[13]},\\\n",
    "                {'type': 'ineq', 'fun': lambda w: w[14] + 0.2},\\\n",
    "                {'type': 'ineq', 'fun': lambda w: 1 - w[14]})\n",
    "        w = np.array([1/15,]*15)\n",
    "        \n",
    "        \n",
    "        res = optimize.minimize(utility(w),w,constraints=cons,tol = 1e-8)\n",
    "        \n",
    "        print(res.success)\n",
    "        \n",
    "        if output:\n",
    "            print(\"Status: \"+str(res.message))\n",
    "        weight_new = res.x \n",
    "        weight_new = pd.DataFrame(weight_new).T\n",
    "        for i in range(62):\n",
    "            weight_new = weight_new.append(weight_new.iloc[0]) \n",
    "        weight_new.index = self.df_date\n",
    "        self.weight_new = weight_new\n",
    "        \n",
    "    \n",
    "    def print_E_R(self):\n",
    "        return self.E_R\n",
    "    \n",
    "    def print_weight(self):\n",
    "        return self.weight_new\n",
    "        "
   ]
  },
  {
   "cell_type": "code",
   "execution_count": 234,
   "metadata": {},
   "outputs": [],
   "source": [
    "market_view = pd.read_csv(\"../Risk_Parity_Model/view.csv\",index_col = 0)\n",
    "sub_view = pd.read_csv(\"../Subjective_View_Setting/Subjective_View.csv\",index_col = 0)\n",
    "df_history = pd.read_csv(\"../../Data/Data_Outsample.csv\",index_col = 0)[:-28]\n",
    "df_history_all = pd.read_csv(\"../../Data/Data_All.csv\",index_col = 0)\n",
    "df_date = market_view.index\n",
    "df_fr = pd.DataFrame(np.repeat(0,1134))"
   ]
  },
  {
   "cell_type": "code",
   "execution_count": 235,
   "metadata": {},
   "outputs": [
    {
     "name": "stdout",
     "output_type": "stream",
     "text": [
      "start = 0\n"
     ]
    },
    {
     "ename": "TypeError",
     "evalue": "'numpy.float64' object is not callable",
     "output_type": "error",
     "traceback": [
      "\u001b[1;31m---------------------------------------------------------------------------\u001b[0m",
      "\u001b[1;31mTypeError\u001b[0m                                 Traceback (most recent call last)",
      "\u001b[1;32m<ipython-input-235-ea866be90361>\u001b[0m in \u001b[0;36m<module>\u001b[1;34m\u001b[0m\n\u001b[0;32m      6\u001b[0m         \u001b[1;32mbreak\u001b[0m\u001b[1;33m\u001b[0m\u001b[1;33m\u001b[0m\u001b[0m\n\u001b[0;32m      7\u001b[0m     bl = BL(df_date[start:start+63], df_history[start:start+63], df_fr[start:start+63],\\\n\u001b[1;32m----> 8\u001b[1;33m             market_view[start:start+63], sub_view[start:start+63])\n\u001b[0m\u001b[0;32m      9\u001b[0m     \u001b[0mview_new\u001b[0m \u001b[1;33m=\u001b[0m \u001b[0mpd\u001b[0m\u001b[1;33m.\u001b[0m\u001b[0mconcat\u001b[0m\u001b[1;33m(\u001b[0m\u001b[1;33m[\u001b[0m\u001b[0mview_new\u001b[0m\u001b[1;33m,\u001b[0m\u001b[0mbl\u001b[0m\u001b[1;33m.\u001b[0m\u001b[0mprint_weight\u001b[0m\u001b[1;33m(\u001b[0m\u001b[1;33m)\u001b[0m\u001b[1;33m]\u001b[0m\u001b[1;33m)\u001b[0m\u001b[1;33m\u001b[0m\u001b[1;33m\u001b[0m\u001b[0m\n\u001b[0;32m     10\u001b[0m     \u001b[0mstart\u001b[0m \u001b[1;33m=\u001b[0m \u001b[0mstart\u001b[0m \u001b[1;33m+\u001b[0m \u001b[1;36m63\u001b[0m\u001b[1;33m\u001b[0m\u001b[1;33m\u001b[0m\u001b[0m\n",
      "\u001b[1;32m<ipython-input-233-7fbbd5f55903>\u001b[0m in \u001b[0;36m__init__\u001b[1;34m(self, df_date, df_history, df_fr, market_view, sub_view)\u001b[0m\n\u001b[0;32m    119\u001b[0m \u001b[1;33m\u001b[0m\u001b[0m\n\u001b[0;32m    120\u001b[0m \u001b[1;33m\u001b[0m\u001b[0m\n\u001b[1;32m--> 121\u001b[1;33m         \u001b[0mres\u001b[0m \u001b[1;33m=\u001b[0m \u001b[0moptimize\u001b[0m\u001b[1;33m.\u001b[0m\u001b[0mminimize\u001b[0m\u001b[1;33m(\u001b[0m\u001b[0mfun\u001b[0m\u001b[1;33m(\u001b[0m\u001b[0mw\u001b[0m\u001b[1;33m)\u001b[0m\u001b[1;33m,\u001b[0m\u001b[0mw\u001b[0m\u001b[1;33m,\u001b[0m\u001b[0mconstraints\u001b[0m\u001b[1;33m=\u001b[0m\u001b[0mcons\u001b[0m\u001b[1;33m,\u001b[0m\u001b[0mtol\u001b[0m \u001b[1;33m=\u001b[0m \u001b[1;36m1e-8\u001b[0m\u001b[1;33m)\u001b[0m\u001b[1;33m\u001b[0m\u001b[1;33m\u001b[0m\u001b[0m\n\u001b[0m\u001b[0;32m    122\u001b[0m \u001b[1;33m\u001b[0m\u001b[0m\n\u001b[0;32m    123\u001b[0m         \u001b[0mprint\u001b[0m\u001b[1;33m(\u001b[0m\u001b[0mres\u001b[0m\u001b[1;33m.\u001b[0m\u001b[0msuccess\u001b[0m\u001b[1;33m)\u001b[0m\u001b[1;33m\u001b[0m\u001b[1;33m\u001b[0m\u001b[0m\n",
      "\u001b[1;32mD:\\anaconda\\lib\\site-packages\\scipy\\optimize\\_minimize.py\u001b[0m in \u001b[0;36mminimize\u001b[1;34m(fun, x0, args, method, jac, hess, hessp, bounds, constraints, tol, callback, options)\u001b[0m\n\u001b[0;32m    616\u001b[0m     \u001b[1;32melif\u001b[0m \u001b[0mmeth\u001b[0m \u001b[1;33m==\u001b[0m \u001b[1;34m'slsqp'\u001b[0m\u001b[1;33m:\u001b[0m\u001b[1;33m\u001b[0m\u001b[1;33m\u001b[0m\u001b[0m\n\u001b[0;32m    617\u001b[0m         return _minimize_slsqp(fun, x0, args, jac, bounds,\n\u001b[1;32m--> 618\u001b[1;33m                                constraints, callback=callback, **options)\n\u001b[0m\u001b[0;32m    619\u001b[0m     \u001b[1;32melif\u001b[0m \u001b[0mmeth\u001b[0m \u001b[1;33m==\u001b[0m \u001b[1;34m'trust-constr'\u001b[0m\u001b[1;33m:\u001b[0m\u001b[1;33m\u001b[0m\u001b[1;33m\u001b[0m\u001b[0m\n\u001b[0;32m    620\u001b[0m         return _minimize_trustregion_constr(fun, x0, args, jac, hess, hessp,\n",
      "\u001b[1;32mD:\\anaconda\\lib\\site-packages\\scipy\\optimize\\slsqp.py\u001b[0m in \u001b[0;36m_minimize_slsqp\u001b[1;34m(func, x0, args, jac, bounds, constraints, maxiter, ftol, iprint, disp, eps, callback, **unknown_options)\u001b[0m\n\u001b[0;32m    397\u001b[0m \u001b[1;33m\u001b[0m\u001b[0m\n\u001b[0;32m    398\u001b[0m             \u001b[1;31m# Compute objective function\u001b[0m\u001b[1;33m\u001b[0m\u001b[1;33m\u001b[0m\u001b[1;33m\u001b[0m\u001b[0m\n\u001b[1;32m--> 399\u001b[1;33m             \u001b[0mfx\u001b[0m \u001b[1;33m=\u001b[0m \u001b[0mfunc\u001b[0m\u001b[1;33m(\u001b[0m\u001b[0mx\u001b[0m\u001b[1;33m)\u001b[0m\u001b[1;33m\u001b[0m\u001b[1;33m\u001b[0m\u001b[0m\n\u001b[0m\u001b[0;32m    400\u001b[0m             \u001b[1;32mtry\u001b[0m\u001b[1;33m:\u001b[0m\u001b[1;33m\u001b[0m\u001b[1;33m\u001b[0m\u001b[0m\n\u001b[0;32m    401\u001b[0m                 \u001b[0mfx\u001b[0m \u001b[1;33m=\u001b[0m \u001b[0mfloat\u001b[0m\u001b[1;33m(\u001b[0m\u001b[0mnp\u001b[0m\u001b[1;33m.\u001b[0m\u001b[0masarray\u001b[0m\u001b[1;33m(\u001b[0m\u001b[0mfx\u001b[0m\u001b[1;33m)\u001b[0m\u001b[1;33m)\u001b[0m\u001b[1;33m\u001b[0m\u001b[1;33m\u001b[0m\u001b[0m\n",
      "\u001b[1;32mD:\\anaconda\\lib\\site-packages\\scipy\\optimize\\optimize.py\u001b[0m in \u001b[0;36mfunction_wrapper\u001b[1;34m(*wrapper_args)\u001b[0m\n\u001b[0;32m    325\u001b[0m     \u001b[1;32mdef\u001b[0m \u001b[0mfunction_wrapper\u001b[0m\u001b[1;33m(\u001b[0m\u001b[1;33m*\u001b[0m\u001b[0mwrapper_args\u001b[0m\u001b[1;33m)\u001b[0m\u001b[1;33m:\u001b[0m\u001b[1;33m\u001b[0m\u001b[1;33m\u001b[0m\u001b[0m\n\u001b[0;32m    326\u001b[0m         \u001b[0mncalls\u001b[0m\u001b[1;33m[\u001b[0m\u001b[1;36m0\u001b[0m\u001b[1;33m]\u001b[0m \u001b[1;33m+=\u001b[0m \u001b[1;36m1\u001b[0m\u001b[1;33m\u001b[0m\u001b[1;33m\u001b[0m\u001b[0m\n\u001b[1;32m--> 327\u001b[1;33m         \u001b[1;32mreturn\u001b[0m \u001b[0mfunction\u001b[0m\u001b[1;33m(\u001b[0m\u001b[1;33m*\u001b[0m\u001b[1;33m(\u001b[0m\u001b[0mwrapper_args\u001b[0m \u001b[1;33m+\u001b[0m \u001b[0margs\u001b[0m\u001b[1;33m)\u001b[0m\u001b[1;33m)\u001b[0m\u001b[1;33m\u001b[0m\u001b[1;33m\u001b[0m\u001b[0m\n\u001b[0m\u001b[0;32m    328\u001b[0m \u001b[1;33m\u001b[0m\u001b[0m\n\u001b[0;32m    329\u001b[0m     \u001b[1;32mreturn\u001b[0m \u001b[0mncalls\u001b[0m\u001b[1;33m,\u001b[0m \u001b[0mfunction_wrapper\u001b[0m\u001b[1;33m\u001b[0m\u001b[1;33m\u001b[0m\u001b[0m\n",
      "\u001b[1;31mTypeError\u001b[0m: 'numpy.float64' object is not callable"
     ]
    }
   ],
   "source": [
    "view_new = pd.DataFrame(columns = df_history.columns)\n",
    "start = 0\n",
    "while(True):\n",
    "    print(\"start = %d\"%start)\n",
    "    if(start+63>len(df_date)):\n",
    "        break\n",
    "    bl = BL(df_date[start:start+63], df_history[start:start+63], df_fr[start:start+63],\\\n",
    "            market_view[start:start+63], sub_view[start:start+63])\n",
    "    view_new = pd.concat([view_new,bl.print_weight()])\n",
    "    start = start + 63\n",
    "view_new = view_new.dropna(axis=1)\n",
    "view_new.columns = df_history.columns"
   ]
  },
  {
   "cell_type": "code",
   "execution_count": 68,
   "metadata": {},
   "outputs": [
    {
     "data": {
      "text/html": [
       "<div>\n",
       "<style scoped>\n",
       "    .dataframe tbody tr th:only-of-type {\n",
       "        vertical-align: middle;\n",
       "    }\n",
       "\n",
       "    .dataframe tbody tr th {\n",
       "        vertical-align: top;\n",
       "    }\n",
       "\n",
       "    .dataframe thead th {\n",
       "        text-align: right;\n",
       "    }\n",
       "</style>\n",
       "<table border=\"1\" class=\"dataframe\">\n",
       "  <thead>\n",
       "    <tr style=\"text-align: right;\">\n",
       "      <th></th>\n",
       "      <th>Sharpe</th>\n",
       "      <th>Annualized Return</th>\n",
       "      <th>Annualized Volatility</th>\n",
       "      <th>Maximum Drawdown</th>\n",
       "    </tr>\n",
       "  </thead>\n",
       "  <tbody>\n",
       "    <tr>\n",
       "      <th>Value</th>\n",
       "      <td>0.052732</td>\n",
       "      <td>0.271965</td>\n",
       "      <td>5.157539</td>\n",
       "      <td>0.287557</td>\n",
       "    </tr>\n",
       "  </tbody>\n",
       "</table>\n",
       "</div>"
      ],
      "text/plain": [
       "         Sharpe  Annualized Return  Annualized Volatility  Maximum Drawdown\n",
       "Value  0.052732           0.271965               5.157539          0.287557"
      ]
     },
     "execution_count": 68,
     "metadata": {},
     "output_type": "execute_result"
    }
   ],
   "source": [
    "# tao=1\n",
    "BT = Backtest.Backtest(df_date, df_history_all[252*3:252*3+63*18], view_new, df_fr, 'D')\n",
    "BT.get_info()"
   ]
  },
  {
   "cell_type": "code",
   "execution_count": 49,
   "metadata": {},
   "outputs": [],
   "source": [
    "df_bm = pd.DataFrame(np.repeat(np.array([[1/15,]*15]),63*18,axis=0))"
   ]
  },
  {
   "cell_type": "code",
   "execution_count": 20,
   "metadata": {},
   "outputs": [
    {
     "data": {
      "text/html": [
       "<div>\n",
       "<style scoped>\n",
       "    .dataframe tbody tr th:only-of-type {\n",
       "        vertical-align: middle;\n",
       "    }\n",
       "\n",
       "    .dataframe tbody tr th {\n",
       "        vertical-align: top;\n",
       "    }\n",
       "\n",
       "    .dataframe thead th {\n",
       "        text-align: right;\n",
       "    }\n",
       "</style>\n",
       "<table border=\"1\" class=\"dataframe\">\n",
       "  <thead>\n",
       "    <tr style=\"text-align: right;\">\n",
       "      <th></th>\n",
       "      <th>Sharpe</th>\n",
       "      <th>Annualized Return</th>\n",
       "      <th>Annualized Volatility</th>\n",
       "      <th>Maximum Drawdown</th>\n",
       "    </tr>\n",
       "  </thead>\n",
       "  <tbody>\n",
       "    <tr>\n",
       "      <th>Value</th>\n",
       "      <td>0.025518</td>\n",
       "      <td>0.087254</td>\n",
       "      <td>3.419271</td>\n",
       "      <td>0.774552</td>\n",
       "    </tr>\n",
       "  </tbody>\n",
       "</table>\n",
       "</div>"
      ],
      "text/plain": [
       "         Sharpe  Annualized Return  Annualized Volatility  Maximum Drawdown\n",
       "Value  0.025518           0.087254               3.419271          0.774552"
      ]
     },
     "execution_count": 20,
     "metadata": {},
     "output_type": "execute_result"
    }
   ],
   "source": [
    "BTM = Backtest.Backtest(df_date, df_history_all[252*3:252*3+63*18], df_bm, df_fr, 'D')\n",
    "BTM.get_info()"
   ]
  },
  {
   "cell_type": "code",
   "execution_count": 38,
   "metadata": {},
   "outputs": [
    {
     "data": {
      "image/png": "[encoded data removed]",
      "text/plain": [
       "<Figure size 1296x288 with 1 Axes>"
      ]
     },
     "metadata": {
      "needs_background": "light"
     },
     "output_type": "display_data"
    }
   ],
   "source": [
    "Backtest.Plot2(df_date,BT.df_asset,BTM.df_asset,\"Return\",\"BT\",\"BTM\")"
   ]
  },
  {
   "cell_type": "code",
   "execution_count": 348,
   "metadata": {},
   "outputs": [],
   "source": [
    "Asset = pd.DataFrame([BT.df_asset,BTM.df_asset]).T\n",
    "Asset.index = df_date\n",
    "Asset.columns = ['BL','Market']"
   ]
  },
  {
   "cell_type": "code",
   "execution_count": 353,
   "metadata": {},
   "outputs": [],
   "source": [
    "Asset.to_csv(\"BL_Asset.csv\")"
   ]
  },
  {
   "cell_type": "code",
   "execution_count": 51,
   "metadata": {},
   "outputs": [],
   "source": [
    "view_new.to_csv(\"view.csv\")"
   ]
  },
  {
   "cell_type": "code",
   "execution_count": null,
   "metadata": {},
   "outputs": [],
   "source": []
  },
  {
   "cell_type": "code",
   "execution_count": null,
   "metadata": {},
   "outputs": [],
   "source": []
  },
  {
   "cell_type": "code",
   "execution_count": null,
   "metadata": {},
   "outputs": [],
   "source": []
  },
  {
   "cell_type": "code",
   "execution_count": 241,
   "metadata": {},
   "outputs": [],
   "source": [
    "df_date = df_date[0:63]\n",
    "df_history = df_history[0:63]\n",
    "df_fr = df_fr[0:63]\n",
    "market_view = market_view[0:63]\n",
    "sub_view = sub_view[0:63]"
   ]
  },
  {
   "cell_type": "code",
   "execution_count": 245,
   "metadata": {},
   "outputs": [],
   "source": [
    "def utility(w):\n",
    "            u = (w.T.dot(E_R)-(Lambda/2)*np.dot(wt,new_cov).dot(w))[0]\n",
    "            return -u"
   ]
  },
  {
   "cell_type": "code",
   "execution_count": 246,
   "metadata": {},
   "outputs": [
    {
     "ename": "TypeError",
     "evalue": "'numpy.float64' object is not callable",
     "output_type": "error",
     "traceback": [
      "\u001b[1;31m---------------------------------------------------------------------------\u001b[0m",
      "\u001b[1;31mTypeError\u001b[0m                                 Traceback (most recent call last)",
      "\u001b[1;32m<ipython-input-246-1cfb18c51ee1>\u001b[0m in \u001b[0;36m<module>\u001b[1;34m\u001b[0m\n\u001b[0;32m     54\u001b[0m \u001b[0mcons\u001b[0m \u001b[1;33m=\u001b[0m \u001b[1;33m(\u001b[0m\u001b[0meval\u001b[0m\u001b[1;33m(\u001b[0m\u001b[0ma\u001b[0m\u001b[1;33m[\u001b[0m\u001b[1;33m:\u001b[0m\u001b[1;33m-\u001b[0m\u001b[1;36m1\u001b[0m\u001b[1;33m]\u001b[0m\u001b[1;33m)\u001b[0m\u001b[1;33m)\u001b[0m\u001b[1;33m\u001b[0m\u001b[1;33m\u001b[0m\u001b[0m\n\u001b[0;32m     55\u001b[0m \u001b[0mw\u001b[0m \u001b[1;33m=\u001b[0m \u001b[0mnp\u001b[0m\u001b[1;33m.\u001b[0m\u001b[0marray\u001b[0m\u001b[1;33m(\u001b[0m\u001b[1;33m[\u001b[0m\u001b[1;36m1\u001b[0m\u001b[1;33m/\u001b[0m\u001b[1;36m15\u001b[0m\u001b[1;33m,\u001b[0m\u001b[1;33m]\u001b[0m\u001b[1;33m*\u001b[0m\u001b[1;36m15\u001b[0m\u001b[1;33m)\u001b[0m\u001b[1;33m\u001b[0m\u001b[1;33m\u001b[0m\u001b[0m\n\u001b[1;32m---> 56\u001b[1;33m \u001b[0mres\u001b[0m \u001b[1;33m=\u001b[0m \u001b[0moptimize\u001b[0m\u001b[1;33m.\u001b[0m\u001b[0mminimize\u001b[0m\u001b[1;33m(\u001b[0m\u001b[0mutility\u001b[0m\u001b[1;33m(\u001b[0m\u001b[0mw\u001b[0m\u001b[1;33m)\u001b[0m\u001b[1;33m,\u001b[0m\u001b[0mw\u001b[0m\u001b[1;33m,\u001b[0m\u001b[0mconstraints\u001b[0m\u001b[1;33m=\u001b[0m\u001b[0mcons\u001b[0m\u001b[1;33m,\u001b[0m\u001b[0mtol\u001b[0m \u001b[1;33m=\u001b[0m \u001b[1;36m1e-8\u001b[0m\u001b[1;33m)\u001b[0m\u001b[1;33m\u001b[0m\u001b[1;33m\u001b[0m\u001b[0m\n\u001b[0m\u001b[0;32m     57\u001b[0m \u001b[1;32mif\u001b[0m \u001b[0moutput\u001b[0m\u001b[1;33m:\u001b[0m\u001b[1;33m\u001b[0m\u001b[1;33m\u001b[0m\u001b[0m\n\u001b[0;32m     58\u001b[0m     \u001b[0mprint\u001b[0m\u001b[1;33m(\u001b[0m\u001b[1;34m\"Status: \"\u001b[0m\u001b[1;33m+\u001b[0m\u001b[0mstr\u001b[0m\u001b[1;33m(\u001b[0m\u001b[0mres\u001b[0m\u001b[1;33m.\u001b[0m\u001b[0mmessage\u001b[0m\u001b[1;33m)\u001b[0m\u001b[1;33m)\u001b[0m\u001b[1;33m\u001b[0m\u001b[1;33m\u001b[0m\u001b[0m\n",
      "\u001b[1;32mD:\\anaconda\\lib\\site-packages\\scipy\\optimize\\_minimize.py\u001b[0m in \u001b[0;36mminimize\u001b[1;34m(fun, x0, args, method, jac, hess, hessp, bounds, constraints, tol, callback, options)\u001b[0m\n\u001b[0;32m    616\u001b[0m     \u001b[1;32melif\u001b[0m \u001b[0mmeth\u001b[0m \u001b[1;33m==\u001b[0m \u001b[1;34m'slsqp'\u001b[0m\u001b[1;33m:\u001b[0m\u001b[1;33m\u001b[0m\u001b[1;33m\u001b[0m\u001b[0m\n\u001b[0;32m    617\u001b[0m         return _minimize_slsqp(fun, x0, args, jac, bounds,\n\u001b[1;32m--> 618\u001b[1;33m                                constraints, callback=callback, **options)\n\u001b[0m\u001b[0;32m    619\u001b[0m     \u001b[1;32melif\u001b[0m \u001b[0mmeth\u001b[0m \u001b[1;33m==\u001b[0m \u001b[1;34m'trust-constr'\u001b[0m\u001b[1;33m:\u001b[0m\u001b[1;33m\u001b[0m\u001b[1;33m\u001b[0m\u001b[0m\n\u001b[0;32m    620\u001b[0m         return _minimize_trustregion_constr(fun, x0, args, jac, hess, hessp,\n",
      "\u001b[1;32mD:\\anaconda\\lib\\site-packages\\scipy\\optimize\\slsqp.py\u001b[0m in \u001b[0;36m_minimize_slsqp\u001b[1;34m(func, x0, args, jac, bounds, constraints, maxiter, ftol, iprint, disp, eps, callback, **unknown_options)\u001b[0m\n\u001b[0;32m    397\u001b[0m \u001b[1;33m\u001b[0m\u001b[0m\n\u001b[0;32m    398\u001b[0m             \u001b[1;31m# Compute objective function\u001b[0m\u001b[1;33m\u001b[0m\u001b[1;33m\u001b[0m\u001b[1;33m\u001b[0m\u001b[0m\n\u001b[1;32m--> 399\u001b[1;33m             \u001b[0mfx\u001b[0m \u001b[1;33m=\u001b[0m \u001b[0mfunc\u001b[0m\u001b[1;33m(\u001b[0m\u001b[0mx\u001b[0m\u001b[1;33m)\u001b[0m\u001b[1;33m\u001b[0m\u001b[1;33m\u001b[0m\u001b[0m\n\u001b[0m\u001b[0;32m    400\u001b[0m             \u001b[1;32mtry\u001b[0m\u001b[1;33m:\u001b[0m\u001b[1;33m\u001b[0m\u001b[1;33m\u001b[0m\u001b[0m\n\u001b[0;32m    401\u001b[0m                 \u001b[0mfx\u001b[0m \u001b[1;33m=\u001b[0m \u001b[0mfloat\u001b[0m\u001b[1;33m(\u001b[0m\u001b[0mnp\u001b[0m\u001b[1;33m.\u001b[0m\u001b[0masarray\u001b[0m\u001b[1;33m(\u001b[0m\u001b[0mfx\u001b[0m\u001b[1;33m)\u001b[0m\u001b[1;33m)\u001b[0m\u001b[1;33m\u001b[0m\u001b[1;33m\u001b[0m\u001b[0m\n",
      "\u001b[1;32mD:\\anaconda\\lib\\site-packages\\scipy\\optimize\\optimize.py\u001b[0m in \u001b[0;36mfunction_wrapper\u001b[1;34m(*wrapper_args)\u001b[0m\n\u001b[0;32m    325\u001b[0m     \u001b[1;32mdef\u001b[0m \u001b[0mfunction_wrapper\u001b[0m\u001b[1;33m(\u001b[0m\u001b[1;33m*\u001b[0m\u001b[0mwrapper_args\u001b[0m\u001b[1;33m)\u001b[0m\u001b[1;33m:\u001b[0m\u001b[1;33m\u001b[0m\u001b[1;33m\u001b[0m\u001b[0m\n\u001b[0;32m    326\u001b[0m         \u001b[0mncalls\u001b[0m\u001b[1;33m[\u001b[0m\u001b[1;36m0\u001b[0m\u001b[1;33m]\u001b[0m \u001b[1;33m+=\u001b[0m \u001b[1;36m1\u001b[0m\u001b[1;33m\u001b[0m\u001b[1;33m\u001b[0m\u001b[0m\n\u001b[1;32m--> 327\u001b[1;33m         \u001b[1;32mreturn\u001b[0m \u001b[0mfunction\u001b[0m\u001b[1;33m(\u001b[0m\u001b[1;33m*\u001b[0m\u001b[1;33m(\u001b[0m\u001b[0mwrapper_args\u001b[0m \u001b[1;33m+\u001b[0m \u001b[0margs\u001b[0m\u001b[1;33m)\u001b[0m\u001b[1;33m)\u001b[0m\u001b[1;33m\u001b[0m\u001b[1;33m\u001b[0m\u001b[0m\n\u001b[0m\u001b[0;32m    328\u001b[0m \u001b[1;33m\u001b[0m\u001b[0m\n\u001b[0;32m    329\u001b[0m     \u001b[1;32mreturn\u001b[0m \u001b[0mncalls\u001b[0m\u001b[1;33m,\u001b[0m \u001b[0mfunction_wrapper\u001b[0m\u001b[1;33m\u001b[0m\u001b[1;33m\u001b[0m\u001b[0m\n",
      "\u001b[1;31mTypeError\u001b[0m: 'numpy.float64' object is not callable"
     ]
    }
   ],
   "source": [
    "        ay_weight = market_view.iloc[[0]]\n",
    "        \n",
    "        # 期望收益率平均值\n",
    "        df_r = np.log(df_history/df_history.shift(1))\n",
    "        market_r = (market_view*np.array(df_r)).dropna()\n",
    "        E_r = market_r.sum().sum()\n",
    "        \n",
    "        # 收益率标准差\n",
    "        market_sigma = np.std(market_r.sum(axis=1))\n",
    "        \n",
    "        # 无风险利率平均值\n",
    "        mean_fr = df_fr.mean()\n",
    "        \n",
    "        # 风险厌恶系数\n",
    "        Lambda = ((E_r-mean_fr)/(market_sigma))[0]\n",
    "        \n",
    "        # 资产收益率协方差矩阵(n*n)\n",
    "        market_cov = df_r.corr() \n",
    "        \n",
    "        # 先验收益率（n*1） = Lambda*协方差矩阵（n*n）*权重（n*1）\n",
    "        Sigma = Lambda * np.dot(market_cov , ay_weight.T)\n",
    "        \n",
    "        # 观点收益Q\n",
    "        Q = sub_view[sub_view.columns[len(sub_view.columns)-1]] .sum()\n",
    "        \n",
    "        # 观点信心水平LC默认为80%\n",
    "        LC = 0.8\n",
    "        \n",
    "        # CF\n",
    "        P = (sub_view.sum(axis=0))[:-1]\n",
    "        P = pd.DataFrame(P).T\n",
    "        CF = np.dot(np.dot(P,market_cov),P.T)[0]\n",
    "        \n",
    "        # 观点误差矩阵\n",
    "        Omega = pd.DataFrame([CF/LC])\n",
    "        \n",
    "        # 投资者信心程度，默认为1\n",
    "        tao = 1.3\n",
    "        \n",
    "        # 后验收益率 E(R)\n",
    "        E_R = np.dot(inv(inv(tao*market_cov)+np.dot(np.dot(P.T,inv(Omega)),P)),(np.dot(inv(tao*market_cov),Sigma)+(np.dot(np.dot(P.T,inv(Omega)),Q))))\n",
    "        \n",
    "        # 新收益率协方差矩阵\n",
    "        new_cov = inv(inv(tao*market_cov)+np.dot(np.dot(P.T,inv(Omega)),P))\n",
    "       \n",
    "        # 新的权重\n",
    "        \n",
    "        \n",
    "        a=\"{'type': 'eq', 'fun': lambda w: w.sum() - 1},\"\n",
    "        for i in range(15):\n",
    "            a = a +\"{'type': 'ineq', 'fun': lambda w: w[\"+str(i)+\"] + Range},\\\n",
    "            {'type': 'ineq', 'fun': lambda w: Range - w[\"+str(i)+\"]},\"\n",
    "        Range = 1\n",
    "        cons = (eval(a[:-1]))\n",
    "        w = np.array([1/15,]*15)\n",
    "        res = optimize.minimize(utility(w),w,constraints=cons,tol = 1e-8)\n",
    "        if output:\n",
    "            print(\"Status: \"+str(res.message))\n",
    "        weight_new = res.x    \n",
    "        weight_new = pd.DataFrame(weight_new).T\n",
    "        for i in range(62):\n",
    "            weight_new = weight_new.append(weight_new.iloc[0]) \n",
    "        weight_new.index = df_date\n",
    "        \n",
    "        \n",
    "'''       \n",
    "        weight_new = inv(Lambda*new_cov).dot(E_R).T\n",
    "        for i in range(62):\n",
    "            weight_new = weight_new.append(weight_new.iloc[0]) \n",
    "        weight_new.index = df_date\n",
    "        weight_new = weight_new\n",
    "'''"
   ]
  },
  {
   "cell_type": "code",
   "execution_count": 155,
   "metadata": {},
   "outputs": [],
   "source": [
    "w = pd.DataFrame(np.array([[1/15,]*15]))"
   ]
  },
  {
   "cell_type": "code",
   "execution_count": 157,
   "metadata": {},
   "outputs": [],
   "source": [
    "w = pd.DataFrame(np.array([1/15,]*15))"
   ]
  },
  {
   "cell_type": "code",
   "execution_count": 158,
   "metadata": {},
   "outputs": [
    {
     "data": {
      "text/html": [
       "<div>\n",
       "<style scoped>\n",
       "    .dataframe tbody tr th:only-of-type {\n",
       "        vertical-align: middle;\n",
       "    }\n",
       "\n",
       "    .dataframe tbody tr th {\n",
       "        vertical-align: top;\n",
       "    }\n",
       "\n",
       "    .dataframe thead th {\n",
       "        text-align: right;\n",
       "    }\n",
       "</style>\n",
       "<table border=\"1\" class=\"dataframe\">\n",
       "  <thead>\n",
       "    <tr style=\"text-align: right;\">\n",
       "      <th></th>\n",
       "      <th>0</th>\n",
       "    </tr>\n",
       "  </thead>\n",
       "  <tbody>\n",
       "    <tr>\n",
       "      <th>0</th>\n",
       "      <td>0.066667</td>\n",
       "    </tr>\n",
       "    <tr>\n",
       "      <th>1</th>\n",
       "      <td>0.066667</td>\n",
       "    </tr>\n",
       "    <tr>\n",
       "      <th>2</th>\n",
       "      <td>0.066667</td>\n",
       "    </tr>\n",
       "    <tr>\n",
       "      <th>3</th>\n",
       "      <td>0.066667</td>\n",
       "    </tr>\n",
       "    <tr>\n",
       "      <th>4</th>\n",
       "      <td>0.066667</td>\n",
       "    </tr>\n",
       "    <tr>\n",
       "      <th>5</th>\n",
       "      <td>0.066667</td>\n",
       "    </tr>\n",
       "    <tr>\n",
       "      <th>6</th>\n",
       "      <td>0.066667</td>\n",
       "    </tr>\n",
       "    <tr>\n",
       "      <th>7</th>\n",
       "      <td>0.066667</td>\n",
       "    </tr>\n",
       "    <tr>\n",
       "      <th>8</th>\n",
       "      <td>0.066667</td>\n",
       "    </tr>\n",
       "    <tr>\n",
       "      <th>9</th>\n",
       "      <td>0.066667</td>\n",
       "    </tr>\n",
       "    <tr>\n",
       "      <th>10</th>\n",
       "      <td>0.066667</td>\n",
       "    </tr>\n",
       "    <tr>\n",
       "      <th>11</th>\n",
       "      <td>0.066667</td>\n",
       "    </tr>\n",
       "    <tr>\n",
       "      <th>12</th>\n",
       "      <td>0.066667</td>\n",
       "    </tr>\n",
       "    <tr>\n",
       "      <th>13</th>\n",
       "      <td>0.066667</td>\n",
       "    </tr>\n",
       "    <tr>\n",
       "      <th>14</th>\n",
       "      <td>0.066667</td>\n",
       "    </tr>\n",
       "  </tbody>\n",
       "</table>\n",
       "</div>"
      ],
      "text/plain": [
       "           0\n",
       "0   0.066667\n",
       "1   0.066667\n",
       "2   0.066667\n",
       "3   0.066667\n",
       "4   0.066667\n",
       "5   0.066667\n",
       "6   0.066667\n",
       "7   0.066667\n",
       "8   0.066667\n",
       "9   0.066667\n",
       "10  0.066667\n",
       "11  0.066667\n",
       "12  0.066667\n",
       "13  0.066667\n",
       "14  0.066667"
      ]
     },
     "execution_count": 158,
     "metadata": {},
     "output_type": "execute_result"
    }
   ],
   "source": [
    "w"
   ]
  },
  {
   "cell_type": "code",
   "execution_count": 106,
   "metadata": {},
   "outputs": [],
   "source": [
    "w = w.T"
   ]
  },
  {
   "cell_type": "code",
   "execution_count": 108,
   "metadata": {},
   "outputs": [
    {
     "data": {
      "text/plain": [
       "array([[2.51185679],\n",
       "       [2.43105397],\n",
       "       [1.64750512],\n",
       "       [2.74080393],\n",
       "       [2.95792849],\n",
       "       [2.58920179],\n",
       "       [5.17030149],\n",
       "       [5.05885128],\n",
       "       [5.33479773],\n",
       "       [0.02914973],\n",
       "       [0.9873429 ],\n",
       "       [2.86426298],\n",
       "       [2.54133281],\n",
       "       [3.23305402],\n",
       "       [0.05003852]])"
      ]
     },
     "execution_count": 108,
     "metadata": {},
     "output_type": "execute_result"
    }
   ],
   "source": [
    "E_R"
   ]
  },
  {
   "cell_type": "code",
   "execution_count": 118,
   "metadata": {},
   "outputs": [],
   "source": [
    "wt = w.T"
   ]
  },
  {
   "cell_type": "code",
   "execution_count": 124,
   "metadata": {},
   "outputs": [
    {
     "data": {
      "text/plain": [
       "array([[0.55308078]])"
      ]
     },
     "execution_count": 124,
     "metadata": {},
     "output_type": "execute_result"
    }
   ],
   "source": [
    "np.dot(wt,new_cov).dot(w)"
   ]
  },
  {
   "cell_type": "code",
   "execution_count": 129,
   "metadata": {},
   "outputs": [
    {
     "data": {
      "text/plain": [
       "0   -0.367172\n",
       "Name: 0, dtype: float64"
      ]
     },
     "execution_count": 129,
     "metadata": {},
     "output_type": "execute_result"
    }
   ],
   "source": []
  },
  {
   "cell_type": "code",
   "execution_count": 145,
   "metadata": {},
   "outputs": [],
   "source": [
    "weight_new = pd.DataFrame(weight_new).T\n",
    "for i in range(62):\n",
    "    weight_new = weight_new.append(weight_new.iloc[0]) "
   ]
  },
  {
   "cell_type": "code",
   "execution_count": 139,
   "metadata": {},
   "outputs": [
    {
     "data": {
      "text/plain": [
       "0    0.999997\n",
       "0    0.999997\n",
       "0    0.999997\n",
       "0    0.999997\n",
       "0    0.999997\n",
       "       ...   \n",
       "0    0.999997\n",
       "0    0.999997\n",
       "0    0.999997\n",
       "0    0.999997\n",
       "0    0.999997\n",
       "Length: 63, dtype: float64"
      ]
     },
     "execution_count": 139,
     "metadata": {},
     "output_type": "execute_result"
    }
   ],
   "source": [
    "pd.DataFrame(weight_new)"
   ]
  }
 ],
 "metadata": {
  "kernelspec": {
   "display_name": "Python 3",
   "language": "python",
   "name": "python3"
  },
  "language_info": {
   "codemirror_mode": {
    "name": "ipython",
    "version": 3
   },
   "file_extension": ".py",
   "mimetype": "text/x-python",
   "name": "python",
   "nbconvert_exporter": "python",
   "pygments_lexer": "ipython3",
   "version": "3.7.6"
  }
 },
 "nbformat": 4,
 "nbformat_minor": 4
}
