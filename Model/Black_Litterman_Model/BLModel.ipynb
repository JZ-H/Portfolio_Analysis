{
 "cells": [
  {
   "cell_type": "code",
   "execution_count": 455,
   "metadata": {},
   "outputs": [],
   "source": [
    "import pandas as pd\n",
    "import numpy as np\n",
    "from scipy import optimize\n",
    "import sys\n",
    "sys.path.append('../../')\n",
    "from PortfolioAnalysis import Backtest"
   ]
  },
  {
   "cell_type": "code",
   "execution_count": 128,
   "metadata": {},
   "outputs": [],
   "source": [
    "def inv(df):\n",
    "    return pd.DataFrame(np.linalg.pinv(df.values), df.columns, df.index)"
   ]
  },
  {
   "cell_type": "code",
   "execution_count": 507,
   "metadata": {},
   "outputs": [],
   "source": [
    "class BL:\n",
    "    '''\n",
    "    Black-Litterman is used to get the final combination weight\n",
    "    Input:\n",
    "    \n",
    "    \n",
    "    \n",
    "    '''\n",
    "    def __init__(self, df_date, df_history, df_fr, market_view, sub_view):\n",
    "        self.df_date = df_date\n",
    "        self.df_history = df_history\n",
    "        self.df_fr = df_fr\n",
    "\n",
    "        # market_view为风险评价模型观点矩阵\n",
    "        # sub_view为宏观数据算出的主观观点矩阵\n",
    "        self.market_view = market_view\n",
    "        self.sub_view = sub_view\n",
    "        \n",
    "        # 权重\n",
    "        ay_weight = self.market_view.iloc[[0]]\n",
    "        \n",
    "        # 期望收益率平均值\n",
    "        df_r = np.log(df_history/df_history.shift(1))\n",
    "        market_r = (self.market_view*np.array(df_r)).dropna()\n",
    "        E_r = market_r.sum().sum()\n",
    "        \n",
    "        # 收益率标准差\n",
    "        market_sigma = np.std(market_r.sum(axis=1))\n",
    "        \n",
    "        # 无风险利率平均值\n",
    "        mean_fr = df_fr.mean()\n",
    "        \n",
    "        # 风险厌恶系数\n",
    "        Lambda = ((E_r-mean_fr)/(market_sigma))[0]\n",
    "        self.Lambda = Lambda\n",
    "        \n",
    "        # 资产收益率协方差矩阵(n*n)\n",
    "        market_cov = df_r.corr() \n",
    "        \n",
    "        # 先验收益率（n*1） = Lambda*协方差矩阵（n*n）*权重（n*1）\n",
    "        Sigma = Lambda * np.dot(market_cov , ay_weight.T)\n",
    "        self.Sigma = Sigma\n",
    "        \n",
    "        # 观点收益Q\n",
    "        sub_view = self.sub_view\n",
    "        Q = sub_view[sub_view.columns[len(sub_view.columns)-1]] .sum()\n",
    "        \n",
    "        # 观点信心水平LC默认为80%\n",
    "        LC = 0.8\n",
    "        \n",
    "        # CF\n",
    "        P = (self.sub_view.sum(axis=0))[:-1]\n",
    "        P = pd.DataFrame(P).T\n",
    "        CF = np.dot(np.dot(P,market_cov),P.T)[0]\n",
    "        \n",
    "        # 观点误差矩阵\n",
    "        Omega = pd.DataFrame([CF/LC])\n",
    "        \n",
    "        # 投资者信心程度，默认为1\n",
    "        tao = 1\n",
    "        self.tao = tao\n",
    "        \n",
    "        # 后验收益率 E(R)\n",
    "        E_R = np.dot(inv(inv(tao*market_cov)+np.dot(np.dot(P.T,inv(Omega)),P)),\\\n",
    "                         (np.dot(inv(tao*market_cov),self.Sigma)+(np.dot(np.dot(P.T,inv(Omega)),Q))))\n",
    "        self.E_R = E_R\n",
    "        \n",
    "        # 新收益率协方差矩阵\n",
    "        new_cov = inv(inv(tao*market_cov)+np.dot(np.dot(P.T,inv(Omega)),P))\n",
    "       \n",
    "        # 新的权重\n",
    "        weight_new = inv(Lambda*new_cov).dot(E_R).T\n",
    "        for i in range(62):\n",
    "            weight_new = weight_new.append(weight_new.iloc[0]) \n",
    "        weight_new.index = self.df_date\n",
    "        self.weight_new = weight_new\n",
    "        \n",
    "    \n",
    "    def print_E_R(self):\n",
    "        return self.E_R\n",
    "    \n",
    "    def print_weight(self):\n",
    "        return self.weight_new\n",
    "        "
   ]
  },
  {
   "cell_type": "code",
   "execution_count": 492,
   "metadata": {},
   "outputs": [],
   "source": [
    "market_view = pd.read_csv(\"../Risk_Parity_Model/view.csv\",index_col = 0)\n",
    "sub_view = pd.read_csv(\"../Subjective_View_Setting/Subjective_View.csv\",index_col = 0)\n",
    "df_history = pd.read_csv(\"../../Data/Data_outsample.csv\",index_col = 0)[:-28]"
   ]
  },
  {
   "cell_type": "code",
   "execution_count": 493,
   "metadata": {},
   "outputs": [],
   "source": [
    "market_view = market_view[0:63]\n",
    "sub_view = sub_view[0:63]\n",
    "df_history = df_history[0:63]"
   ]
  },
  {
   "cell_type": "code",
   "execution_count": 494,
   "metadata": {},
   "outputs": [],
   "source": [
    "df_date = df_history.index"
   ]
  },
  {
   "cell_type": "code",
   "execution_count": 495,
   "metadata": {},
   "outputs": [
    {
     "data": {
      "text/plain": [
       "63"
      ]
     },
     "execution_count": 495,
     "metadata": {},
     "output_type": "execute_result"
    }
   ],
   "source": [
    "len(df_date)"
   ]
  },
  {
   "cell_type": "code",
   "execution_count": 496,
   "metadata": {},
   "outputs": [],
   "source": [
    "df_fr = pd.DataFrame(np.repeat(0,63))"
   ]
  },
  {
   "cell_type": "code",
   "execution_count": 508,
   "metadata": {},
   "outputs": [],
   "source": [
    "xxx = BL(df_date, df_history, df_fr, market_view, sub_view)"
   ]
  },
  {
   "cell_type": "code",
   "execution_count": 509,
   "metadata": {},
   "outputs": [
    {
     "data": {
      "text/html": [
       "<div>\n",
       "<style scoped>\n",
       "    .dataframe tbody tr th:only-of-type {\n",
       "        vertical-align: middle;\n",
       "    }\n",
       "\n",
       "    .dataframe tbody tr th {\n",
       "        vertical-align: top;\n",
       "    }\n",
       "\n",
       "    .dataframe thead th {\n",
       "        text-align: right;\n",
       "    }\n",
       "</style>\n",
       "<table border=\"1\" class=\"dataframe\">\n",
       "  <thead>\n",
       "    <tr style=\"text-align: right;\">\n",
       "      <th></th>\n",
       "      <th>上证指数</th>\n",
       "      <th>沪深300</th>\n",
       "      <th>能源指数</th>\n",
       "      <th>工业指数</th>\n",
       "      <th>医疗保健指数</th>\n",
       "      <th>公用事业指数</th>\n",
       "      <th>中债-信用债总财富(总值)指数</th>\n",
       "      <th>中债-企业债总财富(总值)指数</th>\n",
       "      <th>中债-国开行债券总财富(总值)指数</th>\n",
       "      <th>南华农产品指数</th>\n",
       "      <th>黄金指数</th>\n",
       "      <th>日常消费指数</th>\n",
       "      <th>材料指数</th>\n",
       "      <th>电信服务指数</th>\n",
       "      <th>恒生综指</th>\n",
       "    </tr>\n",
       "    <tr>\n",
       "      <th>时间</th>\n",
       "      <th></th>\n",
       "      <th></th>\n",
       "      <th></th>\n",
       "      <th></th>\n",
       "      <th></th>\n",
       "      <th></th>\n",
       "      <th></th>\n",
       "      <th></th>\n",
       "      <th></th>\n",
       "      <th></th>\n",
       "      <th></th>\n",
       "      <th></th>\n",
       "      <th></th>\n",
       "      <th></th>\n",
       "      <th></th>\n",
       "    </tr>\n",
       "  </thead>\n",
       "  <tbody>\n",
       "    <tr>\n",
       "      <th>2016-03-29</th>\n",
       "      <td>0.008124</td>\n",
       "      <td>0.007894</td>\n",
       "      <td>0.00876</td>\n",
       "      <td>0.006748</td>\n",
       "      <td>0.00826</td>\n",
       "      <td>0.006261</td>\n",
       "      <td>0.287433</td>\n",
       "      <td>0.289289</td>\n",
       "      <td>0.288357</td>\n",
       "      <td>0.040869</td>\n",
       "      <td>0.006287</td>\n",
       "      <td>0.007818</td>\n",
       "      <td>0.007137</td>\n",
       "      <td>0.007688</td>\n",
       "      <td>0.015085</td>\n",
       "    </tr>\n",
       "    <tr>\n",
       "      <th>2016-03-30</th>\n",
       "      <td>0.008124</td>\n",
       "      <td>0.007894</td>\n",
       "      <td>0.00876</td>\n",
       "      <td>0.006748</td>\n",
       "      <td>0.00826</td>\n",
       "      <td>0.006261</td>\n",
       "      <td>0.287433</td>\n",
       "      <td>0.289289</td>\n",
       "      <td>0.288357</td>\n",
       "      <td>0.040869</td>\n",
       "      <td>0.006287</td>\n",
       "      <td>0.007818</td>\n",
       "      <td>0.007137</td>\n",
       "      <td>0.007688</td>\n",
       "      <td>0.015085</td>\n",
       "    </tr>\n",
       "    <tr>\n",
       "      <th>2016-03-31</th>\n",
       "      <td>0.008124</td>\n",
       "      <td>0.007894</td>\n",
       "      <td>0.00876</td>\n",
       "      <td>0.006748</td>\n",
       "      <td>0.00826</td>\n",
       "      <td>0.006261</td>\n",
       "      <td>0.287433</td>\n",
       "      <td>0.289289</td>\n",
       "      <td>0.288357</td>\n",
       "      <td>0.040869</td>\n",
       "      <td>0.006287</td>\n",
       "      <td>0.007818</td>\n",
       "      <td>0.007137</td>\n",
       "      <td>0.007688</td>\n",
       "      <td>0.015085</td>\n",
       "    </tr>\n",
       "    <tr>\n",
       "      <th>2016-04-01</th>\n",
       "      <td>0.008124</td>\n",
       "      <td>0.007894</td>\n",
       "      <td>0.00876</td>\n",
       "      <td>0.006748</td>\n",
       "      <td>0.00826</td>\n",
       "      <td>0.006261</td>\n",
       "      <td>0.287433</td>\n",
       "      <td>0.289289</td>\n",
       "      <td>0.288357</td>\n",
       "      <td>0.040869</td>\n",
       "      <td>0.006287</td>\n",
       "      <td>0.007818</td>\n",
       "      <td>0.007137</td>\n",
       "      <td>0.007688</td>\n",
       "      <td>0.015085</td>\n",
       "    </tr>\n",
       "    <tr>\n",
       "      <th>2016-04-05</th>\n",
       "      <td>0.008124</td>\n",
       "      <td>0.007894</td>\n",
       "      <td>0.00876</td>\n",
       "      <td>0.006748</td>\n",
       "      <td>0.00826</td>\n",
       "      <td>0.006261</td>\n",
       "      <td>0.287433</td>\n",
       "      <td>0.289289</td>\n",
       "      <td>0.288357</td>\n",
       "      <td>0.040869</td>\n",
       "      <td>0.006287</td>\n",
       "      <td>0.007818</td>\n",
       "      <td>0.007137</td>\n",
       "      <td>0.007688</td>\n",
       "      <td>0.015085</td>\n",
       "    </tr>\n",
       "    <tr>\n",
       "      <th>...</th>\n",
       "      <td>...</td>\n",
       "      <td>...</td>\n",
       "      <td>...</td>\n",
       "      <td>...</td>\n",
       "      <td>...</td>\n",
       "      <td>...</td>\n",
       "      <td>...</td>\n",
       "      <td>...</td>\n",
       "      <td>...</td>\n",
       "      <td>...</td>\n",
       "      <td>...</td>\n",
       "      <td>...</td>\n",
       "      <td>...</td>\n",
       "      <td>...</td>\n",
       "      <td>...</td>\n",
       "    </tr>\n",
       "    <tr>\n",
       "      <th>2016-06-23</th>\n",
       "      <td>0.008124</td>\n",
       "      <td>0.007894</td>\n",
       "      <td>0.00876</td>\n",
       "      <td>0.006748</td>\n",
       "      <td>0.00826</td>\n",
       "      <td>0.006261</td>\n",
       "      <td>0.287433</td>\n",
       "      <td>0.289289</td>\n",
       "      <td>0.288357</td>\n",
       "      <td>0.040869</td>\n",
       "      <td>0.006287</td>\n",
       "      <td>0.007818</td>\n",
       "      <td>0.007137</td>\n",
       "      <td>0.007688</td>\n",
       "      <td>0.015085</td>\n",
       "    </tr>\n",
       "    <tr>\n",
       "      <th>2016-06-24</th>\n",
       "      <td>0.008124</td>\n",
       "      <td>0.007894</td>\n",
       "      <td>0.00876</td>\n",
       "      <td>0.006748</td>\n",
       "      <td>0.00826</td>\n",
       "      <td>0.006261</td>\n",
       "      <td>0.287433</td>\n",
       "      <td>0.289289</td>\n",
       "      <td>0.288357</td>\n",
       "      <td>0.040869</td>\n",
       "      <td>0.006287</td>\n",
       "      <td>0.007818</td>\n",
       "      <td>0.007137</td>\n",
       "      <td>0.007688</td>\n",
       "      <td>0.015085</td>\n",
       "    </tr>\n",
       "    <tr>\n",
       "      <th>2016-06-27</th>\n",
       "      <td>0.008124</td>\n",
       "      <td>0.007894</td>\n",
       "      <td>0.00876</td>\n",
       "      <td>0.006748</td>\n",
       "      <td>0.00826</td>\n",
       "      <td>0.006261</td>\n",
       "      <td>0.287433</td>\n",
       "      <td>0.289289</td>\n",
       "      <td>0.288357</td>\n",
       "      <td>0.040869</td>\n",
       "      <td>0.006287</td>\n",
       "      <td>0.007818</td>\n",
       "      <td>0.007137</td>\n",
       "      <td>0.007688</td>\n",
       "      <td>0.015085</td>\n",
       "    </tr>\n",
       "    <tr>\n",
       "      <th>2016-06-28</th>\n",
       "      <td>0.008124</td>\n",
       "      <td>0.007894</td>\n",
       "      <td>0.00876</td>\n",
       "      <td>0.006748</td>\n",
       "      <td>0.00826</td>\n",
       "      <td>0.006261</td>\n",
       "      <td>0.287433</td>\n",
       "      <td>0.289289</td>\n",
       "      <td>0.288357</td>\n",
       "      <td>0.040869</td>\n",
       "      <td>0.006287</td>\n",
       "      <td>0.007818</td>\n",
       "      <td>0.007137</td>\n",
       "      <td>0.007688</td>\n",
       "      <td>0.015085</td>\n",
       "    </tr>\n",
       "    <tr>\n",
       "      <th>2016-06-29</th>\n",
       "      <td>0.008124</td>\n",
       "      <td>0.007894</td>\n",
       "      <td>0.00876</td>\n",
       "      <td>0.006748</td>\n",
       "      <td>0.00826</td>\n",
       "      <td>0.006261</td>\n",
       "      <td>0.287433</td>\n",
       "      <td>0.289289</td>\n",
       "      <td>0.288357</td>\n",
       "      <td>0.040869</td>\n",
       "      <td>0.006287</td>\n",
       "      <td>0.007818</td>\n",
       "      <td>0.007137</td>\n",
       "      <td>0.007688</td>\n",
       "      <td>0.015085</td>\n",
       "    </tr>\n",
       "  </tbody>\n",
       "</table>\n",
       "<p>63 rows × 15 columns</p>\n",
       "</div>"
      ],
      "text/plain": [
       "                上证指数     沪深300     能源指数      工业指数   医疗保健指数    公用事业指数  \\\n",
       "时间                                                                     \n",
       "2016-03-29  0.008124  0.007894  0.00876  0.006748  0.00826  0.006261   \n",
       "2016-03-30  0.008124  0.007894  0.00876  0.006748  0.00826  0.006261   \n",
       "2016-03-31  0.008124  0.007894  0.00876  0.006748  0.00826  0.006261   \n",
       "2016-04-01  0.008124  0.007894  0.00876  0.006748  0.00826  0.006261   \n",
       "2016-04-05  0.008124  0.007894  0.00876  0.006748  0.00826  0.006261   \n",
       "...              ...       ...      ...       ...      ...       ...   \n",
       "2016-06-23  0.008124  0.007894  0.00876  0.006748  0.00826  0.006261   \n",
       "2016-06-24  0.008124  0.007894  0.00876  0.006748  0.00826  0.006261   \n",
       "2016-06-27  0.008124  0.007894  0.00876  0.006748  0.00826  0.006261   \n",
       "2016-06-28  0.008124  0.007894  0.00876  0.006748  0.00826  0.006261   \n",
       "2016-06-29  0.008124  0.007894  0.00876  0.006748  0.00826  0.006261   \n",
       "\n",
       "            中债-信用债总财富(总值)指数  中债-企业债总财富(总值)指数  中债-国开行债券总财富(总值)指数   南华农产品指数  \\\n",
       "时间                                                                          \n",
       "2016-03-29         0.287433         0.289289           0.288357  0.040869   \n",
       "2016-03-30         0.287433         0.289289           0.288357  0.040869   \n",
       "2016-03-31         0.287433         0.289289           0.288357  0.040869   \n",
       "2016-04-01         0.287433         0.289289           0.288357  0.040869   \n",
       "2016-04-05         0.287433         0.289289           0.288357  0.040869   \n",
       "...                     ...              ...                ...       ...   \n",
       "2016-06-23         0.287433         0.289289           0.288357  0.040869   \n",
       "2016-06-24         0.287433         0.289289           0.288357  0.040869   \n",
       "2016-06-27         0.287433         0.289289           0.288357  0.040869   \n",
       "2016-06-28         0.287433         0.289289           0.288357  0.040869   \n",
       "2016-06-29         0.287433         0.289289           0.288357  0.040869   \n",
       "\n",
       "                黄金指数    日常消费指数      材料指数    电信服务指数      恒生综指  \n",
       "时间                                                            \n",
       "2016-03-29  0.006287  0.007818  0.007137  0.007688  0.015085  \n",
       "2016-03-30  0.006287  0.007818  0.007137  0.007688  0.015085  \n",
       "2016-03-31  0.006287  0.007818  0.007137  0.007688  0.015085  \n",
       "2016-04-01  0.006287  0.007818  0.007137  0.007688  0.015085  \n",
       "2016-04-05  0.006287  0.007818  0.007137  0.007688  0.015085  \n",
       "...              ...       ...       ...       ...       ...  \n",
       "2016-06-23  0.006287  0.007818  0.007137  0.007688  0.015085  \n",
       "2016-06-24  0.006287  0.007818  0.007137  0.007688  0.015085  \n",
       "2016-06-27  0.006287  0.007818  0.007137  0.007688  0.015085  \n",
       "2016-06-28  0.006287  0.007818  0.007137  0.007688  0.015085  \n",
       "2016-06-29  0.006287  0.007818  0.007137  0.007688  0.015085  \n",
       "\n",
       "[63 rows x 15 columns]"
      ]
     },
     "execution_count": 509,
     "metadata": {},
     "output_type": "execute_result"
    }
   ],
   "source": [
    "xxx.print_weight()"
   ]
  },
  {
   "cell_type": "code",
   "execution_count": 513,
   "metadata": {},
   "outputs": [
    {
     "ename": "TypeError",
     "evalue": "'module' object is not callable",
     "output_type": "error",
     "traceback": [
      "\u001b[1;31m---------------------------------------------------------------------------\u001b[0m",
      "\u001b[1;31mTypeError\u001b[0m                                 Traceback (most recent call last)",
      "\u001b[1;32m<ipython-input-513-a08f4b05a2f2>\u001b[0m in \u001b[0;36m<module>\u001b[1;34m\u001b[0m\n\u001b[1;32m----> 1\u001b[1;33m \u001b[0mBacktest\u001b[0m\u001b[1;33m(\u001b[0m\u001b[0mdf_date\u001b[0m\u001b[1;33m,\u001b[0m \u001b[0mdf_history\u001b[0m\u001b[1;33m,\u001b[0m\u001b[0mdf_fr\u001b[0m\u001b[1;33m,\u001b[0m \u001b[0mxxx\u001b[0m\u001b[1;33m.\u001b[0m\u001b[0mprint_weight\u001b[0m\u001b[1;33m(\u001b[0m\u001b[1;33m)\u001b[0m\u001b[1;33m,\u001b[0m\u001b[1;34m'D'\u001b[0m\u001b[1;33m)\u001b[0m\u001b[1;33m\u001b[0m\u001b[1;33m\u001b[0m\u001b[0m\n\u001b[0m",
      "\u001b[1;31mTypeError\u001b[0m: 'module' object is not callable"
     ]
    }
   ],
   "source": [
    "Backtest(df_date, df_history,df_fr, xxx.print_weight(),'D')"
   ]
  },
  {
   "cell_type": "code",
   "execution_count": 502,
   "metadata": {},
   "outputs": [],
   "source": [
    "ay_weight = market_view.iloc[[0]]\n",
    "\n",
    "df_r = np.log(df_history/df_history.shift(1))\n",
    "market_r = (market_view*np.array(df_r)).dropna()\n",
    "E_r = market_r.sum().sum()\n",
    "\n",
    "market_sigma = np.std(market_r.sum(axis=1))\n",
    "mean_fr = df_fr.mean()\n",
    "Lambda = ((E_r-mean_fr)/(market_sigma))[0]\n",
    "market_cov = df_r.corr() \n",
    "Sigma = Lambda * np.dot(market_cov , ay_weight.T)\n",
    "Q = sub_view[sub_view.columns[len(sub_view.columns)-1]] .sum()\n",
    "LC = 0.8\n",
    "P = (sub_view.sum(axis=0))[:-1]\n",
    "P = pd.DataFrame(P).T\n",
    "CF = np.dot(np.dot(P,market_cov),P.T)[0]\n",
    "Omega = pd.DataFrame([CF/LC])\n",
    "tao = 1\n",
    "E_R = np.dot(inv(inv(tao*market_cov)+np.dot(np.dot(P.T,inv(Omega)),P)),\\\n",
    "                         (np.dot(inv(tao*market_cov),Sigma)+(np.dot(np.dot(P.T,inv(Omega)),Q))))\n",
    "new_cov = inv(inv(tao*market_cov)+np.dot(np.dot(P.T,inv(Omega)),P))"
   ]
  },
  {
   "cell_type": "code",
   "execution_count": 503,
   "metadata": {},
   "outputs": [
    {
     "data": {
      "text/plain": [
       "11.006243838685858"
      ]
     },
     "execution_count": 503,
     "metadata": {},
     "output_type": "execute_result"
    }
   ],
   "source": [
    "Lambda"
   ]
  },
  {
   "cell_type": "code",
   "execution_count": 504,
   "metadata": {},
   "outputs": [
    {
     "data": {
      "text/plain": [
       "array([[ 2.29462977],\n",
       "       [ 2.2194164 ],\n",
       "       [ 1.37142891],\n",
       "       [ 2.54117279],\n",
       "       [ 2.77899004],\n",
       "       [ 2.38428939],\n",
       "       [ 5.62706643],\n",
       "       [ 5.51255322],\n",
       "       [ 5.67335292],\n",
       "       [ 0.02834087],\n",
       "       [ 1.01854735],\n",
       "       [ 2.71237084],\n",
       "       [ 2.34021213],\n",
       "       [ 3.08648775],\n",
       "       [-0.1352731 ]])"
      ]
     },
     "execution_count": 504,
     "metadata": {},
     "output_type": "execute_result"
    }
   ],
   "source": [
    "E_R"
   ]
  },
  {
   "cell_type": "code",
   "execution_count": 505,
   "metadata": {},
   "outputs": [],
   "source": [
    "weight_new = inv(Lambda*new_cov).dot(E_R).T"
   ]
  },
  {
   "cell_type": "code",
   "execution_count": 506,
   "metadata": {},
   "outputs": [
    {
     "data": {
      "text/plain": [
       "上证指数                 0.008124\n",
       "沪深300                0.007894\n",
       "能源指数                 0.008760\n",
       "工业指数                 0.006748\n",
       "医疗保健指数               0.008260\n",
       "公用事业指数               0.006261\n",
       "中债-信用债总财富(总值)指数      0.287433\n",
       "中债-企业债总财富(总值)指数      0.289289\n",
       "中债-国开行债券总财富(总值)指数    0.288357\n",
       "南华农产品指数              0.040869\n",
       "黄金指数                 0.006287\n",
       "日常消费指数               0.007818\n",
       "材料指数                 0.007137\n",
       "电信服务指数               0.007688\n",
       "恒生综指                 0.015085\n",
       "Name: 0, dtype: float64"
      ]
     },
     "execution_count": 506,
     "metadata": {},
     "output_type": "execute_result"
    }
   ],
   "source": [
    "weight_new.iloc[0]"
   ]
  },
  {
   "cell_type": "code",
   "execution_count": 475,
   "metadata": {},
   "outputs": [],
   "source": []
  },
  {
   "cell_type": "code",
   "execution_count": 477,
   "metadata": {},
   "outputs": [],
   "source": []
  },
  {
   "cell_type": "code",
   "execution_count": 499,
   "metadata": {},
   "outputs": [],
   "source": [
    "weight_new.index=df_date"
   ]
  },
  {
   "cell_type": "code",
   "execution_count": 500,
   "metadata": {},
   "outputs": [
    {
     "data": {
      "text/html": [
       "<div>\n",
       "<style scoped>\n",
       "    .dataframe tbody tr th:only-of-type {\n",
       "        vertical-align: middle;\n",
       "    }\n",
       "\n",
       "    .dataframe tbody tr th {\n",
       "        vertical-align: top;\n",
       "    }\n",
       "\n",
       "    .dataframe thead th {\n",
       "        text-align: right;\n",
       "    }\n",
       "</style>\n",
       "<table border=\"1\" class=\"dataframe\">\n",
       "  <thead>\n",
       "    <tr style=\"text-align: right;\">\n",
       "      <th></th>\n",
       "      <th>上证指数</th>\n",
       "      <th>沪深300</th>\n",
       "      <th>能源指数</th>\n",
       "      <th>工业指数</th>\n",
       "      <th>医疗保健指数</th>\n",
       "      <th>公用事业指数</th>\n",
       "      <th>中债-信用债总财富(总值)指数</th>\n",
       "      <th>中债-企业债总财富(总值)指数</th>\n",
       "      <th>中债-国开行债券总财富(总值)指数</th>\n",
       "      <th>南华农产品指数</th>\n",
       "      <th>黄金指数</th>\n",
       "      <th>日常消费指数</th>\n",
       "      <th>材料指数</th>\n",
       "      <th>电信服务指数</th>\n",
       "      <th>恒生综指</th>\n",
       "    </tr>\n",
       "    <tr>\n",
       "      <th>时间</th>\n",
       "      <th></th>\n",
       "      <th></th>\n",
       "      <th></th>\n",
       "      <th></th>\n",
       "      <th></th>\n",
       "      <th></th>\n",
       "      <th></th>\n",
       "      <th></th>\n",
       "      <th></th>\n",
       "      <th></th>\n",
       "      <th></th>\n",
       "      <th></th>\n",
       "      <th></th>\n",
       "      <th></th>\n",
       "      <th></th>\n",
       "    </tr>\n",
       "  </thead>\n",
       "  <tbody>\n",
       "    <tr>\n",
       "      <th>2016-03-29</th>\n",
       "      <td>0.008124</td>\n",
       "      <td>0.007894</td>\n",
       "      <td>0.00876</td>\n",
       "      <td>0.006748</td>\n",
       "      <td>0.00826</td>\n",
       "      <td>0.006261</td>\n",
       "      <td>0.287433</td>\n",
       "      <td>0.289289</td>\n",
       "      <td>0.288357</td>\n",
       "      <td>0.040869</td>\n",
       "      <td>0.006287</td>\n",
       "      <td>0.007818</td>\n",
       "      <td>0.007137</td>\n",
       "      <td>0.007688</td>\n",
       "      <td>0.015085</td>\n",
       "    </tr>\n",
       "    <tr>\n",
       "      <th>2016-03-30</th>\n",
       "      <td>0.008124</td>\n",
       "      <td>0.007894</td>\n",
       "      <td>0.00876</td>\n",
       "      <td>0.006748</td>\n",
       "      <td>0.00826</td>\n",
       "      <td>0.006261</td>\n",
       "      <td>0.287433</td>\n",
       "      <td>0.289289</td>\n",
       "      <td>0.288357</td>\n",
       "      <td>0.040869</td>\n",
       "      <td>0.006287</td>\n",
       "      <td>0.007818</td>\n",
       "      <td>0.007137</td>\n",
       "      <td>0.007688</td>\n",
       "      <td>0.015085</td>\n",
       "    </tr>\n",
       "    <tr>\n",
       "      <th>2016-03-31</th>\n",
       "      <td>0.008124</td>\n",
       "      <td>0.007894</td>\n",
       "      <td>0.00876</td>\n",
       "      <td>0.006748</td>\n",
       "      <td>0.00826</td>\n",
       "      <td>0.006261</td>\n",
       "      <td>0.287433</td>\n",
       "      <td>0.289289</td>\n",
       "      <td>0.288357</td>\n",
       "      <td>0.040869</td>\n",
       "      <td>0.006287</td>\n",
       "      <td>0.007818</td>\n",
       "      <td>0.007137</td>\n",
       "      <td>0.007688</td>\n",
       "      <td>0.015085</td>\n",
       "    </tr>\n",
       "    <tr>\n",
       "      <th>2016-04-01</th>\n",
       "      <td>0.008124</td>\n",
       "      <td>0.007894</td>\n",
       "      <td>0.00876</td>\n",
       "      <td>0.006748</td>\n",
       "      <td>0.00826</td>\n",
       "      <td>0.006261</td>\n",
       "      <td>0.287433</td>\n",
       "      <td>0.289289</td>\n",
       "      <td>0.288357</td>\n",
       "      <td>0.040869</td>\n",
       "      <td>0.006287</td>\n",
       "      <td>0.007818</td>\n",
       "      <td>0.007137</td>\n",
       "      <td>0.007688</td>\n",
       "      <td>0.015085</td>\n",
       "    </tr>\n",
       "    <tr>\n",
       "      <th>2016-04-05</th>\n",
       "      <td>0.008124</td>\n",
       "      <td>0.007894</td>\n",
       "      <td>0.00876</td>\n",
       "      <td>0.006748</td>\n",
       "      <td>0.00826</td>\n",
       "      <td>0.006261</td>\n",
       "      <td>0.287433</td>\n",
       "      <td>0.289289</td>\n",
       "      <td>0.288357</td>\n",
       "      <td>0.040869</td>\n",
       "      <td>0.006287</td>\n",
       "      <td>0.007818</td>\n",
       "      <td>0.007137</td>\n",
       "      <td>0.007688</td>\n",
       "      <td>0.015085</td>\n",
       "    </tr>\n",
       "    <tr>\n",
       "      <th>...</th>\n",
       "      <td>...</td>\n",
       "      <td>...</td>\n",
       "      <td>...</td>\n",
       "      <td>...</td>\n",
       "      <td>...</td>\n",
       "      <td>...</td>\n",
       "      <td>...</td>\n",
       "      <td>...</td>\n",
       "      <td>...</td>\n",
       "      <td>...</td>\n",
       "      <td>...</td>\n",
       "      <td>...</td>\n",
       "      <td>...</td>\n",
       "      <td>...</td>\n",
       "      <td>...</td>\n",
       "    </tr>\n",
       "    <tr>\n",
       "      <th>2016-06-23</th>\n",
       "      <td>0.008124</td>\n",
       "      <td>0.007894</td>\n",
       "      <td>0.00876</td>\n",
       "      <td>0.006748</td>\n",
       "      <td>0.00826</td>\n",
       "      <td>0.006261</td>\n",
       "      <td>0.287433</td>\n",
       "      <td>0.289289</td>\n",
       "      <td>0.288357</td>\n",
       "      <td>0.040869</td>\n",
       "      <td>0.006287</td>\n",
       "      <td>0.007818</td>\n",
       "      <td>0.007137</td>\n",
       "      <td>0.007688</td>\n",
       "      <td>0.015085</td>\n",
       "    </tr>\n",
       "    <tr>\n",
       "      <th>2016-06-24</th>\n",
       "      <td>0.008124</td>\n",
       "      <td>0.007894</td>\n",
       "      <td>0.00876</td>\n",
       "      <td>0.006748</td>\n",
       "      <td>0.00826</td>\n",
       "      <td>0.006261</td>\n",
       "      <td>0.287433</td>\n",
       "      <td>0.289289</td>\n",
       "      <td>0.288357</td>\n",
       "      <td>0.040869</td>\n",
       "      <td>0.006287</td>\n",
       "      <td>0.007818</td>\n",
       "      <td>0.007137</td>\n",
       "      <td>0.007688</td>\n",
       "      <td>0.015085</td>\n",
       "    </tr>\n",
       "    <tr>\n",
       "      <th>2016-06-27</th>\n",
       "      <td>0.008124</td>\n",
       "      <td>0.007894</td>\n",
       "      <td>0.00876</td>\n",
       "      <td>0.006748</td>\n",
       "      <td>0.00826</td>\n",
       "      <td>0.006261</td>\n",
       "      <td>0.287433</td>\n",
       "      <td>0.289289</td>\n",
       "      <td>0.288357</td>\n",
       "      <td>0.040869</td>\n",
       "      <td>0.006287</td>\n",
       "      <td>0.007818</td>\n",
       "      <td>0.007137</td>\n",
       "      <td>0.007688</td>\n",
       "      <td>0.015085</td>\n",
       "    </tr>\n",
       "    <tr>\n",
       "      <th>2016-06-28</th>\n",
       "      <td>0.008124</td>\n",
       "      <td>0.007894</td>\n",
       "      <td>0.00876</td>\n",
       "      <td>0.006748</td>\n",
       "      <td>0.00826</td>\n",
       "      <td>0.006261</td>\n",
       "      <td>0.287433</td>\n",
       "      <td>0.289289</td>\n",
       "      <td>0.288357</td>\n",
       "      <td>0.040869</td>\n",
       "      <td>0.006287</td>\n",
       "      <td>0.007818</td>\n",
       "      <td>0.007137</td>\n",
       "      <td>0.007688</td>\n",
       "      <td>0.015085</td>\n",
       "    </tr>\n",
       "    <tr>\n",
       "      <th>2016-06-29</th>\n",
       "      <td>0.008124</td>\n",
       "      <td>0.007894</td>\n",
       "      <td>0.00876</td>\n",
       "      <td>0.006748</td>\n",
       "      <td>0.00826</td>\n",
       "      <td>0.006261</td>\n",
       "      <td>0.287433</td>\n",
       "      <td>0.289289</td>\n",
       "      <td>0.288357</td>\n",
       "      <td>0.040869</td>\n",
       "      <td>0.006287</td>\n",
       "      <td>0.007818</td>\n",
       "      <td>0.007137</td>\n",
       "      <td>0.007688</td>\n",
       "      <td>0.015085</td>\n",
       "    </tr>\n",
       "  </tbody>\n",
       "</table>\n",
       "<p>63 rows × 15 columns</p>\n",
       "</div>"
      ],
      "text/plain": [
       "                上证指数     沪深300     能源指数      工业指数   医疗保健指数    公用事业指数  \\\n",
       "时间                                                                     \n",
       "2016-03-29  0.008124  0.007894  0.00876  0.006748  0.00826  0.006261   \n",
       "2016-03-30  0.008124  0.007894  0.00876  0.006748  0.00826  0.006261   \n",
       "2016-03-31  0.008124  0.007894  0.00876  0.006748  0.00826  0.006261   \n",
       "2016-04-01  0.008124  0.007894  0.00876  0.006748  0.00826  0.006261   \n",
       "2016-04-05  0.008124  0.007894  0.00876  0.006748  0.00826  0.006261   \n",
       "...              ...       ...      ...       ...      ...       ...   \n",
       "2016-06-23  0.008124  0.007894  0.00876  0.006748  0.00826  0.006261   \n",
       "2016-06-24  0.008124  0.007894  0.00876  0.006748  0.00826  0.006261   \n",
       "2016-06-27  0.008124  0.007894  0.00876  0.006748  0.00826  0.006261   \n",
       "2016-06-28  0.008124  0.007894  0.00876  0.006748  0.00826  0.006261   \n",
       "2016-06-29  0.008124  0.007894  0.00876  0.006748  0.00826  0.006261   \n",
       "\n",
       "            中债-信用债总财富(总值)指数  中债-企业债总财富(总值)指数  中债-国开行债券总财富(总值)指数   南华农产品指数  \\\n",
       "时间                                                                          \n",
       "2016-03-29         0.287433         0.289289           0.288357  0.040869   \n",
       "2016-03-30         0.287433         0.289289           0.288357  0.040869   \n",
       "2016-03-31         0.287433         0.289289           0.288357  0.040869   \n",
       "2016-04-01         0.287433         0.289289           0.288357  0.040869   \n",
       "2016-04-05         0.287433         0.289289           0.288357  0.040869   \n",
       "...                     ...              ...                ...       ...   \n",
       "2016-06-23         0.287433         0.289289           0.288357  0.040869   \n",
       "2016-06-24         0.287433         0.289289           0.288357  0.040869   \n",
       "2016-06-27         0.287433         0.289289           0.288357  0.040869   \n",
       "2016-06-28         0.287433         0.289289           0.288357  0.040869   \n",
       "2016-06-29         0.287433         0.289289           0.288357  0.040869   \n",
       "\n",
       "                黄金指数    日常消费指数      材料指数    电信服务指数      恒生综指  \n",
       "时间                                                            \n",
       "2016-03-29  0.006287  0.007818  0.007137  0.007688  0.015085  \n",
       "2016-03-30  0.006287  0.007818  0.007137  0.007688  0.015085  \n",
       "2016-03-31  0.006287  0.007818  0.007137  0.007688  0.015085  \n",
       "2016-04-01  0.006287  0.007818  0.007137  0.007688  0.015085  \n",
       "2016-04-05  0.006287  0.007818  0.007137  0.007688  0.015085  \n",
       "...              ...       ...       ...       ...       ...  \n",
       "2016-06-23  0.006287  0.007818  0.007137  0.007688  0.015085  \n",
       "2016-06-24  0.006287  0.007818  0.007137  0.007688  0.015085  \n",
       "2016-06-27  0.006287  0.007818  0.007137  0.007688  0.015085  \n",
       "2016-06-28  0.006287  0.007818  0.007137  0.007688  0.015085  \n",
       "2016-06-29  0.006287  0.007818  0.007137  0.007688  0.015085  \n",
       "\n",
       "[63 rows x 15 columns]"
      ]
     },
     "execution_count": 500,
     "metadata": {},
     "output_type": "execute_result"
    }
   ],
   "source": [
    "weight_new"
   ]
  },
  {
   "cell_type": "code",
   "execution_count": 108,
   "metadata": {},
   "outputs": [
    {
     "data": {
      "text/plain": [
       "上证指数                  48.634054\n",
       "沪深300                 97.737535\n",
       "能源指数                -143.684916\n",
       "工业指数                  35.478149\n",
       "医疗保健指数                75.780662\n",
       "公用事业指数                89.881690\n",
       "中债-信用债总财富(总值)指数      312.688967\n",
       "中债-企业债总财富(总值)指数      353.316756\n",
       "中债-国开行债券总财富(总值)指数    150.648543\n",
       "南华农产品指数              -62.909313\n",
       "黄金指数                  52.053151\n",
       "日常消费指数               100.235902\n",
       "材料指数                 -12.876276\n",
       "电信服务指数               -33.294670\n",
       "恒生综指                  70.309767\n",
       "Q                     46.247229\n",
       "dtype: float64"
      ]
     },
     "execution_count": 108,
     "metadata": {},
     "output_type": "execute_result"
    }
   ],
   "source": [
    "\n",
    "        # CF\n",
    "        P = sub_view.sum(axis=0)\n",
    "        CF = np.dot(np.dot(P,market_cov),P.T)\n",
    "        \n",
    "        # 观点误差矩阵\n",
    "        Omega = CF/LC\n",
    "        \n",
    "        # 投资者信心程度，默认为1\n",
    "        tao = 1\n",
    "        self.tao = tao\n",
    "        \n",
    "        # 后验收益率 E(R)\n",
    "        E_R = np.dot(inv(inv(tao*market_cov)+np.dot(np.dot(P.T,inv(Omega)),P)),\\\n",
    "                         (np.dot(inv(tao*market_cov),self.Sigma)+(np.dot(np.dot(P.T,inv(Omega)),P))))\n",
    "        self.E_R = E_R\n",
    "        \n",
    "        # 新收益率协方差矩阵\n",
    "        new_cov = inv(inv(tao*market_cov)+np.dot(np.dot(P.T,inv(Omega)),P))"
   ]
  },
  {
   "cell_type": "code",
   "execution_count": 109,
   "metadata": {},
   "outputs": [],
   "source": [
    "P = sub_view[sub_view.columns[len(sub_view.columns)-1]]"
   ]
  },
  {
   "cell_type": "code",
   "execution_count": 125,
   "metadata": {},
   "outputs": [
    {
     "data": {
      "text/plain": [
       "array([3])"
      ]
     },
     "execution_count": 125,
     "metadata": {},
     "output_type": "execute_result"
    }
   ],
   "source": [
    "np.array([3])"
   ]
  },
  {
   "cell_type": "code",
   "execution_count": 122,
   "metadata": {},
   "outputs": [
    {
     "ename": "SyntaxError",
     "evalue": "invalid syntax (<ipython-input-122-3b2d7f1282d4>, line 1)",
     "output_type": "error",
     "traceback": [
      "\u001b[1;36m  File \u001b[1;32m\"<ipython-input-122-3b2d7f1282d4>\"\u001b[1;36m, line \u001b[1;32m1\u001b[0m\n\u001b[1;33m    np.dot(P,np.array([3])_inv)\u001b[0m\n\u001b[1;37m                             ^\u001b[0m\n\u001b[1;31mSyntaxError\u001b[0m\u001b[1;31m:\u001b[0m invalid syntax\n"
     ]
    }
   ],
   "source": [
    "np.dot(P,np.array([3])_inv)"
   ]
  },
  {
   "cell_type": "code",
   "execution_count": 120,
   "metadata": {},
   "outputs": [
    {
     "data": {
      "text/plain": [
       "38.18238141476492"
      ]
     },
     "execution_count": 120,
     "metadata": {},
     "output_type": "execute_result"
    }
   ],
   "source": [
    "np.dot(P,P.T)"
   ]
  },
  {
   "cell_type": "code",
   "execution_count": 127,
   "metadata": {},
   "outputs": [
    {
     "data": {
      "text/plain": [
       "array([-0.14697862, -0.14697862, -0.14697862, ...,  0.00063078,\n",
       "        0.00063078,  0.00063078])"
      ]
     },
     "execution_count": 127,
     "metadata": {},
     "output_type": "execute_result"
    }
   ],
   "source": [
    "P.values"
   ]
  },
  {
   "cell_type": "code",
   "execution_count": 77,
   "metadata": {},
   "outputs": [
    {
     "data": {
      "text/html": [
       "<div>\n",
       "<style scoped>\n",
       "    .dataframe tbody tr th:only-of-type {\n",
       "        vertical-align: middle;\n",
       "    }\n",
       "\n",
       "    .dataframe tbody tr th {\n",
       "        vertical-align: top;\n",
       "    }\n",
       "\n",
       "    .dataframe thead th {\n",
       "        text-align: right;\n",
       "    }\n",
       "</style>\n",
       "<table border=\"1\" class=\"dataframe\">\n",
       "  <thead>\n",
       "    <tr style=\"text-align: right;\">\n",
       "      <th></th>\n",
       "      <th>上证指数</th>\n",
       "      <th>沪深300</th>\n",
       "      <th>能源指数</th>\n",
       "      <th>工业指数</th>\n",
       "      <th>医疗保健指数</th>\n",
       "      <th>公用事业指数</th>\n",
       "      <th>中债-信用债总财富(总值)指数</th>\n",
       "      <th>中债-企业债总财富(总值)指数</th>\n",
       "      <th>中债-国开行债券总财富(总值)指数</th>\n",
       "      <th>南华农产品指数</th>\n",
       "      <th>黄金指数</th>\n",
       "      <th>日常消费指数</th>\n",
       "      <th>材料指数</th>\n",
       "      <th>电信服务指数</th>\n",
       "      <th>恒生综指</th>\n",
       "    </tr>\n",
       "    <tr>\n",
       "      <th>时间</th>\n",
       "      <th></th>\n",
       "      <th></th>\n",
       "      <th></th>\n",
       "      <th></th>\n",
       "      <th></th>\n",
       "      <th></th>\n",
       "      <th></th>\n",
       "      <th></th>\n",
       "      <th></th>\n",
       "      <th></th>\n",
       "      <th></th>\n",
       "      <th></th>\n",
       "      <th></th>\n",
       "      <th></th>\n",
       "      <th></th>\n",
       "    </tr>\n",
       "  </thead>\n",
       "  <tbody>\n",
       "    <tr>\n",
       "      <th>2016-03-29</th>\n",
       "      <td>0.008272</td>\n",
       "      <td>0.007829</td>\n",
       "      <td>0.00734</td>\n",
       "      <td>0.006385</td>\n",
       "      <td>0.007445</td>\n",
       "      <td>0.006861</td>\n",
       "      <td>0.289775</td>\n",
       "      <td>0.291762</td>\n",
       "      <td>0.289649</td>\n",
       "      <td>0.040803</td>\n",
       "      <td>0.007039</td>\n",
       "      <td>0.007992</td>\n",
       "      <td>0.006117</td>\n",
       "      <td>0.007013</td>\n",
       "      <td>0.015719</td>\n",
       "    </tr>\n",
       "  </tbody>\n",
       "</table>\n",
       "</div>"
      ],
      "text/plain": [
       "                上证指数     沪深300     能源指数      工业指数    医疗保健指数    公用事业指数  \\\n",
       "时间                                                                      \n",
       "2016-03-29  0.008272  0.007829  0.00734  0.006385  0.007445  0.006861   \n",
       "\n",
       "            中债-信用债总财富(总值)指数  中债-企业债总财富(总值)指数  中债-国开行债券总财富(总值)指数   南华农产品指数  \\\n",
       "时间                                                                          \n",
       "2016-03-29         0.289775         0.291762           0.289649  0.040803   \n",
       "\n",
       "                黄金指数    日常消费指数      材料指数    电信服务指数      恒生综指  \n",
       "时间                                                            \n",
       "2016-03-29  0.007039  0.007992  0.006117  0.007013  0.015719  "
      ]
     },
     "execution_count": 77,
     "metadata": {},
     "output_type": "execute_result"
    }
   ],
   "source": [
    "df_view1.iloc[[0]]"
   ]
  },
  {
   "cell_type": "code",
   "execution_count": 75,
   "metadata": {},
   "outputs": [
    {
     "data": {
      "text/plain": [
       "'2016-03-29'"
      ]
     },
     "execution_count": 75,
     "metadata": {},
     "output_type": "execute_result"
    }
   ],
   "source": [
    "start = 0\n",
    "df_view1 df_view1.index[start:start+6*252][0]\n"
   ]
  },
  {
   "cell_type": "code",
   "execution_count": 72,
   "metadata": {},
   "outputs": [],
   "source": [
    "df_date = df_view1.index[start:start+6*252]"
   ]
  },
  {
   "cell_type": "code",
   "execution_count": null,
   "metadata": {},
   "outputs": [],
   "source": []
  },
  {
   "cell_type": "code",
   "execution_count": 94,
   "metadata": {},
   "outputs": [
    {
     "data": {
      "text/plain": [
       "array([[1],\n",
       "       [2],\n",
       "       [3]])"
      ]
     },
     "execution_count": 94,
     "metadata": {},
     "output_type": "execute_result"
    }
   ],
   "source": [
    "np.array([[1],[2],[3]])"
   ]
  },
  {
   "cell_type": "code",
   "execution_count": 92,
   "metadata": {},
   "outputs": [
    {
     "data": {
      "text/plain": [
       "array([1, 2, 3])"
      ]
     },
     "execution_count": 92,
     "metadata": {},
     "output_type": "execute_result"
    }
   ],
   "source": [
    "np.array([1,2,3])"
   ]
  },
  {
   "cell_type": "code",
   "execution_count": 95,
   "metadata": {},
   "outputs": [
    {
     "data": {
      "text/plain": [
       "array([14])"
      ]
     },
     "execution_count": 95,
     "metadata": {},
     "output_type": "execute_result"
    }
   ],
   "source": [
    "np.dot(np.array([1,2,3]),np.array([[1],[2],[3]]))"
   ]
  },
  {
   "cell_type": "code",
   "execution_count": 90,
   "metadata": {},
   "outputs": [
    {
     "data": {
      "text/html": [
       "<div>\n",
       "<style scoped>\n",
       "    .dataframe tbody tr th:only-of-type {\n",
       "        vertical-align: middle;\n",
       "    }\n",
       "\n",
       "    .dataframe tbody tr th {\n",
       "        vertical-align: top;\n",
       "    }\n",
       "\n",
       "    .dataframe thead th {\n",
       "        text-align: right;\n",
       "    }\n",
       "</style>\n",
       "<table border=\"1\" class=\"dataframe\">\n",
       "  <thead>\n",
       "    <tr style=\"text-align: right;\">\n",
       "      <th></th>\n",
       "      <th>0</th>\n",
       "      <th>1</th>\n",
       "      <th>2</th>\n",
       "    </tr>\n",
       "  </thead>\n",
       "  <tbody>\n",
       "    <tr>\n",
       "      <th>0</th>\n",
       "      <td>1</td>\n",
       "      <td>2</td>\n",
       "      <td>6</td>\n",
       "    </tr>\n",
       "    <tr>\n",
       "      <th>1</th>\n",
       "      <td>0</td>\n",
       "      <td>2</td>\n",
       "      <td>0</td>\n",
       "    </tr>\n",
       "    <tr>\n",
       "      <th>2</th>\n",
       "      <td>2</td>\n",
       "      <td>4</td>\n",
       "      <td>0</td>\n",
       "    </tr>\n",
       "    <tr>\n",
       "      <th>3</th>\n",
       "      <td>3</td>\n",
       "      <td>0</td>\n",
       "      <td>15</td>\n",
       "    </tr>\n",
       "    <tr>\n",
       "      <th>4</th>\n",
       "      <td>5</td>\n",
       "      <td>0</td>\n",
       "      <td>18</td>\n",
       "    </tr>\n",
       "    <tr>\n",
       "      <th>5</th>\n",
       "      <td>0</td>\n",
       "      <td>4</td>\n",
       "      <td>-21</td>\n",
       "    </tr>\n",
       "  </tbody>\n",
       "</table>\n",
       "</div>"
      ],
      "text/plain": [
       "   0  1   2\n",
       "0  1  2   6\n",
       "1  0  2   0\n",
       "2  2  4   0\n",
       "3  3  0  15\n",
       "4  5  0  18\n",
       "5  0  4 -21"
      ]
     },
     "execution_count": 90,
     "metadata": {},
     "output_type": "execute_result"
    }
   ],
   "source": [
    "np.array([1,2,3])*df_return_each"
   ]
  },
  {
   "cell_type": "code",
   "execution_count": 38,
   "metadata": {},
   "outputs": [],
   "source": [
    "df_date = pd.DataFrame({\"date\":[\"2020/01/01\",\"2020/01/02\",\"2020/01/03\",\"2020/01/04\",\"2020/01/05\",\"2020/01/06\"]})\n",
    "df_view = pd.DataFrame({\"v1\":[1,0,1,1,1,0],\"v2\":[1,1,2,0,0,1],\"v3\":[1,0,0,1,1,-1]})\n",
    "df_netvalue = pd.DataFrame({\"p1\":[1,2,2,3,5,6],\"p2\":[1,1,1,1,1,2],\"p3\":[2,3,4,5,6,7]})\n",
    "initial_asset = 100"
   ]
  },
  {
   "cell_type": "code",
   "execution_count": 34,
   "metadata": {},
   "outputs": [
    {
     "data": {
      "text/html": [
       "<div>\n",
       "<style scoped>\n",
       "    .dataframe tbody tr th:only-of-type {\n",
       "        vertical-align: middle;\n",
       "    }\n",
       "\n",
       "    .dataframe tbody tr th {\n",
       "        vertical-align: top;\n",
       "    }\n",
       "\n",
       "    .dataframe thead th {\n",
       "        text-align: right;\n",
       "    }\n",
       "</style>\n",
       "<table border=\"1\" class=\"dataframe\">\n",
       "  <thead>\n",
       "    <tr style=\"text-align: right;\">\n",
       "      <th></th>\n",
       "      <th>date</th>\n",
       "      <th>v1</th>\n",
       "      <th>v2</th>\n",
       "      <th>v3</th>\n",
       "      <th>p1</th>\n",
       "      <th>p2</th>\n",
       "      <th>p3</th>\n",
       "    </tr>\n",
       "  </thead>\n",
       "  <tbody>\n",
       "    <tr>\n",
       "      <th>0</th>\n",
       "      <td>2020/01/01</td>\n",
       "      <td>1</td>\n",
       "      <td>1</td>\n",
       "      <td>1</td>\n",
       "      <td>1</td>\n",
       "      <td>1</td>\n",
       "      <td>2</td>\n",
       "    </tr>\n",
       "    <tr>\n",
       "      <th>1</th>\n",
       "      <td>2020/01/02</td>\n",
       "      <td>0</td>\n",
       "      <td>1</td>\n",
       "      <td>0</td>\n",
       "      <td>2</td>\n",
       "      <td>1</td>\n",
       "      <td>3</td>\n",
       "    </tr>\n",
       "    <tr>\n",
       "      <th>2</th>\n",
       "      <td>2020/01/03</td>\n",
       "      <td>1</td>\n",
       "      <td>2</td>\n",
       "      <td>0</td>\n",
       "      <td>2</td>\n",
       "      <td>1</td>\n",
       "      <td>4</td>\n",
       "    </tr>\n",
       "    <tr>\n",
       "      <th>3</th>\n",
       "      <td>2020/01/04</td>\n",
       "      <td>1</td>\n",
       "      <td>0</td>\n",
       "      <td>1</td>\n",
       "      <td>3</td>\n",
       "      <td>1</td>\n",
       "      <td>5</td>\n",
       "    </tr>\n",
       "    <tr>\n",
       "      <th>4</th>\n",
       "      <td>2020/01/05</td>\n",
       "      <td>1</td>\n",
       "      <td>0</td>\n",
       "      <td>1</td>\n",
       "      <td>5</td>\n",
       "      <td>1</td>\n",
       "      <td>6</td>\n",
       "    </tr>\n",
       "    <tr>\n",
       "      <th>5</th>\n",
       "      <td>2020/01/06</td>\n",
       "      <td>0</td>\n",
       "      <td>1</td>\n",
       "      <td>-1</td>\n",
       "      <td>6</td>\n",
       "      <td>2</td>\n",
       "      <td>7</td>\n",
       "    </tr>\n",
       "  </tbody>\n",
       "</table>\n",
       "</div>"
      ],
      "text/plain": [
       "         date  v1  v2  v3  p1  p2  p3\n",
       "0  2020/01/01   1   1   1   1   1   2\n",
       "1  2020/01/02   0   1   0   2   1   3\n",
       "2  2020/01/03   1   2   0   2   1   4\n",
       "3  2020/01/04   1   0   1   3   1   5\n",
       "4  2020/01/05   1   0   1   5   1   6\n",
       "5  2020/01/06   0   1  -1   6   2   7"
      ]
     },
     "execution_count": 34,
     "metadata": {},
     "output_type": "execute_result"
    }
   ],
   "source": [
    "pd.concat([df_date,df_view,df_history], axis=1)"
   ]
  },
  {
   "cell_type": "code",
   "execution_count": 39,
   "metadata": {},
   "outputs": [],
   "source": [
    "ay_view = np.array(df_view)\n",
    "ay_hisotry = np.array(df_netvalue)\n",
    "df_return_each = pd.DataFrame(ay_view*ay_netvalue)\n",
    "df_return = df_price_each.sum(axis=1)"
   ]
  },
  {
   "cell_type": "code",
   "execution_count": 86,
   "metadata": {},
   "outputs": [
    {
     "data": {
      "text/plain": [
       "2.3000000000000003"
      ]
     },
     "execution_count": 86,
     "metadata": {},
     "output_type": "execute_result"
    }
   ],
   "source": [
    "sum(sum(np.array(df_return_each)*np.array([0.1,0.2,0])))"
   ]
  },
  {
   "cell_type": "code",
   "execution_count": 81,
   "metadata": {},
   "outputs": [
    {
     "data": {
      "text/html": [
       "<div>\n",
       "<style scoped>\n",
       "    .dataframe tbody tr th:only-of-type {\n",
       "        vertical-align: middle;\n",
       "    }\n",
       "\n",
       "    .dataframe tbody tr th {\n",
       "        vertical-align: top;\n",
       "    }\n",
       "\n",
       "    .dataframe thead th {\n",
       "        text-align: right;\n",
       "    }\n",
       "</style>\n",
       "<table border=\"1\" class=\"dataframe\">\n",
       "  <thead>\n",
       "    <tr style=\"text-align: right;\">\n",
       "      <th></th>\n",
       "      <th>0</th>\n",
       "      <th>1</th>\n",
       "      <th>2</th>\n",
       "    </tr>\n",
       "  </thead>\n",
       "  <tbody>\n",
       "    <tr>\n",
       "      <th>0</th>\n",
       "      <td>1</td>\n",
       "      <td>1</td>\n",
       "      <td>2</td>\n",
       "    </tr>\n",
       "    <tr>\n",
       "      <th>1</th>\n",
       "      <td>0</td>\n",
       "      <td>1</td>\n",
       "      <td>0</td>\n",
       "    </tr>\n",
       "    <tr>\n",
       "      <th>2</th>\n",
       "      <td>2</td>\n",
       "      <td>2</td>\n",
       "      <td>0</td>\n",
       "    </tr>\n",
       "    <tr>\n",
       "      <th>3</th>\n",
       "      <td>3</td>\n",
       "      <td>0</td>\n",
       "      <td>5</td>\n",
       "    </tr>\n",
       "    <tr>\n",
       "      <th>4</th>\n",
       "      <td>5</td>\n",
       "      <td>0</td>\n",
       "      <td>6</td>\n",
       "    </tr>\n",
       "    <tr>\n",
       "      <th>5</th>\n",
       "      <td>0</td>\n",
       "      <td>2</td>\n",
       "      <td>-7</td>\n",
       "    </tr>\n",
       "  </tbody>\n",
       "</table>\n",
       "</div>"
      ],
      "text/plain": [
       "   0  1  2\n",
       "0  1  1  2\n",
       "1  0  1  0\n",
       "2  2  2  0\n",
       "3  3  0  5\n",
       "4  5  0  6\n",
       "5  0  2 -7"
      ]
     },
     "execution_count": 81,
     "metadata": {},
     "output_type": "execute_result"
    }
   ],
   "source": [
    "df_return_each"
   ]
  },
  {
   "cell_type": "code",
   "execution_count": 42,
   "metadata": {},
   "outputs": [
    {
     "data": {
      "text/html": [
       "<div>\n",
       "<style scoped>\n",
       "    .dataframe tbody tr th:only-of-type {\n",
       "        vertical-align: middle;\n",
       "    }\n",
       "\n",
       "    .dataframe tbody tr th {\n",
       "        vertical-align: top;\n",
       "    }\n",
       "\n",
       "    .dataframe thead th {\n",
       "        text-align: right;\n",
       "    }\n",
       "</style>\n",
       "<table border=\"1\" class=\"dataframe\">\n",
       "  <thead>\n",
       "    <tr style=\"text-align: right;\">\n",
       "      <th></th>\n",
       "      <th>0</th>\n",
       "      <th>1</th>\n",
       "      <th>2</th>\n",
       "    </tr>\n",
       "  </thead>\n",
       "  <tbody>\n",
       "    <tr>\n",
       "      <th>0</th>\n",
       "      <td>1</td>\n",
       "      <td>1</td>\n",
       "      <td>2</td>\n",
       "    </tr>\n",
       "    <tr>\n",
       "      <th>1</th>\n",
       "      <td>0</td>\n",
       "      <td>1</td>\n",
       "      <td>0</td>\n",
       "    </tr>\n",
       "    <tr>\n",
       "      <th>2</th>\n",
       "      <td>2</td>\n",
       "      <td>2</td>\n",
       "      <td>0</td>\n",
       "    </tr>\n",
       "    <tr>\n",
       "      <th>3</th>\n",
       "      <td>3</td>\n",
       "      <td>0</td>\n",
       "      <td>5</td>\n",
       "    </tr>\n",
       "    <tr>\n",
       "      <th>4</th>\n",
       "      <td>5</td>\n",
       "      <td>0</td>\n",
       "      <td>6</td>\n",
       "    </tr>\n",
       "    <tr>\n",
       "      <th>5</th>\n",
       "      <td>0</td>\n",
       "      <td>2</td>\n",
       "      <td>-7</td>\n",
       "    </tr>\n",
       "  </tbody>\n",
       "</table>\n",
       "</div>"
      ],
      "text/plain": [
       "   0  1  2\n",
       "0  1  1  2\n",
       "1  0  1  0\n",
       "2  2  2  0\n",
       "3  3  0  5\n",
       "4  5  0  6\n",
       "5  0  2 -7"
      ]
     },
     "execution_count": 42,
     "metadata": {},
     "output_type": "execute_result"
    }
   ],
   "source": [
    "pd.DataFrame(ay_view*ay_netvalue)"
   ]
  },
  {
   "cell_type": "code",
   "execution_count": 26,
   "metadata": {},
   "outputs": [],
   "source": [
    "# the price of asset when position changes\n",
    "ay_view_close = np.array(df_view.shift(1))*np.repeat(ay_view_cg,3).reshape(6,3) + np.array(df_view.shift(0))*np.repeat(ay_view_cg==0,3).reshape(6,3)\n",
    "df_price_each_close = pd.DataFrame(ay_view_close*ay_history)\n",
    "df_price_each_close.iloc[0,:] = df_price_each.iloc[0,:]\n",
    "ay_price_each_close = np.array(df_price_each_close)"
   ]
  },
  {
   "cell_type": "code",
   "execution_count": 27,
   "metadata": {},
   "outputs": [
    {
     "data": {
      "text/plain": [
       "array([[1., 1., 2.],\n",
       "       [2., 1., 3.],\n",
       "       [0., 1., 0.],\n",
       "       [3., 2., 0.],\n",
       "       [5., 0., 6.],\n",
       "       [6., 0., 7.]])"
      ]
     },
     "execution_count": 27,
     "metadata": {},
     "output_type": "execute_result"
    }
   ],
   "source": [
    "ay_price_each_close"
   ]
  },
  {
   "cell_type": "code",
   "execution_count": null,
   "metadata": {},
   "outputs": [],
   "source": []
  }
 ],
 "metadata": {
  "kernelspec": {
   "display_name": "Python 3",
   "language": "python",
   "name": "python3"
  },
  "language_info": {
   "codemirror_mode": {
    "name": "ipython",
    "version": 3
   },
   "file_extension": ".py",
   "mimetype": "text/x-python",
   "name": "python",
   "nbconvert_exporter": "python",
   "pygments_lexer": "ipython3",
   "version": "3.7.6"
  }
 },
 "nbformat": 4,
 "nbformat_minor": 4
}
