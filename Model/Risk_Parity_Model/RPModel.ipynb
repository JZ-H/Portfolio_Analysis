{
 "cells": [
  {
   "cell_type": "markdown",
   "metadata": {},
   "source": [
    "# 该文件只是用来测试class之后会删"
   ]
  },
  {
   "cell_type": "code",
   "execution_count": 12,
   "metadata": {},
   "outputs": [],
   "source": [
    "import pandas as pd\n",
    "import numpy as np\n",
    "from scipy.optimize import minimize"
   ]
  },
  {
   "cell_type": "code",
   "execution_count": 13,
   "metadata": {},
   "outputs": [],
   "source": [
    "df_index = pd.read_excel(\"../../Data/Index.xls\",index_col=0)\n",
    "df_index = df_index.dropna()\n",
    "df_corr_index = df_index.corr()"
   ]
  },
  {
   "cell_type": "code",
   "execution_count": 43,
   "metadata": {},
   "outputs": [],
   "source": [
    "np.array(r_index.iloc[:,0])\n",
    "\n",
    "r=r_index\n",
    "r[\"p\"] = r_p\n",
    "\n",
    "cov_index_p=np.array([],dtype=\"float64\")\n",
    "for i in range(20):\n",
    "    cov_index_p=np.append(cov_index_p, np.cov(r_index.iloc[1:,i],r_p[1:])[0, 1])\n",
    "mrc = cov_index_p/r_p.std()\n",
    "\n",
    "trc = w*mrc\n",
    "trc_m = np.array([trc]*20)\n",
    "\n",
    "x = [1,2,3,4]\n",
    "x_m = np.array([x]*4)\n",
    "x_m_t = x_m.T\n",
    "\n",
    "x_m\n",
    "\n",
    "((x_m-x_m_t)**2)\n",
    "\n",
    "x_m_t"
   ]
  },
  {
   "cell_type": "code",
   "execution_count": 180,
   "metadata": {},
   "outputs": [],
   "source": [
    "class RPModel:\n",
    "    \"\"\"\n",
    "    Des: Risk-Parity Model\n",
    "    \n",
    "    Input:\n",
    "        NA is not allowed\n",
    "        Monthly frequence\n",
    "        date(increasing): %Y/%m/%d\n",
    "        history data: time series of history price of the assets\n",
    "        transcation view: view of long, short or close a position\n",
    "        risk-free rate: time series of risk-free rate\n",
    "        initial_asset(=100): the value of initital asset\n",
    "    \"\"\"\n",
    "    \n",
    "\n",
    "    def __init__(self, df_date, df_history):\n",
    "        self.df_date = df_date\n",
    "        self.df_history = df_history\n",
    "        self.num = df_history.shape[1]\n",
    "        self.r_index = np.log(df_index/df_index.shift(1))\n",
    "        \n",
    "    \n",
    "    def optimize(self, output = True):\n",
    "        sigma_p = self.r_p.std()\n",
    "        \n",
    "        def Error_Min(w):\n",
    "            # calculate Total Risk Contribution\n",
    "            cov_index_p=np.array([],dtype=\"float64\")\n",
    "            r_p = (self.r_index*w).sum(axis=1)\n",
    "            for i in range(self.num):\n",
    "                cov_index_p = np.append(cov_index_p, np.cov(self.r_index.iloc[1:,i], r_p[1:])[0, 1])\n",
    "            mrc = cov_index_p/sigma_p\n",
    "            trc = w*mrc\n",
    "\n",
    "            # calculate the deviation\n",
    "            trc_m = np.array([trc]*self.num)\n",
    "            trc_m_t = trc_m.T\n",
    "            e = (trc_m-trc_m_t)**2\n",
    "            return e.sum()\n",
    "        \n",
    "        cons = ({'type': 'eq', 'fun': lambda w: w.sum() - 1 })\n",
    "        w = [1/self.num,]*self.num\n",
    "        \n",
    "        # optimization\n",
    "        res = minimize(Error_Min,w,constraints=cons)\n",
    "        \n",
    "        # output\n",
    "        if output:\n",
    "            print(\"Status: \"+str(res.message))\n",
    "        \n",
    "        return res.x"
   ]
  },
  {
   "cell_type": "code",
   "execution_count": 181,
   "metadata": {},
   "outputs": [
    {
     "ename": "TypeError",
     "evalue": "__init__() missing 2 required positional arguments: 'df_date' and 'df_history'",
     "output_type": "error",
     "traceback": [
      "\u001b[1;31m---------------------------------------------------------------------------\u001b[0m",
      "\u001b[1;31mTypeError\u001b[0m                                 Traceback (most recent call last)",
      "\u001b[1;32m<ipython-input-181-9fbf02e2dc45>\u001b[0m in \u001b[0;36m<module>\u001b[1;34m\u001b[0m\n\u001b[1;32m----> 1\u001b[1;33m \u001b[0mRPModel\u001b[0m\u001b[1;33m(\u001b[0m\u001b[1;33m)\u001b[0m\u001b[1;33m\u001b[0m\u001b[1;33m\u001b[0m\u001b[0m\n\u001b[0m",
      "\u001b[1;31mTypeError\u001b[0m: __init__() missing 2 required positional arguments: 'df_date' and 'df_history'"
     ]
    }
   ],
   "source": [
    "RPModel()"
   ]
  },
  {
   "cell_type": "code",
   "execution_count": 192,
   "metadata": {},
   "outputs": [],
   "source": [
    "num = 20\n",
    "def Error_Min(w):\n",
    "    # calculate Total Risk Contribution\n",
    "    cov_index_p=np.array([],dtype=\"float64\")\n",
    "    r_p = (r_index*w).sum(axis=1)\n",
    "    sigma_p=r_p.std()\n",
    "    for i in range(num):\n",
    "        cov_index_p = np.append(cov_index_p, np.cov(r_index.iloc[1:,i],r_p[1:])[0, 1])\n",
    "    mrc = cov_index_p/sigma_p\n",
    "    trc = w*mrc\n",
    "\n",
    "    # calculate the deviation\n",
    "    trc_m = np.array([trc]*num)\n",
    "    trc_m_t = trc_m.T\n",
    "    e = (trc_m-trc_m_t)**2\n",
    "    return e.sum()\n",
    "\n",
    "cons = ({'type': 'eq', 'fun': lambda w: w.sum() - 1 })\n",
    "w = np.array([1/num,]*(num))\n",
    "\n",
    "# optimization\n",
    "res = minimize(Error_Min,w,constraints=cons, tol=1e-8)"
   ]
  },
  {
   "cell_type": "code",
   "execution_count": 194,
   "metadata": {},
   "outputs": [
    {
     "data": {
      "text/plain": [
       "array([0.00902367, 0.00511434, 0.00733612, 0.00518473, 0.00650393,\n",
       "       0.00818454, 0.00960919, 0.00603608, 0.00679933, 0.20921808,\n",
       "       0.21037603, 0.20926261, 0.2134494 , 0.04362414, 0.0060843 ,\n",
       "       0.01002971, 0.00692089, 0.00749122, 0.00599547, 0.01375621])"
      ]
     },
     "execution_count": 194,
     "metadata": {},
     "output_type": "execute_result"
    }
   ],
   "source": [
    "res.x"
   ]
  },
  {
   "cell_type": "code",
   "execution_count": null,
   "metadata": {},
   "outputs": [],
   "source": []
  }
 ],
 "metadata": {
  "kernelspec": {
   "display_name": "Python 3",
   "language": "python",
   "name": "python3"
  },
  "language_info": {
   "codemirror_mode": {
    "name": "ipython",
    "version": 3
   },
   "file_extension": ".py",
   "mimetype": "text/x-python",
   "name": "python",
   "nbconvert_exporter": "python",
   "pygments_lexer": "ipython3",
   "version": "3.7.4"
  }
 },
 "nbformat": 4,
 "nbformat_minor": 4
}
