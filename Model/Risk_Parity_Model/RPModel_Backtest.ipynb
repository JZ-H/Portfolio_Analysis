{
 "cells": [
  {
   "cell_type": "code",
   "execution_count": 2,
   "metadata": {},
   "outputs": [],
   "source": [
    "import pandas as pd\n",
    "import numpy as np\n",
    "import sys\n",
    "sys.path.append('../../')\n",
    "from PortfolioAnalysis import Backtest\n",
    "from PortfolioAnalysis import Model"
   ]
  },
  {
   "cell_type": "code",
   "execution_count": 3,
   "metadata": {},
   "outputs": [],
   "source": [
    "# load data\n",
    "df_index = pd.read_excel(\"../../Data/Index.xls\",index_col=0).dropna()\n",
    "df_date = pd.DatetimeIndex(df_index.index)"
   ]
  },
  {
   "cell_type": "code",
   "execution_count": null,
   "metadata": {},
   "outputs": [],
   "source": []
  },
  {
   "cell_type": "code",
   "execution_count": 4,
   "metadata": {},
   "outputs": [
    {
     "data": {
      "text/plain": [
       "南华农产品指数                -0.335671\n",
       "能源指数                   -0.167234\n",
       "黄金指数                    0.300879\n",
       "恒生综指                    0.501616\n",
       "中债-国开行债券总财富(总值)指数       0.559127\n",
       "中债-国开行债券总财富(7-10年)指数    0.559667\n",
       "中债-信用债总财富(总值)指数         0.561123\n",
       "中债-企业债总财富(总值)指数         0.563609\n",
       "日常消费指数                  0.570470\n",
       "电信服务指数                  0.585410\n",
       "工业指数                    0.623098\n",
       "公用事业指数                  0.625867\n",
       "上证指数                    0.638729\n",
       "材料指数                    0.647266\n",
       "医疗保健指数                  0.664938\n",
       "可选消费指数                  0.672836\n",
       "房地产指数                   0.672916\n",
       "金融指数                    0.677883\n",
       "信息技术指数                  0.683189\n",
       "沪深300                   0.685050\n",
       "dtype: float64"
      ]
     },
     "execution_count": 4,
     "metadata": {},
     "output_type": "execute_result"
    }
   ],
   "source": [
    "(df_index.corr().mean(axis=1)).sort_values()"
   ]
  },
  {
   "cell_type": "code",
   "execution_count": 5,
   "metadata": {},
   "outputs": [],
   "source": [
    "df_index.drop([\"信息技术指数\",\"金融指数\",\"中债-国开行债券总财富(7-10年)指数\",\"可选消费指数\",\"房地产指数\"],axis=1,inplace=True)"
   ]
  },
  {
   "cell_type": "code",
   "execution_count": 6,
   "metadata": {},
   "outputs": [],
   "source": [
    "df_index[6*252:].to_csv(\"..\\..\\Data\\Data_Outsample.csv\")\n",
    "df_index.to_csv(\"..\\..\\Data\\Data_All.csv\")"
   ]
  },
  {
   "cell_type": "code",
   "execution_count": 7,
   "metadata": {},
   "outputs": [
    {
     "data": {
      "text/plain": [
       "上证指数                 0\n",
       "沪深300                0\n",
       "能源指数                 0\n",
       "工业指数                 0\n",
       "医疗保健指数               0\n",
       "公用事业指数               0\n",
       "中债-信用债总财富(总值)指数      0\n",
       "中债-企业债总财富(总值)指数      0\n",
       "中债-国开行债券总财富(总值)指数    0\n",
       "南华农产品指数              0\n",
       "黄金指数                 0\n",
       "日常消费指数               0\n",
       "材料指数                 0\n",
       "电信服务指数               0\n",
       "恒生综指                 0\n",
       "dtype: int64"
      ]
     },
     "execution_count": 7,
     "metadata": {},
     "output_type": "execute_result"
    }
   ],
   "source": [
    "# check NAN\n",
    "df_index.isna().sum(axis=0)"
   ]
  },
  {
   "cell_type": "code",
   "execution_count": 6,
   "metadata": {},
   "outputs": [
    {
     "name": "stdout",
     "output_type": "stream",
     "text": [
      "Status: Optimization terminated successfully.\n",
      "Status: Optimization terminated successfully.\n",
      "Status: Optimization terminated successfully.\n",
      "Status: Optimization terminated successfully.\n",
      "Status: Optimization terminated successfully.\n",
      "Status: Optimization terminated successfully.\n",
      "Status: Optimization terminated successfully.\n",
      "Status: Optimization terminated successfully.\n",
      "Status: Optimization terminated successfully.\n",
      "Status: Optimization terminated successfully.\n",
      "Status: Optimization terminated successfully.\n",
      "Status: Optimization terminated successfully.\n",
      "Status: Optimization terminated successfully.\n",
      "Status: Optimization terminated successfully.\n",
      "Status: Optimization terminated successfully.\n",
      "Status: Optimization terminated successfully.\n",
      "Status: Optimization terminated successfully.\n",
      "Status: Optimization terminated successfully.\n",
      "Status: Optimization terminated successfully.\n"
     ]
    }
   ],
   "source": [
    "l=[]\n",
    "gap = 0\n",
    "lg = len(df_date)\n",
    "while(1):\n",
    "    if(gap+252*6>lg):\n",
    "        break\n",
    "    rp = Model.RPModel(df_date[gap:gap+252*6],df_index.iloc[gap:gap+252*6,:])\n",
    "    rp_res = rp.optimize()\n",
    "    l.append(rp_res)\n",
    "    gap += 21*3"
   ]
  },
  {
   "cell_type": "code",
   "execution_count": 11,
   "metadata": {},
   "outputs": [],
   "source": [
    "view = np.array(l[:-1])\n",
    "\n",
    "df_view = pd.DataFrame(np.repeat(view,21*3,axis=0),index=df_date[252*6:252*6+21*3*18])\n",
    "df_view.columns = df_index.columns\n",
    "\n",
    "df_view.to_csv(\"view.csv\")"
   ]
  },
  {
   "cell_type": "code",
   "execution_count": 8,
   "metadata": {},
   "outputs": [
    {
     "data": {
      "text/html": [
       "<div>\n",
       "<style scoped>\n",
       "    .dataframe tbody tr th:only-of-type {\n",
       "        vertical-align: middle;\n",
       "    }\n",
       "\n",
       "    .dataframe tbody tr th {\n",
       "        vertical-align: top;\n",
       "    }\n",
       "\n",
       "    .dataframe thead th {\n",
       "        text-align: right;\n",
       "    }\n",
       "</style>\n",
       "<table border=\"1\" class=\"dataframe\">\n",
       "  <thead>\n",
       "    <tr style=\"text-align: right;\">\n",
       "      <th></th>\n",
       "      <th>上证指数</th>\n",
       "      <th>沪深300</th>\n",
       "      <th>能源指数</th>\n",
       "      <th>工业指数</th>\n",
       "      <th>医疗保健指数</th>\n",
       "      <th>公用事业指数</th>\n",
       "      <th>中债-信用债总财富(总值)指数</th>\n",
       "      <th>中债-企业债总财富(总值)指数</th>\n",
       "      <th>中债-国开行债券总财富(总值)指数</th>\n",
       "      <th>南华农产品指数</th>\n",
       "      <th>黄金指数</th>\n",
       "      <th>日常消费指数</th>\n",
       "      <th>材料指数</th>\n",
       "      <th>电信服务指数</th>\n",
       "      <th>恒生综指</th>\n",
       "    </tr>\n",
       "    <tr>\n",
       "      <th>时间</th>\n",
       "      <th></th>\n",
       "      <th></th>\n",
       "      <th></th>\n",
       "      <th></th>\n",
       "      <th></th>\n",
       "      <th></th>\n",
       "      <th></th>\n",
       "      <th></th>\n",
       "      <th></th>\n",
       "      <th></th>\n",
       "      <th></th>\n",
       "      <th></th>\n",
       "      <th></th>\n",
       "      <th></th>\n",
       "      <th></th>\n",
       "    </tr>\n",
       "  </thead>\n",
       "  <tbody>\n",
       "    <tr>\n",
       "      <th>2016-03-29</th>\n",
       "      <td>0.008272</td>\n",
       "      <td>0.007829</td>\n",
       "      <td>0.00734</td>\n",
       "      <td>0.006385</td>\n",
       "      <td>0.007445</td>\n",
       "      <td>0.006861</td>\n",
       "      <td>0.289775</td>\n",
       "      <td>0.291762</td>\n",
       "      <td>0.289649</td>\n",
       "      <td>0.040803</td>\n",
       "      <td>0.007039</td>\n",
       "      <td>0.007992</td>\n",
       "      <td>0.006117</td>\n",
       "      <td>0.007013</td>\n",
       "      <td>0.015719</td>\n",
       "    </tr>\n",
       "    <tr>\n",
       "      <th>2016-03-30</th>\n",
       "      <td>0.008272</td>\n",
       "      <td>0.007829</td>\n",
       "      <td>0.00734</td>\n",
       "      <td>0.006385</td>\n",
       "      <td>0.007445</td>\n",
       "      <td>0.006861</td>\n",
       "      <td>0.289775</td>\n",
       "      <td>0.291762</td>\n",
       "      <td>0.289649</td>\n",
       "      <td>0.040803</td>\n",
       "      <td>0.007039</td>\n",
       "      <td>0.007992</td>\n",
       "      <td>0.006117</td>\n",
       "      <td>0.007013</td>\n",
       "      <td>0.015719</td>\n",
       "    </tr>\n",
       "    <tr>\n",
       "      <th>2016-03-31</th>\n",
       "      <td>0.008272</td>\n",
       "      <td>0.007829</td>\n",
       "      <td>0.00734</td>\n",
       "      <td>0.006385</td>\n",
       "      <td>0.007445</td>\n",
       "      <td>0.006861</td>\n",
       "      <td>0.289775</td>\n",
       "      <td>0.291762</td>\n",
       "      <td>0.289649</td>\n",
       "      <td>0.040803</td>\n",
       "      <td>0.007039</td>\n",
       "      <td>0.007992</td>\n",
       "      <td>0.006117</td>\n",
       "      <td>0.007013</td>\n",
       "      <td>0.015719</td>\n",
       "    </tr>\n",
       "    <tr>\n",
       "      <th>2016-04-01</th>\n",
       "      <td>0.008272</td>\n",
       "      <td>0.007829</td>\n",
       "      <td>0.00734</td>\n",
       "      <td>0.006385</td>\n",
       "      <td>0.007445</td>\n",
       "      <td>0.006861</td>\n",
       "      <td>0.289775</td>\n",
       "      <td>0.291762</td>\n",
       "      <td>0.289649</td>\n",
       "      <td>0.040803</td>\n",
       "      <td>0.007039</td>\n",
       "      <td>0.007992</td>\n",
       "      <td>0.006117</td>\n",
       "      <td>0.007013</td>\n",
       "      <td>0.015719</td>\n",
       "    </tr>\n",
       "    <tr>\n",
       "      <th>2016-04-05</th>\n",
       "      <td>0.008272</td>\n",
       "      <td>0.007829</td>\n",
       "      <td>0.00734</td>\n",
       "      <td>0.006385</td>\n",
       "      <td>0.007445</td>\n",
       "      <td>0.006861</td>\n",
       "      <td>0.289775</td>\n",
       "      <td>0.291762</td>\n",
       "      <td>0.289649</td>\n",
       "      <td>0.040803</td>\n",
       "      <td>0.007039</td>\n",
       "      <td>0.007992</td>\n",
       "      <td>0.006117</td>\n",
       "      <td>0.007013</td>\n",
       "      <td>0.015719</td>\n",
       "    </tr>\n",
       "  </tbody>\n",
       "</table>\n",
       "</div>"
      ],
      "text/plain": [
       "                上证指数     沪深300     能源指数      工业指数    医疗保健指数    公用事业指数  \\\n",
       "时间                                                                      \n",
       "2016-03-29  0.008272  0.007829  0.00734  0.006385  0.007445  0.006861   \n",
       "2016-03-30  0.008272  0.007829  0.00734  0.006385  0.007445  0.006861   \n",
       "2016-03-31  0.008272  0.007829  0.00734  0.006385  0.007445  0.006861   \n",
       "2016-04-01  0.008272  0.007829  0.00734  0.006385  0.007445  0.006861   \n",
       "2016-04-05  0.008272  0.007829  0.00734  0.006385  0.007445  0.006861   \n",
       "\n",
       "            中债-信用债总财富(总值)指数  中债-企业债总财富(总值)指数  中债-国开行债券总财富(总值)指数   南华农产品指数  \\\n",
       "时间                                                                          \n",
       "2016-03-29         0.289775         0.291762           0.289649  0.040803   \n",
       "2016-03-30         0.289775         0.291762           0.289649  0.040803   \n",
       "2016-03-31         0.289775         0.291762           0.289649  0.040803   \n",
       "2016-04-01         0.289775         0.291762           0.289649  0.040803   \n",
       "2016-04-05         0.289775         0.291762           0.289649  0.040803   \n",
       "\n",
       "                黄金指数    日常消费指数      材料指数    电信服务指数      恒生综指  \n",
       "时间                                                            \n",
       "2016-03-29  0.007039  0.007992  0.006117  0.007013  0.015719  \n",
       "2016-03-30  0.007039  0.007992  0.006117  0.007013  0.015719  \n",
       "2016-03-31  0.007039  0.007992  0.006117  0.007013  0.015719  \n",
       "2016-04-01  0.007039  0.007992  0.006117  0.007013  0.015719  \n",
       "2016-04-05  0.007039  0.007992  0.006117  0.007013  0.015719  "
      ]
     },
     "execution_count": 8,
     "metadata": {},
     "output_type": "execute_result"
    }
   ],
   "source": [
    "df_view = pd.read_csv(\"view.csv\",index_col=0)\n",
    "df_view.head()"
   ]
  },
  {
   "cell_type": "code",
   "execution_count": 20,
   "metadata": {},
   "outputs": [
    {
     "data": {
      "text/html": [
       "<div>\n",
       "<style scoped>\n",
       "    .dataframe tbody tr th:only-of-type {\n",
       "        vertical-align: middle;\n",
       "    }\n",
       "\n",
       "    .dataframe tbody tr th {\n",
       "        vertical-align: top;\n",
       "    }\n",
       "\n",
       "    .dataframe thead th {\n",
       "        text-align: right;\n",
       "    }\n",
       "</style>\n",
       "<table border=\"1\" class=\"dataframe\">\n",
       "  <thead>\n",
       "    <tr style=\"text-align: right;\">\n",
       "      <th></th>\n",
       "      <th>0</th>\n",
       "      <th>1</th>\n",
       "      <th>2</th>\n",
       "      <th>3</th>\n",
       "      <th>4</th>\n",
       "      <th>5</th>\n",
       "      <th>6</th>\n",
       "      <th>7</th>\n",
       "      <th>8</th>\n",
       "      <th>9</th>\n",
       "      <th>10</th>\n",
       "      <th>11</th>\n",
       "      <th>12</th>\n",
       "      <th>13</th>\n",
       "      <th>14</th>\n",
       "    </tr>\n",
       "  </thead>\n",
       "  <tbody>\n",
       "    <tr>\n",
       "      <th>0</th>\n",
       "      <td>0.066667</td>\n",
       "      <td>0.066667</td>\n",
       "      <td>0.066667</td>\n",
       "      <td>0.066667</td>\n",
       "      <td>0.066667</td>\n",
       "      <td>0.066667</td>\n",
       "      <td>0.066667</td>\n",
       "      <td>0.066667</td>\n",
       "      <td>0.066667</td>\n",
       "      <td>0.066667</td>\n",
       "      <td>0.066667</td>\n",
       "      <td>0.066667</td>\n",
       "      <td>0.066667</td>\n",
       "      <td>0.066667</td>\n",
       "      <td>0.066667</td>\n",
       "    </tr>\n",
       "    <tr>\n",
       "      <th>1</th>\n",
       "      <td>0.066667</td>\n",
       "      <td>0.066667</td>\n",
       "      <td>0.066667</td>\n",
       "      <td>0.066667</td>\n",
       "      <td>0.066667</td>\n",
       "      <td>0.066667</td>\n",
       "      <td>0.066667</td>\n",
       "      <td>0.066667</td>\n",
       "      <td>0.066667</td>\n",
       "      <td>0.066667</td>\n",
       "      <td>0.066667</td>\n",
       "      <td>0.066667</td>\n",
       "      <td>0.066667</td>\n",
       "      <td>0.066667</td>\n",
       "      <td>0.066667</td>\n",
       "    </tr>\n",
       "    <tr>\n",
       "      <th>2</th>\n",
       "      <td>0.066667</td>\n",
       "      <td>0.066667</td>\n",
       "      <td>0.066667</td>\n",
       "      <td>0.066667</td>\n",
       "      <td>0.066667</td>\n",
       "      <td>0.066667</td>\n",
       "      <td>0.066667</td>\n",
       "      <td>0.066667</td>\n",
       "      <td>0.066667</td>\n",
       "      <td>0.066667</td>\n",
       "      <td>0.066667</td>\n",
       "      <td>0.066667</td>\n",
       "      <td>0.066667</td>\n",
       "      <td>0.066667</td>\n",
       "      <td>0.066667</td>\n",
       "    </tr>\n",
       "    <tr>\n",
       "      <th>3</th>\n",
       "      <td>0.066667</td>\n",
       "      <td>0.066667</td>\n",
       "      <td>0.066667</td>\n",
       "      <td>0.066667</td>\n",
       "      <td>0.066667</td>\n",
       "      <td>0.066667</td>\n",
       "      <td>0.066667</td>\n",
       "      <td>0.066667</td>\n",
       "      <td>0.066667</td>\n",
       "      <td>0.066667</td>\n",
       "      <td>0.066667</td>\n",
       "      <td>0.066667</td>\n",
       "      <td>0.066667</td>\n",
       "      <td>0.066667</td>\n",
       "      <td>0.066667</td>\n",
       "    </tr>\n",
       "    <tr>\n",
       "      <th>4</th>\n",
       "      <td>0.066667</td>\n",
       "      <td>0.066667</td>\n",
       "      <td>0.066667</td>\n",
       "      <td>0.066667</td>\n",
       "      <td>0.066667</td>\n",
       "      <td>0.066667</td>\n",
       "      <td>0.066667</td>\n",
       "      <td>0.066667</td>\n",
       "      <td>0.066667</td>\n",
       "      <td>0.066667</td>\n",
       "      <td>0.066667</td>\n",
       "      <td>0.066667</td>\n",
       "      <td>0.066667</td>\n",
       "      <td>0.066667</td>\n",
       "      <td>0.066667</td>\n",
       "    </tr>\n",
       "  </tbody>\n",
       "</table>\n",
       "</div>"
      ],
      "text/plain": [
       "         0         1         2         3         4         5         6   \\\n",
       "0  0.066667  0.066667  0.066667  0.066667  0.066667  0.066667  0.066667   \n",
       "1  0.066667  0.066667  0.066667  0.066667  0.066667  0.066667  0.066667   \n",
       "2  0.066667  0.066667  0.066667  0.066667  0.066667  0.066667  0.066667   \n",
       "3  0.066667  0.066667  0.066667  0.066667  0.066667  0.066667  0.066667   \n",
       "4  0.066667  0.066667  0.066667  0.066667  0.066667  0.066667  0.066667   \n",
       "\n",
       "         7         8         9         10        11        12        13  \\\n",
       "0  0.066667  0.066667  0.066667  0.066667  0.066667  0.066667  0.066667   \n",
       "1  0.066667  0.066667  0.066667  0.066667  0.066667  0.066667  0.066667   \n",
       "2  0.066667  0.066667  0.066667  0.066667  0.066667  0.066667  0.066667   \n",
       "3  0.066667  0.066667  0.066667  0.066667  0.066667  0.066667  0.066667   \n",
       "4  0.066667  0.066667  0.066667  0.066667  0.066667  0.066667  0.066667   \n",
       "\n",
       "         14  \n",
       "0  0.066667  \n",
       "1  0.066667  \n",
       "2  0.066667  \n",
       "3  0.066667  \n",
       "4  0.066667  "
      ]
     },
     "execution_count": 20,
     "metadata": {},
     "output_type": "execute_result"
    }
   ],
   "source": [
    "df_fr = pd.DataFrame(np.repeat(0,1197))\n",
    "\n",
    "\n",
    "df_bm = pd.DataFrame(np.repeat(np.array([[1/15,]*15]),63*18,axis=0))\n",
    "df_bm.head()"
   ]
  },
  {
   "cell_type": "code",
   "execution_count": 11,
   "metadata": {},
   "outputs": [
    {
     "data": {
      "text/html": [
       "<div>\n",
       "<style scoped>\n",
       "    .dataframe tbody tr th:only-of-type {\n",
       "        vertical-align: middle;\n",
       "    }\n",
       "\n",
       "    .dataframe tbody tr th {\n",
       "        vertical-align: top;\n",
       "    }\n",
       "\n",
       "    .dataframe thead th {\n",
       "        text-align: right;\n",
       "    }\n",
       "</style>\n",
       "<table border=\"1\" class=\"dataframe\">\n",
       "  <thead>\n",
       "    <tr style=\"text-align: right;\">\n",
       "      <th></th>\n",
       "      <th>Sharpe</th>\n",
       "      <th>Annualized Return</th>\n",
       "      <th>Annualized Volatility</th>\n",
       "      <th>Maximum Drawdown</th>\n",
       "    </tr>\n",
       "  </thead>\n",
       "  <tbody>\n",
       "    <tr>\n",
       "      <th>Value</th>\n",
       "      <td>0.4546</td>\n",
       "      <td>0.036795</td>\n",
       "      <td>0.080939</td>\n",
       "      <td>0.041296</td>\n",
       "    </tr>\n",
       "  </tbody>\n",
       "</table>\n",
       "</div>"
      ],
      "text/plain": [
       "       Sharpe  Annualized Return  Annualized Volatility  Maximum Drawdown\n",
       "Value  0.4546           0.036795               0.080939          0.041296"
      ]
     },
     "execution_count": 11,
     "metadata": {},
     "output_type": "execute_result"
    }
   ],
   "source": [
    "BT = Backtest.Backtest(df_view.index,df_index.iloc[252*6:252*6+63*18],df_view,df_fr,\"D\")\n",
    "\n",
    "BT.get_info()"
   ]
  },
  {
   "cell_type": "code",
   "execution_count": null,
   "metadata": {},
   "outputs": [],
   "source": []
  },
  {
   "cell_type": "code",
   "execution_count": 15,
   "metadata": {},
   "outputs": [
    {
     "data": {
      "text/html": [
       "<div>\n",
       "<style scoped>\n",
       "    .dataframe tbody tr th:only-of-type {\n",
       "        vertical-align: middle;\n",
       "    }\n",
       "\n",
       "    .dataframe tbody tr th {\n",
       "        vertical-align: top;\n",
       "    }\n",
       "\n",
       "    .dataframe thead th {\n",
       "        text-align: right;\n",
       "    }\n",
       "</style>\n",
       "<table border=\"1\" class=\"dataframe\">\n",
       "  <thead>\n",
       "    <tr style=\"text-align: right;\">\n",
       "      <th></th>\n",
       "      <th>Sharpe</th>\n",
       "      <th>Annualized Return</th>\n",
       "      <th>Annualized Volatility</th>\n",
       "      <th>Maximum Drawdown</th>\n",
       "    </tr>\n",
       "  </thead>\n",
       "  <tbody>\n",
       "    <tr>\n",
       "      <th>Value</th>\n",
       "      <td>0.021748</td>\n",
       "      <td>0.025452</td>\n",
       "      <td>1.170299</td>\n",
       "      <td>0.298374</td>\n",
       "    </tr>\n",
       "  </tbody>\n",
       "</table>\n",
       "</div>"
      ],
      "text/plain": [
       "         Sharpe  Annualized Return  Annualized Volatility  Maximum Drawdown\n",
       "Value  0.021748           0.025452               1.170299          0.298374"
      ]
     },
     "execution_count": 15,
     "metadata": {},
     "output_type": "execute_result"
    }
   ],
   "source": [
    "BTM = Backtest.Backtest(df_view.index,df_index.iloc[252*6:252*6+63*18],df_bm,df_fr,\"D\")\n",
    "\n",
    "BTM.get_info()"
   ]
  },
  {
   "cell_type": "code",
   "execution_count": null,
   "metadata": {},
   "outputs": [],
   "source": []
  },
  {
   "cell_type": "code",
   "execution_count": 21,
   "metadata": {},
   "outputs": [
    {
     "data": {
      "image/png": "[encoded data removed]",
      "text/plain": [
       "<Figure size 1296x288 with 1 Axes>"
      ]
     },
     "metadata": {
      "needs_background": "light"
     },
     "output_type": "display_data"
    }
   ],
   "source": [
    "Backtest.Plot2(df_view.index,BT.df_asset,BTM.df_asset,\"Return\",\"RP\",\"Market\")"
   ]
  },
  {
   "cell_type": "code",
   "execution_count": 19,
   "metadata": {},
   "outputs": [],
   "source": [
    "df_asset_all = pd.DataFrame({\"Date\":df_view.index,\"RP\":BT.df_asset,\"Market\":BTM.df_asset})\n",
    "df_asset_all.to_csv(\"RP_Asset.csv\",index=False)"
   ]
  },
  {
   "cell_type": "code",
   "execution_count": null,
   "metadata": {},
   "outputs": [],
   "source": []
  },
  {
   "cell_type": "code",
   "execution_count": null,
   "metadata": {},
   "outputs": [],
   "source": []
  }
 ],
 "metadata": {
  "kernelspec": {
   "display_name": "Python 3",
   "language": "python",
   "name": "python3"
  },
  "language_info": {
   "codemirror_mode": {
    "name": "ipython",
    "version": 3
   },
   "file_extension": ".py",
   "mimetype": "text/x-python",
   "name": "python",
   "nbconvert_exporter": "python",
   "pygments_lexer": "ipython3",
   "version": "3.7.4"
  }
 },
 "nbformat": 4,
 "nbformat_minor": 4
}
