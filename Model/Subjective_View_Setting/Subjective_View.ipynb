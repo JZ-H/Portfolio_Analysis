{
 "cells": [
  {
   "cell_type": "code",
   "execution_count": 445,
   "metadata": {},
   "outputs": [],
   "source": [
    "import numpy as np\n",
    "import pandas as pd\n",
    "import matplotlib.pyplot as plt\n",
    "from matplotlib.colors import ListedColormap\n",
    "from sklearn.model_selection import train_test_split\n",
    "from sklearn.preprocessing import StandardScaler\n",
    "from sklearn.datasets import make_moons, make_circles, make_classification\n",
    "from sklearn.naive_bayes import GaussianNB\n",
    "from sklearn.metrics import confusion_matrix as CM\n",
    "from sklearn.metrics import brier_score_loss\n",
    "from sklearn.metrics import log_loss\n",
    "import datetime\n",
    "import sys\n",
    "sys.path.append('../../')\n",
    "from PortfolioAnalysis import Backtest\n",
    "from PortfolioAnalysis import Model"
   ]
  },
  {
   "cell_type": "markdown",
   "metadata": {},
   "source": [
    "# Data Clean"
   ]
  },
  {
   "cell_type": "code",
   "execution_count": 459,
   "metadata": {},
   "outputs": [],
   "source": [
    "temp = pd.read_csv(\"../Risk_Parity_Model/view.csv\",index_col=0)\n",
    "ast = temp.columns\n",
    "df_date = pd.read_excel(\"../../Data/Index.xls\",index_col=0).dropna().index\n",
    "def Data_Clean(gap):\n",
    "    # data load\n",
    "    df_x = pd.read_csv(\"../../Data/Macro_PCA.csv\",index_col=0).iloc[120:,]\n",
    "    df_x.index = pd.DatetimeIndex(df_x.index)\n",
    "\n",
    "    df_y = pd.read_excel(\"../../Data/Index.xls\",index_col=0)[gap:252*6+gap]\n",
    "    df_y.index = pd.DatetimeIndex(df_y.index)\n",
    "\n",
    "\n",
    "    temp1 = ((df_y - df_y.shift(1))[1:]>0).astype(\"int\")\n",
    "    #temp2 = ((df_y - df_y.shift(1))[1:]<0).astype(\"int\")\n",
    "    df_y = temp1 \n",
    "\n",
    "    last_dates_of_the_month = []\n",
    "    dt_y_year = df_y.index\n",
    "    dt_y_year = dt_y_year.groupby(dt_y_year.year)\n",
    "    for dt in dt_y_year:\n",
    "        dt = dt_y_year[dt]\n",
    "        dt_month_group_dict = dt.groupby(dt.month)\n",
    "        for month in dt_month_group_dict:\n",
    "            last_date = max(dt_month_group_dict[month])\n",
    "            last_dates_of_the_month.append(last_date)\n",
    "    date_y = last_dates_of_the_month \n",
    "\n",
    "    date_x = str(date_y[0].year)+\"-\"+str(date_y[0].month)\n",
    "    df_y = df_y.loc[date_y,ast]\n",
    "    df_x = df_x.loc[date_x:,:]\n",
    "\n",
    "    df_x = df_x.shift(-3).dropna()\n",
    "    df_x = df_x.iloc[:df_y.shape[0],:]\n",
    "    df_x.index = df_y.index\n",
    "    return [df_x,df_y]"
   ]
  },
  {
   "cell_type": "markdown",
   "metadata": {},
   "source": [
    "# Train"
   ]
  },
  {
   "cell_type": "code",
   "execution_count": 460,
   "metadata": {},
   "outputs": [],
   "source": [
    "def NBModel(df_x,df_y,i,tsize=0.2):\n",
    "    Xtrain,Xtest,Ytrain,Ytest = train_test_split(df_x,df_y.loc[:,i],test_size = tsize,random_state=1)\n",
    "    gnb = GaussianNB().fit(Xtrain,Ytrain)\n",
    "\n",
    "    # accuracy\n",
    "    acc_score = gnb.score(Xtest,Ytest)\n",
    "\n",
    "    # predict\n",
    "    Y_pred = gnb.predict(Xtest)\n",
    "    prob = gnb.predict_proba(Xtest)\n",
    "\n",
    "    # CM\n",
    "    cm = CM(Ytest,Y_pred)\n",
    "\n",
    "    # Brier Score\n",
    "    bs = brier_score_loss(Ytest, prob[:,1], pos_label=1)\n",
    "\n",
    "    # Log\n",
    "    ll = log_loss(Ytest,prob)\n",
    "    df_info = pd.DataFrame({\"Accuracy_Score\":acc_score,\"Brier_Score\":bs,\"Log_Loss\":ll},index = [i])\n",
    "    return [prob[-1],df_info]"
   ]
  },
  {
   "cell_type": "code",
   "execution_count": 461,
   "metadata": {},
   "outputs": [],
   "source": [
    "def get_view(df_x,df_y):\n",
    "    # probability of \"1\" minus 0.5\n",
    "    # if positive -- that is, prob of 1 > 0.5 -- we conjecture price will go up\n",
    "    v=[]\n",
    "    df_info = pd.DataFrame({\"Accuracy_Score\":np.nan,\"Brier_Score\":np.nan,\"Log_Loss\":np.nan},index=['NAN'])\n",
    "    for i in ast:\n",
    "        (a,b) = NBModel(df_x,df_y,i)\n",
    "        v.append(a[1]-0.5)\n",
    "        df_info = pd.concat([df_info,b],axis=0)\n",
    "    df_info.dropna(inplace=True)\n",
    "    v = np.array(v)\n",
    "\n",
    "    # the sum of weight should be equal to 1\n",
    "    v = v/v.sum()\n",
    "    return (v,df_info)"
   ]
  },
  {
   "cell_type": "code",
   "execution_count": 462,
   "metadata": {},
   "outputs": [
    {
     "name": "stdout",
     "output_type": "stream",
     "text": [
      "count: 1\n",
      "count: 2\n",
      "count: 3\n",
      "count: 4\n",
      "count: 5\n",
      "count: 6\n",
      "count: 7\n",
      "count: 8\n",
      "count: 9\n",
      "count: 10\n",
      "count: 11\n",
      "count: 12\n",
      "count: 13\n",
      "count: 14\n",
      "count: 15\n",
      "count: 16\n",
      "count: 17\n",
      "count: 18\n"
     ]
    }
   ],
   "source": [
    "# calculate the subjective view\n",
    "lg = len(df_date)\n",
    "info = []\n",
    "view_sbj = []\n",
    "std_sbj = []\n",
    "gap = 0\n",
    "while(1):\n",
    "    if(gap+252*6+21*4>lg):\n",
    "        break\n",
    "    (df_x,df_y) = Data_Clean(gap)\n",
    "    (v,df_info) = get_view(df_x,df_y)\n",
    "    view_sbj.append(v)\n",
    "    info.append(df_info)\n",
    "    \n",
    "    # rolling forwards\n",
    "    gap += 21*3\n",
    "    print(\"count: \"+str(int(gap/63)))"
   ]
  },
  {
   "cell_type": "markdown",
   "metadata": {},
   "source": [
    "# Backtest"
   ]
  },
  {
   "cell_type": "code",
   "execution_count": 463,
   "metadata": {},
   "outputs": [],
   "source": [
    "df_index = pd.read_excel(\"../../Data/Index.xls\",index_col=0).dropna().loc[:,ast]"
   ]
  },
  {
   "cell_type": "code",
   "execution_count": 464,
   "metadata": {},
   "outputs": [],
   "source": [
    "# calculate the expected return\n",
    "gap = 0\n",
    "i = 0\n",
    "df_fr = pd.DataFrame(np.repeat(0,252*2))\n",
    "q = []\n",
    "while(1):\n",
    "    if(i==18):\n",
    "        break\n",
    "    df_bt = df_index.iloc[gap+252*4:252*6+gap,:]\n",
    "    df_view_temp = np.repeat(view_sbj[i].reshape(1,15),252*2,axis=0)\n",
    "    BT = Backtest.Backtest(df_bt.index,df_bt,df_view_temp,df_fr,\"D\")\n",
    "    q.append(BT.annualized_return().mean())\n",
    "    np.array(view_sbj)\n",
    "    i+=1\n",
    "    gap+=21*3\n",
    "np.array(q)"
   ]
  },
  {
   "cell_type": "code",
   "execution_count": 469,
   "metadata": {},
   "outputs": [],
   "source": [
    "df_sbj = pd.DataFrame(np.repeat(view_sbj,63,axis=0),index=temp.index)\n",
    "\n",
    "df_sbj['Q'] = np.repeat(q,63)\n",
    "\n",
    "df_sbj.to_csv(\"Subjective_View.csv\")"
   ]
  },
  {
   "cell_type": "code",
   "execution_count": null,
   "metadata": {},
   "outputs": [],
   "source": []
  },
  {
   "cell_type": "code",
   "execution_count": null,
   "metadata": {},
   "outputs": [],
   "source": []
  },
  {
   "cell_type": "code",
   "execution_count": 338,
   "metadata": {},
   "outputs": [],
   "source": []
  },
  {
   "cell_type": "code",
   "execution_count": null,
   "metadata": {},
   "outputs": [],
   "source": []
  },
  {
   "cell_type": "code",
   "execution_count": null,
   "metadata": {},
   "outputs": [],
   "source": []
  }
 ],
 "metadata": {
  "kernelspec": {
   "display_name": "Python 3",
   "language": "python",
   "name": "python3"
  },
  "language_info": {
   "codemirror_mode": {
    "name": "ipython",
    "version": 3
   },
   "file_extension": ".py",
   "mimetype": "text/x-python",
   "name": "python",
   "nbconvert_exporter": "python",
   "pygments_lexer": "ipython3",
   "version": "3.7.4"
  }
 },
 "nbformat": 4,
 "nbformat_minor": 4
}
