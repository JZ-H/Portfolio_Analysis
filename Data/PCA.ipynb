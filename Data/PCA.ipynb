{
 "cells": [
  {
   "cell_type": "code",
   "execution_count": 116,
   "metadata": {},
   "outputs": [],
   "source": [
    "import numpy as np\n",
    "import pandas as pd\n",
    "from sklearn.decomposition import PCA"
   ]
  },
  {
   "cell_type": "code",
   "execution_count": 153,
   "metadata": {},
   "outputs": [],
   "source": [
    "df = pd.read_excel(\"Macro.xls\",index_col=0).drop(columns=['GDP:现价:累计值'])[:-1]"
   ]
  },
  {
   "cell_type": "code",
   "execution_count": 154,
   "metadata": {},
   "outputs": [],
   "source": [
    "df = df.fillna(method=\"bfill\")"
   ]
  },
  {
   "cell_type": "code",
   "execution_count": 155,
   "metadata": {},
   "outputs": [
    {
     "name": "stdout",
     "output_type": "stream",
     "text": [
      "1 2 3 "
     ]
    }
   ],
   "source": [
    "pca=PCA(n_components=1)\n",
    "df_factor = df\n",
    "count = 0\n",
    "while(((df_factor.corr()>0.8).sum()-1).sum()>0):\n",
    "    count +=1\n",
    "    i = 0\n",
    "    while(not ((df_factor.corr()>0.8).sum()-1)[i]>0):\n",
    "        i+=1\n",
    "    temp_l = list((df_factor.corr()>0.8).iloc[i,:])\n",
    "    pca_l =[]\n",
    "    for j in range(len(temp_l)):\n",
    "        if temp_l[j]:\n",
    "            pca_l.append(df_factor.columns[j])\n",
    "    pca_l=list(set(pca_l))\n",
    "    temp_df=pca.fit_transform(df_factor.loc[:,pca_l])\n",
    "    df_factor.drop(pca_l,axis=1,inplace=True)\n",
    "    df_factor[\"PCA\"+str(count)] = temp_df\n",
    "    print(str(count)+\" \",end=\"\")"
   ]
  },
  {
   "cell_type": "code",
   "execution_count": 165,
   "metadata": {},
   "outputs": [
    {
     "data": {
      "text/html": [
       "<div>\n",
       "<style scoped>\n",
       "    .dataframe tbody tr th:only-of-type {\n",
       "        vertical-align: middle;\n",
       "    }\n",
       "\n",
       "    .dataframe tbody tr th {\n",
       "        vertical-align: top;\n",
       "    }\n",
       "\n",
       "    .dataframe thead th {\n",
       "        text-align: right;\n",
       "    }\n",
       "</style>\n",
       "<table border=\"1\" class=\"dataframe\">\n",
       "  <thead>\n",
       "    <tr style=\"text-align: right;\">\n",
       "      <th></th>\n",
       "      <th>PCA1</th>\n",
       "      <th>PCA2</th>\n",
       "      <th>PCA3</th>\n",
       "    </tr>\n",
       "  </thead>\n",
       "  <tbody>\n",
       "    <tr>\n",
       "      <th>PCA1</th>\n",
       "      <td>1.000000</td>\n",
       "      <td>0.146628</td>\n",
       "      <td>0.268590</td>\n",
       "    </tr>\n",
       "    <tr>\n",
       "      <th>PCA2</th>\n",
       "      <td>0.146628</td>\n",
       "      <td>1.000000</td>\n",
       "      <td>-0.557016</td>\n",
       "    </tr>\n",
       "    <tr>\n",
       "      <th>PCA3</th>\n",
       "      <td>0.268590</td>\n",
       "      <td>-0.557016</td>\n",
       "      <td>1.000000</td>\n",
       "    </tr>\n",
       "  </tbody>\n",
       "</table>\n",
       "</div>"
      ],
      "text/plain": [
       "          PCA1      PCA2      PCA3\n",
       "PCA1  1.000000  0.146628  0.268590\n",
       "PCA2  0.146628  1.000000 -0.557016\n",
       "PCA3  0.268590 -0.557016  1.000000"
      ]
     },
     "execution_count": 165,
     "metadata": {},
     "output_type": "execute_result"
    }
   ],
   "source": [
    "df_factor.corr()"
   ]
  },
  {
   "cell_type": "code",
   "execution_count": 164,
   "metadata": {},
   "outputs": [],
   "source": [
    "df_factor.to_csv(\"Macro_PCA.csv\")"
   ]
  }
 ],
 "metadata": {
  "kernelspec": {
   "display_name": "Python 3",
   "language": "python",
   "name": "python3"
  },
  "language_info": {
   "codemirror_mode": {
    "name": "ipython",
    "version": 3
   },
   "file_extension": ".py",
   "mimetype": "text/x-python",
   "name": "python",
   "nbconvert_exporter": "python",
   "pygments_lexer": "ipython3",
   "version": "3.7.6"
  }
 },
 "nbformat": 4,
 "nbformat_minor": 4
}
