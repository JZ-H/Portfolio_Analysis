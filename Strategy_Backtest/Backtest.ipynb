{
 "cells": [
  {
   "cell_type": "markdown",
   "metadata": {},
   "source": [
    "# Backtest Class\n",
    "\n",
    "Copy the code to Backtes.py after finishing"
   ]
  },
  {
   "cell_type": "code",
   "execution_count": null,
   "metadata": {},
   "outputs": [],
   "source": [
    "import pandas as pd\n",
    "import numpy as np\n",
    "\n",
    "class Backtest:\n",
    "    \"\"\"\n",
    "    Des: Backtest using historal data and transcation view\n",
    "    \n",
    "    Input:\n",
    "        date(increasing): %Y/%m/%d\n",
    "        history data: time series of history price of the assets\n",
    "        transcation view: view of long, short or close a position\n",
    "        risk-free rate: time series of risk-free rate\n",
    "        initial_asset(=100): the value of initital asset\n",
    "    \"\"\"\n",
    "    \n",
    "\n",
    "    def __init__(self, df_date, df_history,df_rf, df_view,initial_asset=100):\n",
    "        self.df_date = df_date\n",
    "        self.initial_asset = initial_asset\n",
    "        self.df_rf = df_rf\n",
    "        self.df_history = df_history\n",
    "        self.df_view = df_view\n",
    "        \n",
    "        # time series of net value with initital asset = initial_asset\n",
    "        self.df_asset\n",
    "\n",
    "    \n",
    "    def maxdown(self):\n",
    "    \n",
    "    \n",
    "    def annualized_return(self):\n",
    "        \n",
    "    \n",
    "    def annualized_volatility(self):\n",
    "        \n",
    "        \n",
    "    def shape(self):\n",
    "        \n",
    "    \n",
    "    def net_value(self):\n",
    "        \n",
    "        \n",
    "\n",
    "    def output_info(self):\n",
    "        \"\"\"\n",
    "        Des: Print the info of the backtest results\n",
    "        \"\"\"\n",
    "        \n",
    "    def gen_graph(self):\n",
    "        \"\"\"\n",
    "        Des: gen the graph of backtest (using R)\n",
    "        \"\"\"\n",
    "        \n",
    "        \n",
    "    def save_graph(self, path):\n",
    "        \"\"\"\n",
    "        Des: Save the graph of backtest\n",
    "        Input: \n",
    "            path: the path for saving graph\n",
    "        \"\"\"\n",
    "        \n",
    "    "
   ]
  }
 ],
 "metadata": {
  "kernelspec": {
   "display_name": "Python 3",
   "language": "python",
   "name": "python3"
  },
  "language_info": {
   "codemirror_mode": {
    "name": "ipython",
    "version": 3
   },
   "file_extension": ".py",
   "mimetype": "text/x-python",
   "name": "python",
   "nbconvert_exporter": "python",
   "pygments_lexer": "ipython3",
   "version": "3.7.4"
  }
 },
 "nbformat": 4,
 "nbformat_minor": 4
}
