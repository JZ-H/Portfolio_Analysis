{
 "cells": [
  {
   "cell_type": "markdown",
   "metadata": {},
   "source": [
    "# Backtest Class\n",
    "\n",
    "Copy the code to Backtes.py after finishing"
   ]
  },
  {
   "cell_type": "code",
   "execution_count": 42,
   "metadata": {},
   "outputs": [],
   "source": [
    "import pandas as pd\n",
    "import numpy as np\n",
    "import math\n",
    "import matplotlib.dates as dt\n",
    "import matplotlib.pyplot as plt"
   ]
  },
  {
   "cell_type": "code",
   "execution_count": 9,
   "metadata": {},
   "outputs": [],
   "source": [
    "class Backtest:\n",
    "    \"\"\"\n",
    "    Des: Backtest using historal data and transcation view\n",
    "    \n",
    "    Input:\n",
    "        NA is not allowed\n",
    "        Monthly frequence\n",
    "        date(increasing): %Y/%m/%d\n",
    "        history data: time series of history price of the assets\n",
    "        transcation view: view of long, short or close a position\n",
    "        risk-free rate: time series of risk-free rate\n",
    "        initial_asset(=100): the value of initital asset\n",
    "        frequency: Y-year; Q-quarter; M-month; D-day\n",
    "    \"\"\"\n",
    "\n",
    "    def __init__(self, df_date, df_history,df_rf, df_view,freq,initial_asset=100):\n",
    "        self.df_date = df_date\n",
    "        self.initial_asset = initial_asset\n",
    "        self.df_rf = df_rf\n",
    "        self.df_history = df_history\n",
    "        self.df_view = df_view\n",
    "        self.freq = freq\n",
    "        \n",
    "        ###  Calculate for Net Value of Asset with the transcation views  ###\n",
    "        ###  Main Idea: use the return return of 2 adjacent days to solve this problem  ###\n",
    "        \n",
    "        # price obtained by simply view times history price\n",
    "        ay_view = np.array(df_view)\n",
    "        ay_history = np.array(df_history)\n",
    "        df_price_each = pd.DataFrame(ay_view*ay_history)\n",
    "        df_price = df_price_each.sum(axis=1)\n",
    "\n",
    "        # bool value that wether the view changes or not \n",
    "        df_view_cg = ((abs(df_view-df_view.shift(1))).sum(axis=1))!=0\n",
    "        ay_view_cg = np.array(df_view_cg)\n",
    "\n",
    "        # the price of asset when position changes\n",
    "        ay_view_close = np.array(df_view.shift(1))*np.repeat(ay_view_cg,3).reshape(6,3) + np.array(df_view.shift(0))*np.repeat(ay_view_cg==0,3).reshape(6,3)\n",
    "        df_price_each_close = pd.DataFrame(ay_view_close*ay_history)\n",
    "        df_price_each_close.iloc[0,:] = df_price_each.iloc[0,:]\n",
    "        ay_price_each_close = np.array(df_price_each_close)\n",
    "\n",
    "        # the return rate of each day puls 1\n",
    "        # return between 2 adjacent days = the price of asset when position changes - the price obtained by simply view times history price\n",
    "        df_r = ((df_price_each_close-df_price_each.shift(1)).sum(axis=1))/df_price.shift(1) + 1\n",
    "        df_r[0] = 1\n",
    "\n",
    "        # the true value of assets each month\n",
    "        df_asset = df_r.cumprod()*100\n",
    "\n",
    "        # time series of net value with initital asset = initial_asset\n",
    "        self.df_asset = df_asset\n",
    "        \n",
    "        # log return of asserts each month\n",
    "        df_log_return = np.log(df_asset / df_asset.shift(1))\n",
    "        self.df_log_return = df_log_return\n",
    "        \n",
    "        if(self.freq = 'Y') :\n",
    "            Times = 1\n",
    "        if(self.freq = 'Q') :\n",
    "            Times = 4\n",
    "        if(self.freq = 'M') :\n",
    "            Times = 12\n",
    "        if(self.freq = 'D') :\n",
    "            Times = 252\n",
    "\n",
    "    # Maximum retracement of the portfolio\n",
    "    def maxdown(self):\n",
    "        df_asset = self.df_asset\n",
    "        md = ((df_asset.cummax()-df_asset)/df_asset).max()\n",
    "        return md\n",
    "    \n",
    "    # Annualized return of the portfolio\n",
    "    def annualized_return(self):\n",
    "        df_asset = self.df_asset\n",
    "        start = 0;\n",
    "        lst_annualized_return = []\n",
    "        while(True):\n",
    "            try:\n",
    "                df_asset[start+Times]\n",
    "            except:\n",
    "                break\n",
    "            if(len(df_asset[start:start+Times+1])<Times):\n",
    "                break\n",
    "            Log_return = math.log(df_asset[start+Times]/df_asset[start])\n",
    "            lst_annualized_return.append(Log_return)\n",
    "            start = start + Times\n",
    "        return lst_annualized_return\n",
    "    \n",
    "    # Annualized volatility of the portfolio\n",
    "    def annualized_volatility(self):\n",
    "        YV = np.std(self.annualized_return()) * np.sqrt(Times)\n",
    "        return YV\n",
    "    \n",
    "    # Sharpe ratio of the portfolio\n",
    "    def sharpe(self):\n",
    "        ER = mean(self.annualized_return())\n",
    "        RF = mean(list(self.df_rf))\n",
    "        YV = self.annualized_volatility()\n",
    "        return (ER - RF) / YV\n",
    "    \n",
    "    # Net value of the portfolio\n",
    "    def net_value(self):\n",
    "        return self.df_asset\n",
    "        \n",
    "    def output_info(self):\n",
    "        \"\"\"\n",
    "        Des: Print the info of the backtest results\n",
    "\n",
    "        \"\"\"\n",
    "        printf(\"The maxdown is %.4f\", %(self.maxdown())+\"\\n\")\n",
    "        printf(\"The annualized return is %.4f\",%(self.annualized_return())+\"\\n\")\n",
    "        printf(\"The annualized volatility is %.4f\",%(self.annualized_volatility())+\"\\n\")\n",
    "        printf(\"The annualized sharpe ratio is %.4f\",%(self.sharpe())+\"\\n\")\n",
    "        printf(\"The net value is %.4f\",%(self.net_value())+\"\\n\")\n",
    "        \n",
    "        \n",
    "    def gen_graph(self):\n",
    "        \"\"\"\n",
    "        Des: gen the graph of backtest (using R)\n",
    "        \"\"\"\n",
    "        \n",
    "        \n",
    "    def save_graph(self, path):\n",
    "        \"\"\"\n",
    "        Des: Save the graph of backtest\n",
    "        Input: \n",
    "            path: the path for saving graph\n",
    "        \"\"\"\n",
    "        \n",
    "    "
   ]
  },
  {
   "cell_type": "code",
   "execution_count": null,
   "metadata": {},
   "outputs": [],
   "source": []
  },
  {
   "cell_type": "markdown",
   "metadata": {},
   "source": [
    "# Data for Testing"
   ]
  },
  {
   "cell_type": "code",
   "execution_count": 15,
   "metadata": {},
   "outputs": [],
   "source": [
    "df_date = pd.DataFrame({\"date\":[\"2020/01/01\",\"2020/01/02\",\"2020/01/03\",\"2020/01/02\",\"2020/01/04\",\"2020/01/05\",\"2020/01/06\"]})\n",
    "df_view = pd.DataFrame({\"v1\":[1,0,1,1,1,0],\"v2\":[1,1,2,0,0,1],\"v3\":[1,0,0,1,1,-1]})\n",
    "df_history = pd.DataFrame({\"p1\":[1,2,2,3,5,6],\"p2\":[1,1,1,1,1,2],\"p3\":[2,3,4,5,6,7]})\n",
    "initial_asset = 100"
   ]
  },
  {
   "cell_type": "code",
   "execution_count": 16,
   "metadata": {},
   "outputs": [],
   "source": [
    "ay_view = np.array(df_view)\n",
    "ay_history = np.array(df_history)\n",
    "df_price_each = pd.DataFrame(ay_view*ay_history)\n",
    "df_price = df_price_each.sum(axis=1)\n",
    "\n",
    "# bool value that wether the view changes or not \n",
    "df_view_cg = ((abs(df_view-df_view.shift(1))).sum(axis=1))!=0\n",
    "ay_view_cg = np.array(df_view_cg)\n",
    "\n",
    "# the price of asset when position changes\n",
    "ay_view_close = np.array(df_view.shift(1))*np.repeat(ay_view_cg,3).reshape(6,3) + np.array(df_view.shift(0))*np.repeat(ay_view_cg==0,3).reshape(6,3)\n",
    "df_price_each_close = pd.DataFrame(ay_view_close*ay_history)\n",
    "df_price_each_close.iloc[0,:] = df_price_each.iloc[0,:]\n",
    "ay_price_each_close = np.array(df_price_each_close)\n",
    "\n",
    "# the return rate of each day puls 1\n",
    "# return between 2 adjacent days = the price of asset when position changes - the price obtained by simply view times history price\n",
    "df_r = ((df_price_each_close-df_price_each.shift(1)).sum(axis=1))/df_price.shift(1) + 1\n",
    "df_r[0] = 1\n",
    "\n",
    "# the true value of assets each month\n",
    "df_asset = df_r.cumprod()*100"
   ]
  },
  {
   "cell_type": "code",
   "execution_count": 61,
   "metadata": {},
   "outputs": [
    {
     "data": {
      "text/plain": [
       "[100.0, 150.0, 150.0, 187.5, 257.8125, 304.6875]"
      ]
     },
     "execution_count": 61,
     "metadata": {},
     "output_type": "execute_result"
    }
   ],
   "source": [
    "list(df_asset)"
   ]
  },
  {
   "cell_type": "code",
   "execution_count": 21,
   "metadata": {},
   "outputs": [
    {
     "data": {
      "text/plain": [
       "0    100.0000\n",
       "1    150.0000\n",
       "2    150.0000\n",
       "3    187.5000\n",
       "4    257.8125\n",
       "dtype: float64"
      ]
     },
     "execution_count": 21,
     "metadata": {},
     "output_type": "execute_result"
    }
   ],
   "source": [
    "df_asset[0:5]"
   ]
  },
  {
   "cell_type": "code",
   "execution_count": 22,
   "metadata": {},
   "outputs": [
    {
     "data": {
      "text/plain": [
       "257.8125"
      ]
     },
     "execution_count": 22,
     "metadata": {},
     "output_type": "execute_result"
    }
   ],
   "source": [
    "df_asset[0+5-1]"
   ]
  },
  {
   "cell_type": "code",
   "execution_count": 54,
   "metadata": {},
   "outputs": [],
   "source": [
    "start=0\n",
    "Times=1\n",
    "lst_annualized_return = []\n",
    "while(True):\n",
    "    try:\n",
    "        df_asset[start+Times]\n",
    "    except:\n",
    "        break\n",
    "    if(len(df_asset[start:start+Times+1])<Times):\n",
    "        break\n",
    "    Log_return = math.log(df_asset[start+Times]/df_asset[start])\n",
    "    lst_annualized_return.append(Log_return)\n",
    "    start = start + Times"
   ]
  },
  {
   "cell_type": "code",
   "execution_count": 55,
   "metadata": {},
   "outputs": [
    {
     "data": {
      "text/plain": [
       "0    100.0000\n",
       "1    150.0000\n",
       "2    150.0000\n",
       "3    187.5000\n",
       "4    257.8125\n",
       "5    304.6875\n",
       "dtype: float64"
      ]
     },
     "execution_count": 55,
     "metadata": {},
     "output_type": "execute_result"
    }
   ],
   "source": [
    "df_asset"
   ]
  },
  {
   "cell_type": "code",
   "execution_count": 57,
   "metadata": {},
   "outputs": [
    {
     "data": {
      "text/plain": [
       "[0.4054651081081644,\n",
       " 0.0,\n",
       " 0.22314355131420976,\n",
       " 0.3184537311185346,\n",
       " 0.16705408466316624]"
      ]
     },
     "execution_count": 57,
     "metadata": {},
     "output_type": "execute_result"
    }
   ],
   "source": [
    "lst_annualized_return"
   ]
  },
  {
   "cell_type": "code",
   "execution_count": 58,
   "metadata": {},
   "outputs": [
    {
     "data": {
      "text/plain": [
       "0.13803169229420945"
      ]
     },
     "execution_count": 58,
     "metadata": {},
     "output_type": "execute_result"
    }
   ],
   "source": [
    "np.std(lst_annualized_return)"
   ]
  },
  {
   "cell_type": "code",
   "execution_count": 40,
   "metadata": {},
   "outputs": [
    {
     "data": {
      "text/plain": [
       "0    100.0\n",
       "dtype: float64"
      ]
     },
     "execution_count": 40,
     "metadata": {},
     "output_type": "execute_result"
    }
   ],
   "source": [
    "df_asset[start:start+Times]"
   ]
  },
  {
   "cell_type": "code",
   "execution_count": 6,
   "metadata": {},
   "outputs": [
    {
     "data": {
      "text/html": [
       "<div>\n",
       "<style scoped>\n",
       "    .dataframe tbody tr th:only-of-type {\n",
       "        vertical-align: middle;\n",
       "    }\n",
       "\n",
       "    .dataframe tbody tr th {\n",
       "        vertical-align: top;\n",
       "    }\n",
       "\n",
       "    .dataframe thead th {\n",
       "        text-align: right;\n",
       "    }\n",
       "</style>\n",
       "<table border=\"1\" class=\"dataframe\">\n",
       "  <thead>\n",
       "    <tr style=\"text-align: right;\">\n",
       "      <th></th>\n",
       "      <th>p1</th>\n",
       "      <th>p2</th>\n",
       "      <th>p3</th>\n",
       "    </tr>\n",
       "  </thead>\n",
       "  <tbody>\n",
       "    <tr>\n",
       "      <th>0</th>\n",
       "      <td>1</td>\n",
       "      <td>1</td>\n",
       "      <td>2</td>\n",
       "    </tr>\n",
       "    <tr>\n",
       "      <th>1</th>\n",
       "      <td>2</td>\n",
       "      <td>1</td>\n",
       "      <td>3</td>\n",
       "    </tr>\n",
       "    <tr>\n",
       "      <th>2</th>\n",
       "      <td>2</td>\n",
       "      <td>1</td>\n",
       "      <td>4</td>\n",
       "    </tr>\n",
       "    <tr>\n",
       "      <th>3</th>\n",
       "      <td>3</td>\n",
       "      <td>1</td>\n",
       "      <td>5</td>\n",
       "    </tr>\n",
       "    <tr>\n",
       "      <th>4</th>\n",
       "      <td>5</td>\n",
       "      <td>1</td>\n",
       "      <td>6</td>\n",
       "    </tr>\n",
       "    <tr>\n",
       "      <th>5</th>\n",
       "      <td>6</td>\n",
       "      <td>2</td>\n",
       "      <td>7</td>\n",
       "    </tr>\n",
       "  </tbody>\n",
       "</table>\n",
       "</div>"
      ],
      "text/plain": [
       "   p1  p2  p3\n",
       "0   1   1   2\n",
       "1   2   1   3\n",
       "2   2   1   4\n",
       "3   3   1   5\n",
       "4   5   1   6\n",
       "5   6   2   7"
      ]
     },
     "execution_count": 6,
     "metadata": {},
     "output_type": "execute_result"
    }
   ],
   "source": [
    "df_history"
   ]
  },
  {
   "cell_type": "code",
   "execution_count": 7,
   "metadata": {},
   "outputs": [
    {
     "data": {
      "text/html": [
       "<div>\n",
       "<style scoped>\n",
       "    .dataframe tbody tr th:only-of-type {\n",
       "        vertical-align: middle;\n",
       "    }\n",
       "\n",
       "    .dataframe tbody tr th {\n",
       "        vertical-align: top;\n",
       "    }\n",
       "\n",
       "    .dataframe thead th {\n",
       "        text-align: right;\n",
       "    }\n",
       "</style>\n",
       "<table border=\"1\" class=\"dataframe\">\n",
       "  <thead>\n",
       "    <tr style=\"text-align: right;\">\n",
       "      <th></th>\n",
       "      <th>v1</th>\n",
       "      <th>v2</th>\n",
       "      <th>v3</th>\n",
       "      <th>p1</th>\n",
       "      <th>p2</th>\n",
       "      <th>p3</th>\n",
       "    </tr>\n",
       "  </thead>\n",
       "  <tbody>\n",
       "    <tr>\n",
       "      <th>0</th>\n",
       "      <td>1</td>\n",
       "      <td>1</td>\n",
       "      <td>1</td>\n",
       "      <td>1</td>\n",
       "      <td>1</td>\n",
       "      <td>2</td>\n",
       "    </tr>\n",
       "    <tr>\n",
       "      <th>1</th>\n",
       "      <td>0</td>\n",
       "      <td>1</td>\n",
       "      <td>0</td>\n",
       "      <td>2</td>\n",
       "      <td>1</td>\n",
       "      <td>3</td>\n",
       "    </tr>\n",
       "    <tr>\n",
       "      <th>2</th>\n",
       "      <td>1</td>\n",
       "      <td>2</td>\n",
       "      <td>0</td>\n",
       "      <td>2</td>\n",
       "      <td>1</td>\n",
       "      <td>4</td>\n",
       "    </tr>\n",
       "    <tr>\n",
       "      <th>3</th>\n",
       "      <td>1</td>\n",
       "      <td>0</td>\n",
       "      <td>1</td>\n",
       "      <td>3</td>\n",
       "      <td>1</td>\n",
       "      <td>5</td>\n",
       "    </tr>\n",
       "    <tr>\n",
       "      <th>4</th>\n",
       "      <td>1</td>\n",
       "      <td>0</td>\n",
       "      <td>1</td>\n",
       "      <td>5</td>\n",
       "      <td>1</td>\n",
       "      <td>6</td>\n",
       "    </tr>\n",
       "    <tr>\n",
       "      <th>5</th>\n",
       "      <td>0</td>\n",
       "      <td>1</td>\n",
       "      <td>-1</td>\n",
       "      <td>6</td>\n",
       "      <td>2</td>\n",
       "      <td>7</td>\n",
       "    </tr>\n",
       "  </tbody>\n",
       "</table>\n",
       "</div>"
      ],
      "text/plain": [
       "   v1  v2  v3  p1  p2  p3\n",
       "0   1   1   1   1   1   2\n",
       "1   0   1   0   2   1   3\n",
       "2   1   2   0   2   1   4\n",
       "3   1   0   1   3   1   5\n",
       "4   1   0   1   5   1   6\n",
       "5   0   1  -1   6   2   7"
      ]
     },
     "execution_count": 7,
     "metadata": {},
     "output_type": "execute_result"
    }
   ],
   "source": [
    "df_view.join(df_history)"
   ]
  },
  {
   "cell_type": "code",
   "execution_count": 53,
   "metadata": {},
   "outputs": [
    {
     "data": {
      "text/html": [
       "<div>\n",
       "<style scoped>\n",
       "    .dataframe tbody tr th:only-of-type {\n",
       "        vertical-align: middle;\n",
       "    }\n",
       "\n",
       "    .dataframe tbody tr th {\n",
       "        vertical-align: top;\n",
       "    }\n",
       "\n",
       "    .dataframe thead th {\n",
       "        text-align: right;\n",
       "    }\n",
       "</style>\n",
       "<table border=\"1\" class=\"dataframe\">\n",
       "  <thead>\n",
       "    <tr style=\"text-align: right;\">\n",
       "      <th></th>\n",
       "      <th>v1</th>\n",
       "      <th>v2</th>\n",
       "      <th>v3</th>\n",
       "    </tr>\n",
       "  </thead>\n",
       "  <tbody>\n",
       "    <tr>\n",
       "      <th>0</th>\n",
       "      <td>NaN</td>\n",
       "      <td>NaN</td>\n",
       "      <td>NaN</td>\n",
       "    </tr>\n",
       "    <tr>\n",
       "      <th>1</th>\n",
       "      <td>-1.0</td>\n",
       "      <td>0.0</td>\n",
       "      <td>-1.0</td>\n",
       "    </tr>\n",
       "    <tr>\n",
       "      <th>2</th>\n",
       "      <td>1.0</td>\n",
       "      <td>1.0</td>\n",
       "      <td>0.0</td>\n",
       "    </tr>\n",
       "    <tr>\n",
       "      <th>3</th>\n",
       "      <td>0.0</td>\n",
       "      <td>-2.0</td>\n",
       "      <td>1.0</td>\n",
       "    </tr>\n",
       "    <tr>\n",
       "      <th>4</th>\n",
       "      <td>0.0</td>\n",
       "      <td>0.0</td>\n",
       "      <td>0.0</td>\n",
       "    </tr>\n",
       "    <tr>\n",
       "      <th>5</th>\n",
       "      <td>-1.0</td>\n",
       "      <td>1.0</td>\n",
       "      <td>-2.0</td>\n",
       "    </tr>\n",
       "  </tbody>\n",
       "</table>\n",
       "</div>"
      ],
      "text/plain": [
       "    v1   v2   v3\n",
       "0  NaN  NaN  NaN\n",
       "1 -1.0  0.0 -1.0\n",
       "2  1.0  1.0  0.0\n",
       "3  0.0 -2.0  1.0\n",
       "4  0.0  0.0  0.0\n",
       "5 -1.0  1.0 -2.0"
      ]
     },
     "execution_count": 53,
     "metadata": {},
     "output_type": "execute_result"
    }
   ],
   "source": [
    "df_view-df_view.shift(1)"
   ]
  }
 ],
 "metadata": {
  "kernelspec": {
   "display_name": "Python 3",
   "language": "python",
   "name": "python3"
  },
  "language_info": {
   "codemirror_mode": {
    "name": "ipython",
    "version": 3
   },
   "file_extension": ".py",
   "mimetype": "text/x-python",
   "name": "python",
   "nbconvert_exporter": "python",
   "pygments_lexer": "ipython3",
   "version": "3.7.4"
  }
 },
 "nbformat": 4,
 "nbformat_minor": 4
}
